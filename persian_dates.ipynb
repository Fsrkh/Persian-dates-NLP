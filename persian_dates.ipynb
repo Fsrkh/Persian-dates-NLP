{
  "nbformat": 4,
  "nbformat_minor": 0,
  "metadata": {
    "colab": {
      "provenance": [],
      "authorship_tag": "ABX9TyOpQ11eU5DwtvnqeKkUgnql",
      "include_colab_link": true
    },
    "kernelspec": {
      "name": "python3",
      "display_name": "Python 3"
    },
    "language_info": {
      "name": "python"
    }
  },
  "cells": [
    {
      "cell_type": "markdown",
      "metadata": {
        "id": "view-in-github",
        "colab_type": "text"
      },
      "source": [
        "<a href=\"https://colab.research.google.com/github/Fsrkh/Persian-dates-NLP/blob/main/persian_dates.ipynb\" target=\"_parent\"><img src=\"https://colab.research.google.com/assets/colab-badge.svg\" alt=\"Open In Colab\"/></a>"
      ]
    },
    {
      "cell_type": "code",
      "execution_count": 72,
      "metadata": {
        "id": "S-2AiMw0NYpx"
      },
      "outputs": [],
      "source": [
        "import pandas as pd\n",
        "from hazm import *\n",
        "import numpy as np\n",
        "from sklearn.model_selection import train_test_split\n",
        "from sklearn.preprocessing import LabelEncoder\n",
        "from tensorflow.keras.preprocessing.text import Tokenizer\n",
        "from tensorflow.keras.preprocessing.sequence import pad_sequences\n",
        "from tensorflow.keras.models import Sequential\n",
        "from tensorflow.keras.layers import Embedding, Bidirectional, LSTM, Dropout, Dense, BatchNormalization\n",
        "from keras.regularizers import l2\n",
        "from tensorflow.keras.optimizers import Adam\n",
        "from sklearn.utils.class_weight import compute_class_weight # Import the necessary function\n",
        "import tensorflow as tf\n",
        "from tensorflow.keras.callbacks import ReduceLROnPlateau\n",
        "from tensorflow.keras.callbacks import EarlyStopping\n",
        "import re"
      ]
    },
    {
      "cell_type": "markdown",
      "source": [
        "Import data"
      ],
      "metadata": {
        "id": "FqEq68ArbkcP"
      }
    },
    {
      "cell_type": "code",
      "source": [
        "data = pd.read_csv('dates.csv')\n",
        "data.head()"
      ],
      "metadata": {
        "colab": {
          "base_uri": "https://localhost:8080/",
          "height": 486
        },
        "id": "Z1HSouugbmZv",
        "outputId": "e1257096-adea-4990-dc92-87603d35c74d"
      },
      "execution_count": 73,
      "outputs": [
        {
          "output_type": "execute_result",
          "data": {
            "text/plain": [
              "  Formal Date                 Informal Date 1                Informal Date 2  \\\n",
              "0  1400/01/01       اول فروردین هزار و چهارصد       یک فروردین هزار و چهارصد   \n",
              "1  1400/02/10      دهم اردیبهشت هزار و چهارصد      ده اردیبهشت هزار و چهارصد   \n",
              "2  1401/03/05   پنجم خرداد هزار و چهارصد و یک   پنج خرداد هزار و چهارصد و یک   \n",
              "3  1401/04/15  پانزدهم تیر هزار و چهارصد و یک  پانزده تیر هزار و چهارصد و یک   \n",
              "4  1402/05/20  بیستم مرداد هزار و چهارصد و دو  بیست مرداد هزار و چهارصد و دو   \n",
              "\n",
              "    Informal Date 3   Informal Date 4    Informal Date 5    Informal Date 6  \\\n",
              "0   یک فروردین ۱۴۰۰   فروردین یک ۱۴۰۰   اول فروردین ۱۴۰۰   یکِ فروردین ۱۴۰۰   \n",
              "1  ده اردیبهشت ۱۴۰۰  اردیبهشت ده ۱۴۰۰  دهم اردیبهشت ۱۴۰۰  دهِ اردیبهشت ۱۴۰۰   \n",
              "2    پنج خرداد ۱۴۰۱    خرداد پنج ۱۴۰۱    پنجم خرداد ۱۴۰۱    پنجِ خرداد ۱۴۰۱   \n",
              "3   پانزده تیر ۱۴۰۱   تیر پانزده ۱۴۰۱   پانزدهم تیر ۱۴۰۱   پانزدهِ تیر ۱۴۰۱   \n",
              "4   بیست مرداد ۱۴۰۲   مرداد بیست ۱۴۰۲   بیستم مرداد ۱۴۰۲   بیستِ مرداد ۱۴۰۲   \n",
              "\n",
              "         Informal Date 7       Informal Date 8   Informal Date 9  \n",
              "0       یکم فروردین ۱۴۰۰  اول فروردین ماه ۱۴۰۰  فروردینِ یک ۱۴۰۰  \n",
              "1  دهم اردیبهشت ماه ۱۴۰۰     اردیبهشتِ ده ۱۴۰۰  ده اردیبهشت ۱۴۰۰  \n",
              "2    پنجم خرداد ماه ۱۴۰۱       خردادِ پنج ۱۴۰۱    پنج خرداد ۱۴۰۱  \n",
              "3   پانزدهم تیر ماه ۱۴۰۱      تیرِ پانزده ۱۴۰۱   پانزده تیر ۱۴۰۱  \n",
              "4   بیستم مرداد ماه ۱۴۰۲      مردادِ بیست ۱۴۰۲   بیست مرداد ۱۴۰۲  "
            ],
            "text/html": [
              "\n",
              "  <div id=\"df-20d03c6e-c08f-4eca-8a6c-8ff6227e7268\" class=\"colab-df-container\">\n",
              "    <div>\n",
              "<style scoped>\n",
              "    .dataframe tbody tr th:only-of-type {\n",
              "        vertical-align: middle;\n",
              "    }\n",
              "\n",
              "    .dataframe tbody tr th {\n",
              "        vertical-align: top;\n",
              "    }\n",
              "\n",
              "    .dataframe thead th {\n",
              "        text-align: right;\n",
              "    }\n",
              "</style>\n",
              "<table border=\"1\" class=\"dataframe\">\n",
              "  <thead>\n",
              "    <tr style=\"text-align: right;\">\n",
              "      <th></th>\n",
              "      <th>Formal Date</th>\n",
              "      <th>Informal Date 1</th>\n",
              "      <th>Informal Date 2</th>\n",
              "      <th>Informal Date 3</th>\n",
              "      <th>Informal Date 4</th>\n",
              "      <th>Informal Date 5</th>\n",
              "      <th>Informal Date 6</th>\n",
              "      <th>Informal Date 7</th>\n",
              "      <th>Informal Date 8</th>\n",
              "      <th>Informal Date 9</th>\n",
              "    </tr>\n",
              "  </thead>\n",
              "  <tbody>\n",
              "    <tr>\n",
              "      <th>0</th>\n",
              "      <td>1400/01/01</td>\n",
              "      <td>اول فروردین هزار و چهارصد</td>\n",
              "      <td>یک فروردین هزار و چهارصد</td>\n",
              "      <td>یک فروردین ۱۴۰۰</td>\n",
              "      <td>فروردین یک ۱۴۰۰</td>\n",
              "      <td>اول فروردین ۱۴۰۰</td>\n",
              "      <td>یکِ فروردین ۱۴۰۰</td>\n",
              "      <td>یکم فروردین ۱۴۰۰</td>\n",
              "      <td>اول فروردین ماه ۱۴۰۰</td>\n",
              "      <td>فروردینِ یک ۱۴۰۰</td>\n",
              "    </tr>\n",
              "    <tr>\n",
              "      <th>1</th>\n",
              "      <td>1400/02/10</td>\n",
              "      <td>دهم اردیبهشت هزار و چهارصد</td>\n",
              "      <td>ده اردیبهشت هزار و چهارصد</td>\n",
              "      <td>ده اردیبهشت ۱۴۰۰</td>\n",
              "      <td>اردیبهشت ده ۱۴۰۰</td>\n",
              "      <td>دهم اردیبهشت ۱۴۰۰</td>\n",
              "      <td>دهِ اردیبهشت ۱۴۰۰</td>\n",
              "      <td>دهم اردیبهشت ماه ۱۴۰۰</td>\n",
              "      <td>اردیبهشتِ ده ۱۴۰۰</td>\n",
              "      <td>ده اردیبهشت ۱۴۰۰</td>\n",
              "    </tr>\n",
              "    <tr>\n",
              "      <th>2</th>\n",
              "      <td>1401/03/05</td>\n",
              "      <td>پنجم خرداد هزار و چهارصد و یک</td>\n",
              "      <td>پنج خرداد هزار و چهارصد و یک</td>\n",
              "      <td>پنج خرداد ۱۴۰۱</td>\n",
              "      <td>خرداد پنج ۱۴۰۱</td>\n",
              "      <td>پنجم خرداد ۱۴۰۱</td>\n",
              "      <td>پنجِ خرداد ۱۴۰۱</td>\n",
              "      <td>پنجم خرداد ماه ۱۴۰۱</td>\n",
              "      <td>خردادِ پنج ۱۴۰۱</td>\n",
              "      <td>پنج خرداد ۱۴۰۱</td>\n",
              "    </tr>\n",
              "    <tr>\n",
              "      <th>3</th>\n",
              "      <td>1401/04/15</td>\n",
              "      <td>پانزدهم تیر هزار و چهارصد و یک</td>\n",
              "      <td>پانزده تیر هزار و چهارصد و یک</td>\n",
              "      <td>پانزده تیر ۱۴۰۱</td>\n",
              "      <td>تیر پانزده ۱۴۰۱</td>\n",
              "      <td>پانزدهم تیر ۱۴۰۱</td>\n",
              "      <td>پانزدهِ تیر ۱۴۰۱</td>\n",
              "      <td>پانزدهم تیر ماه ۱۴۰۱</td>\n",
              "      <td>تیرِ پانزده ۱۴۰۱</td>\n",
              "      <td>پانزده تیر ۱۴۰۱</td>\n",
              "    </tr>\n",
              "    <tr>\n",
              "      <th>4</th>\n",
              "      <td>1402/05/20</td>\n",
              "      <td>بیستم مرداد هزار و چهارصد و دو</td>\n",
              "      <td>بیست مرداد هزار و چهارصد و دو</td>\n",
              "      <td>بیست مرداد ۱۴۰۲</td>\n",
              "      <td>مرداد بیست ۱۴۰۲</td>\n",
              "      <td>بیستم مرداد ۱۴۰۲</td>\n",
              "      <td>بیستِ مرداد ۱۴۰۲</td>\n",
              "      <td>بیستم مرداد ماه ۱۴۰۲</td>\n",
              "      <td>مردادِ بیست ۱۴۰۲</td>\n",
              "      <td>بیست مرداد ۱۴۰۲</td>\n",
              "    </tr>\n",
              "  </tbody>\n",
              "</table>\n",
              "</div>\n",
              "    <div class=\"colab-df-buttons\">\n",
              "\n",
              "  <div class=\"colab-df-container\">\n",
              "    <button class=\"colab-df-convert\" onclick=\"convertToInteractive('df-20d03c6e-c08f-4eca-8a6c-8ff6227e7268')\"\n",
              "            title=\"Convert this dataframe to an interactive table.\"\n",
              "            style=\"display:none;\">\n",
              "\n",
              "  <svg xmlns=\"http://www.w3.org/2000/svg\" height=\"24px\" viewBox=\"0 -960 960 960\">\n",
              "    <path d=\"M120-120v-720h720v720H120Zm60-500h600v-160H180v160Zm220 220h160v-160H400v160Zm0 220h160v-160H400v160ZM180-400h160v-160H180v160Zm440 0h160v-160H620v160ZM180-180h160v-160H180v160Zm440 0h160v-160H620v160Z\"/>\n",
              "  </svg>\n",
              "    </button>\n",
              "\n",
              "  <style>\n",
              "    .colab-df-container {\n",
              "      display:flex;\n",
              "      gap: 12px;\n",
              "    }\n",
              "\n",
              "    .colab-df-convert {\n",
              "      background-color: #E8F0FE;\n",
              "      border: none;\n",
              "      border-radius: 50%;\n",
              "      cursor: pointer;\n",
              "      display: none;\n",
              "      fill: #1967D2;\n",
              "      height: 32px;\n",
              "      padding: 0 0 0 0;\n",
              "      width: 32px;\n",
              "    }\n",
              "\n",
              "    .colab-df-convert:hover {\n",
              "      background-color: #E2EBFA;\n",
              "      box-shadow: 0px 1px 2px rgba(60, 64, 67, 0.3), 0px 1px 3px 1px rgba(60, 64, 67, 0.15);\n",
              "      fill: #174EA6;\n",
              "    }\n",
              "\n",
              "    .colab-df-buttons div {\n",
              "      margin-bottom: 4px;\n",
              "    }\n",
              "\n",
              "    [theme=dark] .colab-df-convert {\n",
              "      background-color: #3B4455;\n",
              "      fill: #D2E3FC;\n",
              "    }\n",
              "\n",
              "    [theme=dark] .colab-df-convert:hover {\n",
              "      background-color: #434B5C;\n",
              "      box-shadow: 0px 1px 3px 1px rgba(0, 0, 0, 0.15);\n",
              "      filter: drop-shadow(0px 1px 2px rgba(0, 0, 0, 0.3));\n",
              "      fill: #FFFFFF;\n",
              "    }\n",
              "  </style>\n",
              "\n",
              "    <script>\n",
              "      const buttonEl =\n",
              "        document.querySelector('#df-20d03c6e-c08f-4eca-8a6c-8ff6227e7268 button.colab-df-convert');\n",
              "      buttonEl.style.display =\n",
              "        google.colab.kernel.accessAllowed ? 'block' : 'none';\n",
              "\n",
              "      async function convertToInteractive(key) {\n",
              "        const element = document.querySelector('#df-20d03c6e-c08f-4eca-8a6c-8ff6227e7268');\n",
              "        const dataTable =\n",
              "          await google.colab.kernel.invokeFunction('convertToInteractive',\n",
              "                                                    [key], {});\n",
              "        if (!dataTable) return;\n",
              "\n",
              "        const docLinkHtml = 'Like what you see? Visit the ' +\n",
              "          '<a target=\"_blank\" href=https://colab.research.google.com/notebooks/data_table.ipynb>data table notebook</a>'\n",
              "          + ' to learn more about interactive tables.';\n",
              "        element.innerHTML = '';\n",
              "        dataTable['output_type'] = 'display_data';\n",
              "        await google.colab.output.renderOutput(dataTable, element);\n",
              "        const docLink = document.createElement('div');\n",
              "        docLink.innerHTML = docLinkHtml;\n",
              "        element.appendChild(docLink);\n",
              "      }\n",
              "    </script>\n",
              "  </div>\n",
              "\n",
              "\n",
              "<div id=\"df-f0414c79-c0bf-472c-842c-0ad7af71c178\">\n",
              "  <button class=\"colab-df-quickchart\" onclick=\"quickchart('df-f0414c79-c0bf-472c-842c-0ad7af71c178')\"\n",
              "            title=\"Suggest charts\"\n",
              "            style=\"display:none;\">\n",
              "\n",
              "<svg xmlns=\"http://www.w3.org/2000/svg\" height=\"24px\"viewBox=\"0 0 24 24\"\n",
              "     width=\"24px\">\n",
              "    <g>\n",
              "        <path d=\"M19 3H5c-1.1 0-2 .9-2 2v14c0 1.1.9 2 2 2h14c1.1 0 2-.9 2-2V5c0-1.1-.9-2-2-2zM9 17H7v-7h2v7zm4 0h-2V7h2v10zm4 0h-2v-4h2v4z\"/>\n",
              "    </g>\n",
              "</svg>\n",
              "  </button>\n",
              "\n",
              "<style>\n",
              "  .colab-df-quickchart {\n",
              "      --bg-color: #E8F0FE;\n",
              "      --fill-color: #1967D2;\n",
              "      --hover-bg-color: #E2EBFA;\n",
              "      --hover-fill-color: #174EA6;\n",
              "      --disabled-fill-color: #AAA;\n",
              "      --disabled-bg-color: #DDD;\n",
              "  }\n",
              "\n",
              "  [theme=dark] .colab-df-quickchart {\n",
              "      --bg-color: #3B4455;\n",
              "      --fill-color: #D2E3FC;\n",
              "      --hover-bg-color: #434B5C;\n",
              "      --hover-fill-color: #FFFFFF;\n",
              "      --disabled-bg-color: #3B4455;\n",
              "      --disabled-fill-color: #666;\n",
              "  }\n",
              "\n",
              "  .colab-df-quickchart {\n",
              "    background-color: var(--bg-color);\n",
              "    border: none;\n",
              "    border-radius: 50%;\n",
              "    cursor: pointer;\n",
              "    display: none;\n",
              "    fill: var(--fill-color);\n",
              "    height: 32px;\n",
              "    padding: 0;\n",
              "    width: 32px;\n",
              "  }\n",
              "\n",
              "  .colab-df-quickchart:hover {\n",
              "    background-color: var(--hover-bg-color);\n",
              "    box-shadow: 0 1px 2px rgba(60, 64, 67, 0.3), 0 1px 3px 1px rgba(60, 64, 67, 0.15);\n",
              "    fill: var(--button-hover-fill-color);\n",
              "  }\n",
              "\n",
              "  .colab-df-quickchart-complete:disabled,\n",
              "  .colab-df-quickchart-complete:disabled:hover {\n",
              "    background-color: var(--disabled-bg-color);\n",
              "    fill: var(--disabled-fill-color);\n",
              "    box-shadow: none;\n",
              "  }\n",
              "\n",
              "  .colab-df-spinner {\n",
              "    border: 2px solid var(--fill-color);\n",
              "    border-color: transparent;\n",
              "    border-bottom-color: var(--fill-color);\n",
              "    animation:\n",
              "      spin 1s steps(1) infinite;\n",
              "  }\n",
              "\n",
              "  @keyframes spin {\n",
              "    0% {\n",
              "      border-color: transparent;\n",
              "      border-bottom-color: var(--fill-color);\n",
              "      border-left-color: var(--fill-color);\n",
              "    }\n",
              "    20% {\n",
              "      border-color: transparent;\n",
              "      border-left-color: var(--fill-color);\n",
              "      border-top-color: var(--fill-color);\n",
              "    }\n",
              "    30% {\n",
              "      border-color: transparent;\n",
              "      border-left-color: var(--fill-color);\n",
              "      border-top-color: var(--fill-color);\n",
              "      border-right-color: var(--fill-color);\n",
              "    }\n",
              "    40% {\n",
              "      border-color: transparent;\n",
              "      border-right-color: var(--fill-color);\n",
              "      border-top-color: var(--fill-color);\n",
              "    }\n",
              "    60% {\n",
              "      border-color: transparent;\n",
              "      border-right-color: var(--fill-color);\n",
              "    }\n",
              "    80% {\n",
              "      border-color: transparent;\n",
              "      border-right-color: var(--fill-color);\n",
              "      border-bottom-color: var(--fill-color);\n",
              "    }\n",
              "    90% {\n",
              "      border-color: transparent;\n",
              "      border-bottom-color: var(--fill-color);\n",
              "    }\n",
              "  }\n",
              "</style>\n",
              "\n",
              "  <script>\n",
              "    async function quickchart(key) {\n",
              "      const quickchartButtonEl =\n",
              "        document.querySelector('#' + key + ' button');\n",
              "      quickchartButtonEl.disabled = true;  // To prevent multiple clicks.\n",
              "      quickchartButtonEl.classList.add('colab-df-spinner');\n",
              "      try {\n",
              "        const charts = await google.colab.kernel.invokeFunction(\n",
              "            'suggestCharts', [key], {});\n",
              "      } catch (error) {\n",
              "        console.error('Error during call to suggestCharts:', error);\n",
              "      }\n",
              "      quickchartButtonEl.classList.remove('colab-df-spinner');\n",
              "      quickchartButtonEl.classList.add('colab-df-quickchart-complete');\n",
              "    }\n",
              "    (() => {\n",
              "      let quickchartButtonEl =\n",
              "        document.querySelector('#df-f0414c79-c0bf-472c-842c-0ad7af71c178 button');\n",
              "      quickchartButtonEl.style.display =\n",
              "        google.colab.kernel.accessAllowed ? 'block' : 'none';\n",
              "    })();\n",
              "  </script>\n",
              "</div>\n",
              "\n",
              "    </div>\n",
              "  </div>\n"
            ],
            "application/vnd.google.colaboratory.intrinsic+json": {
              "type": "dataframe",
              "variable_name": "data",
              "summary": "{\n  \"name\": \"data\",\n  \"rows\": 761,\n  \"fields\": [\n    {\n      \"column\": \"Formal Date\",\n      \"properties\": {\n        \"dtype\": \"string\",\n        \"num_unique_values\": 761,\n        \"samples\": [\n          \"1274/09/18\",\n          \"1278/09/30\",\n          \"1349/02/15\"\n        ],\n        \"semantic_type\": \"\",\n        \"description\": \"\"\n      }\n    },\n    {\n      \"column\": \"Informal Date 1\",\n      \"properties\": {\n        \"dtype\": \"string\",\n        \"num_unique_values\": 761,\n        \"samples\": [\n          \"\\u0647\\u062c\\u062f\\u0647 \\u0622\\u0630\\u0631 \\u0647\\u0632\\u0627\\u0631 \\u0648 \\u062f\\u0648\\u06cc\\u0633\\u062a \\u0648 \\u0647\\u0641\\u062a\\u0627\\u062f \\u0648 \\u0686\\u0647\\u0627\\u0631\",\n          \"\\u0633\\u06cc\\u200c\\u0627\\u0645 \\u0622\\u0630\\u0631 \\u0647\\u0632\\u0627\\u0631 \\u0648 \\u062f\\u0648\\u06cc\\u0633\\u062a \\u0648 \\u0647\\u0641\\u062a\\u0627\\u062f \\u0648 \\u0647\\u0634\\u062a\",\n          \"\\u067e\\u0627\\u0646\\u0632\\u062f\\u0647\\u0645 \\u0627\\u0631\\u062f\\u06cc\\u0628\\u0647\\u0634\\u062a \\u0647\\u0632\\u0627\\u0631 \\u0648 \\u0633\\u06cc\\u0635\\u062f \\u0648 \\u0628\\u06cc\\u0633\\u062a \\u0648 \\u0646\\u0647\"\n        ],\n        \"semantic_type\": \"\",\n        \"description\": \"\"\n      }\n    },\n    {\n      \"column\": \"Informal Date 2\",\n      \"properties\": {\n        \"dtype\": \"string\",\n        \"num_unique_values\": 761,\n        \"samples\": [\n          \"\\u0647\\u062c\\u062f\\u0647 \\u0622\\u0630\\u0631 \\u06f1\\u06f2\\u06f7\\u06f4\",\n          \"\\u0633\\u06cc \\u0622\\u0630\\u0631 \\u06f1\\u06f2\\u06f7\\u06f8\",\n          \"\\u067e\\u0627\\u0646\\u0632\\u062f\\u0647 \\u0627\\u0631\\u062f\\u06cc\\u0628\\u0647\\u0634\\u062a \\u0647\\u0632\\u0627\\u0631 \\u0648 \\u0633\\u06cc\\u0635\\u062f \\u0648 \\u0628\\u06cc\\u0633\\u062a \\u0648 \\u0646\\u0647\"\n        ],\n        \"semantic_type\": \"\",\n        \"description\": \"\"\n      }\n    },\n    {\n      \"column\": \"Informal Date 3\",\n      \"properties\": {\n        \"dtype\": \"string\",\n        \"num_unique_values\": 761,\n        \"samples\": [\n          \"\\u0622\\u0630\\u0631 \\u0647\\u062c\\u062f\\u0647 \\u06f1\\u06f2\\u06f7\\u06f4\",\n          \"\\u0622\\u0630\\u0631 \\u0633\\u06cc \\u06f1\\u06f2\\u06f7\\u06f8\",\n          \"\\u067e\\u0627\\u0646\\u0632\\u062f\\u0647 \\u0627\\u0631\\u062f\\u06cc\\u0628\\u0647\\u0634\\u062a \\u06f1\\u06f3\\u06f4\\u06f9\"\n        ],\n        \"semantic_type\": \"\",\n        \"description\": \"\"\n      }\n    },\n    {\n      \"column\": \"Informal Date 4\",\n      \"properties\": {\n        \"dtype\": \"string\",\n        \"num_unique_values\": 761,\n        \"samples\": [\n          \"\\u0647\\u062c\\u062f\\u0647 \\u0622\\u0630\\u0631 \\u06f1\\u06f2\\u06f7\\u06f4\",\n          \"\\u0633\\u06cc\\u200c\\u0627\\u0645 \\u0622\\u0630\\u0631 \\u06f1\\u06f2\\u06f7\\u06f8\",\n          \"\\u0627\\u0631\\u062f\\u06cc\\u0628\\u0647\\u0634\\u062a \\u067e\\u0627\\u0646\\u0632\\u062f\\u0647 \\u06f1\\u06f3\\u06f4\\u06f9\"\n        ],\n        \"semantic_type\": \"\",\n        \"description\": \"\"\n      }\n    },\n    {\n      \"column\": \"Informal Date 5\",\n      \"properties\": {\n        \"dtype\": \"string\",\n        \"num_unique_values\": 761,\n        \"samples\": [\n          \"\\u0622\\u0630\\u0631 \\u0647\\u062c\\u062f\\u0647 \\u06f1\\u06f2\\u06f7\\u06f4\",\n          \"\\u0622\\u0630\\u0631 \\u0633\\u06cc \\u06f1\\u06f2\\u06f7\\u06f8\",\n          \"\\u067e\\u0627\\u0646\\u0632\\u062f\\u0647\\u0645 \\u0627\\u0631\\u062f\\u06cc\\u0628\\u0647\\u0634\\u062a \\u06f1\\u06f3\\u06f4\\u06f9\"\n        ],\n        \"semantic_type\": \"\",\n        \"description\": \"\"\n      }\n    },\n    {\n      \"column\": \"Informal Date 6\",\n      \"properties\": {\n        \"dtype\": \"category\",\n        \"num_unique_values\": 138,\n        \"samples\": [\n          \"\\u0628\\u06cc\\u0633\\u062a\\u0650 \\u0634\\u0647\\u0631\\u06cc\\u0648\\u0631 \\u06f1\\u06f3\\u06f4\\u06f1\",\n          \"\\u062f\\u0647\\u0650 \\u062f\\u06cc \\u06f1\\u06f3\\u06f5\\u06f7\",\n          \"\\u067e\\u0646\\u062c\\u0650 \\u0641\\u0631\\u0648\\u0631\\u062f\\u06cc\\u0646 \\u06f1\\u06f4\\u06f0\\u06f8\"\n        ],\n        \"semantic_type\": \"\",\n        \"description\": \"\"\n      }\n    },\n    {\n      \"column\": \"Informal Date 7\",\n      \"properties\": {\n        \"dtype\": \"category\",\n        \"num_unique_values\": 138,\n        \"samples\": [\n          \"\\u0628\\u06cc\\u0633\\u062a\\u0645 \\u0634\\u0647\\u0631\\u06cc\\u0648\\u0631 \\u0645\\u0627\\u0647 \\u06f1\\u06f3\\u06f4\\u06f1\",\n          \"\\u062f\\u0647\\u0645 \\u062f\\u06cc \\u0645\\u0627\\u0647 \\u06f1\\u06f3\\u06f5\\u06f7\",\n          \"\\u067e\\u0646\\u062c\\u0645 \\u0641\\u0631\\u0648\\u0631\\u062f\\u06cc\\u0646 \\u0645\\u0627\\u0647 \\u06f1\\u06f4\\u06f0\\u06f8\"\n        ],\n        \"semantic_type\": \"\",\n        \"description\": \"\"\n      }\n    },\n    {\n      \"column\": \"Informal Date 8\",\n      \"properties\": {\n        \"dtype\": \"category\",\n        \"num_unique_values\": 138,\n        \"samples\": [\n          \"\\u0634\\u0647\\u0631\\u06cc\\u0648\\u0631\\u0650 \\u0628\\u06cc\\u0633\\u062a \\u06f1\\u06f3\\u06f4\\u06f1\",\n          \"\\u062f\\u06cc\\u0650 \\u062f\\u0647 \\u06f1\\u06f3\\u06f5\\u06f7\",\n          \"\\u0641\\u0631\\u0648\\u0631\\u062f\\u06cc\\u0646\\u0650 \\u067e\\u0646\\u062c \\u06f1\\u06f4\\u06f0\\u06f8\"\n        ],\n        \"semantic_type\": \"\",\n        \"description\": \"\"\n      }\n    },\n    {\n      \"column\": \"Informal Date 9\",\n      \"properties\": {\n        \"dtype\": \"category\",\n        \"num_unique_values\": 138,\n        \"samples\": [\n          \"\\u0628\\u06cc\\u0633\\u062a \\u0634\\u0647\\u0631\\u06cc\\u0648\\u0631 \\u06f1\\u06f3\\u06f4\\u06f1\",\n          \"\\u062f\\u0647 \\u062f\\u06cc \\u06f1\\u06f3\\u06f5\\u06f7\",\n          \"\\u067e\\u0646\\u062c \\u0641\\u0631\\u0648\\u0631\\u062f\\u06cc\\u0646 \\u06f1\\u06f4\\u06f0\\u06f8\"\n        ],\n        \"semantic_type\": \"\",\n        \"description\": \"\"\n      }\n    }\n  ]\n}"
            }
          },
          "metadata": {},
          "execution_count": 73
        }
      ]
    },
    {
      "cell_type": "code",
      "source": [
        "missing_values = data.isnull().sum()\n",
        "print(\"Missing values in each column:\\n\", missing_values)"
      ],
      "metadata": {
        "colab": {
          "base_uri": "https://localhost:8080/"
        },
        "id": "SGx-2ZuaeOVR",
        "outputId": "e38d7fe0-50ac-46b1-d32f-72d947b0da3f"
      },
      "execution_count": 74,
      "outputs": [
        {
          "output_type": "stream",
          "name": "stdout",
          "text": [
            "Missing values in each column:\n",
            " Formal Date          0\n",
            "Informal Date 1      0\n",
            "Informal Date 2      0\n",
            "Informal Date 3      0\n",
            "Informal Date 4      0\n",
            "Informal Date 5      0\n",
            "Informal Date 6    623\n",
            "Informal Date 7    623\n",
            "Informal Date 8    623\n",
            "Informal Date 9    623\n",
            "dtype: int64\n"
          ]
        }
      ]
    },
    {
      "cell_type": "code",
      "source": [
        "data['Informal Dates'] = data.iloc[:, 1:].apply(lambda x: ' '.join(x.dropna()), axis=1)\n",
        "\n",
        "y = data['Formal Date']\n",
        "\n",
        "X = data['Informal Dates']"
      ],
      "metadata": {
        "id": "J2uJJzhueCey"
      },
      "execution_count": 75,
      "outputs": []
    },
    {
      "cell_type": "code",
      "source": [
        "def preprocess_text(text):\n",
        "    text = text.lower()\n",
        "    text = re.sub(r'\\s+', ' ', text)\n",
        "    text = re.sub(r'[^\\w\\s]', '', text)\n",
        "    text = text.strip()\n",
        "    return text"
      ],
      "metadata": {
        "id": "yH43bYZYigXX"
      },
      "execution_count": 76,
      "outputs": []
    },
    {
      "cell_type": "code",
      "source": [
        "data['Informal Dates'] = data['Informal Dates'].apply(preprocess_text)"
      ],
      "metadata": {
        "id": "AxcKitlOiywV"
      },
      "execution_count": 77,
      "outputs": []
    },
    {
      "cell_type": "code",
      "source": [
        "y.shape"
      ],
      "metadata": {
        "colab": {
          "base_uri": "https://localhost:8080/"
        },
        "id": "ahjVn3J5bqYy",
        "outputId": "9f238b3a-8206-4686-af4d-a9014faef21e"
      },
      "execution_count": 78,
      "outputs": [
        {
          "output_type": "execute_result",
          "data": {
            "text/plain": [
              "(761,)"
            ]
          },
          "metadata": {},
          "execution_count": 78
        }
      ]
    },
    {
      "cell_type": "code",
      "source": [
        "X.shape"
      ],
      "metadata": {
        "colab": {
          "base_uri": "https://localhost:8080/"
        },
        "id": "eP4q0_iSbt-O",
        "outputId": "fc0f63c5-cd15-400e-b7ea-17354b8111a3"
      },
      "execution_count": 79,
      "outputs": [
        {
          "output_type": "execute_result",
          "data": {
            "text/plain": [
              "(761,)"
            ]
          },
          "metadata": {},
          "execution_count": 79
        }
      ]
    },
    {
      "cell_type": "markdown",
      "source": [
        "#Tokenazation and Encoding"
      ],
      "metadata": {
        "id": "6psFwSS5fUwH"
      }
    },
    {
      "cell_type": "code",
      "source": [
        "hazm_tokenizer = WordTokenizer(replace_numbers=False, replace_ids=True)\n",
        "X = X.apply(lambda v: hazm_tokenizer.tokenize(v))\n",
        "X.head()"
      ],
      "metadata": {
        "id": "KWng1mkvek11",
        "colab": {
          "base_uri": "https://localhost:8080/",
          "height": 241
        },
        "outputId": "dafcfa0d-337d-432b-c8ba-48980da7fb39"
      },
      "execution_count": 80,
      "outputs": [
        {
          "output_type": "execute_result",
          "data": {
            "text/plain": [
              "0    [اول, فروردین, هزار, و, چهارصد, یک, فروردین, ه...\n",
              "1    [دهم, اردیبهشت, هزار, و, چهارصد, ده, اردیبهشت,...\n",
              "2    [پنجم, خرداد, هزار, و, چهارصد, و, یک, پنج, خرد...\n",
              "3    [پانزدهم, تیر, هزار, و, چهارصد, و, یک, پانزده,...\n",
              "4    [بیستم, مرداد, هزار, و, چهارصد, و, دو, بیست, م...\n",
              "Name: Informal Dates, dtype: object"
            ],
            "text/html": [
              "<div>\n",
              "<style scoped>\n",
              "    .dataframe tbody tr th:only-of-type {\n",
              "        vertical-align: middle;\n",
              "    }\n",
              "\n",
              "    .dataframe tbody tr th {\n",
              "        vertical-align: top;\n",
              "    }\n",
              "\n",
              "    .dataframe thead th {\n",
              "        text-align: right;\n",
              "    }\n",
              "</style>\n",
              "<table border=\"1\" class=\"dataframe\">\n",
              "  <thead>\n",
              "    <tr style=\"text-align: right;\">\n",
              "      <th></th>\n",
              "      <th>Informal Dates</th>\n",
              "    </tr>\n",
              "  </thead>\n",
              "  <tbody>\n",
              "    <tr>\n",
              "      <th>0</th>\n",
              "      <td>[اول, فروردین, هزار, و, چهارصد, یک, فروردین, ه...</td>\n",
              "    </tr>\n",
              "    <tr>\n",
              "      <th>1</th>\n",
              "      <td>[دهم, اردیبهشت, هزار, و, چهارصد, ده, اردیبهشت,...</td>\n",
              "    </tr>\n",
              "    <tr>\n",
              "      <th>2</th>\n",
              "      <td>[پنجم, خرداد, هزار, و, چهارصد, و, یک, پنج, خرد...</td>\n",
              "    </tr>\n",
              "    <tr>\n",
              "      <th>3</th>\n",
              "      <td>[پانزدهم, تیر, هزار, و, چهارصد, و, یک, پانزده,...</td>\n",
              "    </tr>\n",
              "    <tr>\n",
              "      <th>4</th>\n",
              "      <td>[بیستم, مرداد, هزار, و, چهارصد, و, دو, بیست, م...</td>\n",
              "    </tr>\n",
              "  </tbody>\n",
              "</table>\n",
              "</div><br><label><b>dtype:</b> object</label>"
            ]
          },
          "metadata": {},
          "execution_count": 80
        }
      ]
    },
    {
      "cell_type": "code",
      "source": [
        "hazm_lemmatizer = Lemmatizer()\n",
        "X = X.apply(lambda v: [hazm_lemmatizer.lemmatize(w) for w in v])\n",
        "X.head()"
      ],
      "metadata": {
        "colab": {
          "base_uri": "https://localhost:8080/",
          "height": 241
        },
        "id": "KOq6nA-5CdAd",
        "outputId": "2de10206-3c26-43aa-86e1-62e8629ab8a7"
      },
      "execution_count": 81,
      "outputs": [
        {
          "output_type": "execute_result",
          "data": {
            "text/plain": [
              "0    [اول, فروردین, هزار, و, چهارصد, یک, فروردین, ه...\n",
              "1    [دهم, اردیبهشت, هزار, و, چهارصد, ده, اردیبهشت,...\n",
              "2    [پنجم, خرداد, هزار, و, چهارصد, و, یک, پنج, خرد...\n",
              "3    [پانزدهم, تیر, هزار, و, چهارصد, و, یک, پانزده,...\n",
              "4    [بیستم, مرداد, هزار, و, چهارصد, و, دو, بیست, م...\n",
              "Name: Informal Dates, dtype: object"
            ],
            "text/html": [
              "<div>\n",
              "<style scoped>\n",
              "    .dataframe tbody tr th:only-of-type {\n",
              "        vertical-align: middle;\n",
              "    }\n",
              "\n",
              "    .dataframe tbody tr th {\n",
              "        vertical-align: top;\n",
              "    }\n",
              "\n",
              "    .dataframe thead th {\n",
              "        text-align: right;\n",
              "    }\n",
              "</style>\n",
              "<table border=\"1\" class=\"dataframe\">\n",
              "  <thead>\n",
              "    <tr style=\"text-align: right;\">\n",
              "      <th></th>\n",
              "      <th>Informal Dates</th>\n",
              "    </tr>\n",
              "  </thead>\n",
              "  <tbody>\n",
              "    <tr>\n",
              "      <th>0</th>\n",
              "      <td>[اول, فروردین, هزار, و, چهارصد, یک, فروردین, ه...</td>\n",
              "    </tr>\n",
              "    <tr>\n",
              "      <th>1</th>\n",
              "      <td>[دهم, اردیبهشت, هزار, و, چهارصد, ده, اردیبهشت,...</td>\n",
              "    </tr>\n",
              "    <tr>\n",
              "      <th>2</th>\n",
              "      <td>[پنجم, خرداد, هزار, و, چهارصد, و, یک, پنج, خرد...</td>\n",
              "    </tr>\n",
              "    <tr>\n",
              "      <th>3</th>\n",
              "      <td>[پانزدهم, تیر, هزار, و, چهارصد, و, یک, پانزده,...</td>\n",
              "    </tr>\n",
              "    <tr>\n",
              "      <th>4</th>\n",
              "      <td>[بیستم, مرداد, هزار, و, چهارصد, و, دو, بیست, م...</td>\n",
              "    </tr>\n",
              "  </tbody>\n",
              "</table>\n",
              "</div><br><label><b>dtype:</b> object</label>"
            ]
          },
          "metadata": {},
          "execution_count": 81
        }
      ]
    },
    {
      "cell_type": "code",
      "source": [
        "X = X.apply(lambda v: ' '.join(v))\n",
        "X = list(X)\n",
        "X[:5]"
      ],
      "metadata": {
        "colab": {
          "base_uri": "https://localhost:8080/"
        },
        "id": "jyQPQaDMCxqx",
        "outputId": "e39d64c8-a8d2-4705-cb1c-cf8e97f6a964"
      },
      "execution_count": 84,
      "outputs": [
        {
          "output_type": "execute_result",
          "data": {
            "text/plain": [
              "['فروردین هزار چهارصد فروردین هزار چهارصد فروردین ۱۴۰۰ فروردین ۱۴۰۰ فروردین ۱۴۰۰ یکِ فروردین ۱۴۰۰ یکم فروردین ۱۴۰۰ فروردین ماه ۱۴۰۰ فروردینِ ۱۴۰۰',\n",
              " 'دهم اردیبهشت هزار چهارصد ده اردیبهشت هزار چهارصد ده اردیبهشت ۱۴۰۰ اردیبهشت ده ۱۴۰۰ دهم اردیبهشت ۱۴۰۰ دهِ اردیبهشت ۱۴۰۰ دهم اردیبهشت ماه ۱۴۰۰ اردیبهشتِ ده ۱۴۰۰ ده اردیبهشت ۱۴۰۰',\n",
              " 'پنجم خرداد هزار چهارصد خرداد هزار چهارصد خرداد ۱۴۰۱ خرداد ۱۴۰۱ پنجم خرداد ۱۴۰۱ پنجِ خرداد ۱۴۰۱ پنجم خرداد ماه ۱۴۰۱ خردادِ ۱۴۰۱ خرداد ۱۴۰۱',\n",
              " 'پانزدهم تیر هزار چهارصد پانزده تیر هزار چهارصد پانزده تیر ۱۴۰۱ تیر پانزده ۱۴۰۱ پانزدهم تیر ۱۴۰۱ پانزدهِ تیر ۱۴۰۱ پانزدهم تیر ماه ۱۴۰۱ تیرِ پانزده ۱۴۰۱ پانزده تیر ۱۴۰۱',\n",
              " 'بیستم مرداد هزار چهارصد بیست مرداد هزار چهارصد بیست مرداد ۱۴۰۲ مرداد بیست ۱۴۰۲ بیستم مرداد ۱۴۰۲ بیستِ مرداد ۱۴۰۲ بیستم مرداد ماه ۱۴۰۲ مردادِ بیست ۱۴۰۲ بیست مرداد ۱۴۰۲']"
            ]
          },
          "metadata": {},
          "execution_count": 84
        }
      ]
    },
    {
      "cell_type": "code",
      "source": [
        "tokenizer = Tokenizer()\n",
        "tokenizer.fit_on_texts(X)\n",
        "X_sequences = tokenizer.texts_to_sequences(X)\n",
        "max_length = max(len(seq) for seq in X_sequences)\n",
        "X_padded = pad_sequences(X_sequences, maxlen=max_length, padding='post')"
      ],
      "metadata": {
        "id": "ucaYqyGwLAWD"
      },
      "execution_count": 98,
      "outputs": []
    },
    {
      "cell_type": "code",
      "source": [
        "label_encoder = LabelEncoder()\n",
        "y_encoded = label_encoder.fit_transform(y)"
      ],
      "metadata": {
        "id": "RMcmWKgDfSz6"
      },
      "execution_count": 93,
      "outputs": []
    },
    {
      "cell_type": "code",
      "source": [
        "X_train, X_test, y_train, y_test = train_test_split(X, y, test_size=0.15)"
      ],
      "metadata": {
        "id": "-ITfNhd2feBq"
      },
      "execution_count": 87,
      "outputs": []
    },
    {
      "cell_type": "code",
      "source": [
        "print(\"Shape of X_train:\", X_train.shape)\n",
        "print(\"Shape of y_train:\", y_train.shape)\n",
        "print(\"Shape of X_test:\", X_test.shape)\n",
        "print(\"Shape of y_test:\", y_test.shape)"
      ],
      "metadata": {
        "colab": {
          "base_uri": "https://localhost:8080/",
          "height": 193
        },
        "id": "w6j13aW7gJOu",
        "outputId": "92cf9f35-36ef-4e1a-d6ac-30fcb3bee31e"
      },
      "execution_count": 90,
      "outputs": [
        {
          "output_type": "error",
          "ename": "AttributeError",
          "evalue": "'list' object has no attribute 'shape'",
          "traceback": [
            "\u001b[0;31m---------------------------------------------------------------------------\u001b[0m",
            "\u001b[0;31mAttributeError\u001b[0m                            Traceback (most recent call last)",
            "\u001b[0;32m<ipython-input-90-aae92c3046f6>\u001b[0m in \u001b[0;36m<cell line: 1>\u001b[0;34m()\u001b[0m\n\u001b[0;32m----> 1\u001b[0;31m \u001b[0mprint\u001b[0m\u001b[0;34m(\u001b[0m\u001b[0;34m\"Shape of X_train:\"\u001b[0m\u001b[0;34m,\u001b[0m \u001b[0mX_train\u001b[0m\u001b[0;34m.\u001b[0m\u001b[0mshape\u001b[0m\u001b[0;34m)\u001b[0m\u001b[0;34m\u001b[0m\u001b[0;34m\u001b[0m\u001b[0m\n\u001b[0m\u001b[1;32m      2\u001b[0m \u001b[0mprint\u001b[0m\u001b[0;34m(\u001b[0m\u001b[0;34m\"Shape of y_train:\"\u001b[0m\u001b[0;34m,\u001b[0m \u001b[0my_train\u001b[0m\u001b[0;34m.\u001b[0m\u001b[0mshape\u001b[0m\u001b[0;34m)\u001b[0m\u001b[0;34m\u001b[0m\u001b[0;34m\u001b[0m\u001b[0m\n\u001b[1;32m      3\u001b[0m \u001b[0mprint\u001b[0m\u001b[0;34m(\u001b[0m\u001b[0;34m\"Shape of X_test:\"\u001b[0m\u001b[0;34m,\u001b[0m \u001b[0mX_test\u001b[0m\u001b[0;34m.\u001b[0m\u001b[0mshape\u001b[0m\u001b[0;34m)\u001b[0m\u001b[0;34m\u001b[0m\u001b[0;34m\u001b[0m\u001b[0m\n\u001b[1;32m      4\u001b[0m \u001b[0mprint\u001b[0m\u001b[0;34m(\u001b[0m\u001b[0;34m\"Shape of y_test:\"\u001b[0m\u001b[0;34m,\u001b[0m \u001b[0my_test\u001b[0m\u001b[0;34m.\u001b[0m\u001b[0mshape\u001b[0m\u001b[0;34m)\u001b[0m\u001b[0;34m\u001b[0m\u001b[0;34m\u001b[0m\u001b[0m\n",
            "\u001b[0;31mAttributeError\u001b[0m: 'list' object has no attribute 'shape'"
          ]
        }
      ]
    },
    {
      "cell_type": "markdown",
      "source": [
        "# Building and Training the model"
      ],
      "metadata": {
        "id": "SiWr6L7Nh6ci"
      }
    },
    {
      "cell_type": "code",
      "source": [
        "reduce_lr = ReduceLROnPlateau(monitor='val_loss', factor=0.2, patience=3, min_lr=1e-5)"
      ],
      "metadata": {
        "id": "LrwevXwjKSYh"
      },
      "execution_count": null,
      "outputs": []
    },
    {
      "cell_type": "code",
      "source": [
        "early_stopping = EarlyStopping(monitor='val_loss', patience=5, restore_best_weights=True)"
      ],
      "metadata": {
        "id": "Wzj-Ije2LzZ8"
      },
      "execution_count": null,
      "outputs": []
    },
    {
      "cell_type": "code",
      "source": [
        "model = Sequential()\n",
        "\n",
        "vocab_size = len(tokenizer.word_index) + 1\n",
        "embedding_dim = 100\n",
        "model.add(Embedding(input_dim=vocab_size, output_dim=embedding_dim, input_length=max_length))\n",
        "\n",
        "model.add(Bidirectional(LSTM(units=128, return_sequences=True)))\n",
        "model.add(Dropout(0.5))\n",
        "model.add(Bidirectional(LSTM(units=64)))\n",
        "model.add(Dropout(0.5))\n",
        "\n",
        "model.add(Dense(64, activation='relu', kernel_regularizer=l2(0.01)))\n",
        "model.add(BatchNormalization())\n",
        "model.add(Dense(len(label_encoder.classes_), activation='softmax'))"
      ],
      "metadata": {
        "colab": {
          "base_uri": "https://localhost:8080/"
        },
        "id": "F3wZOtpVh-98",
        "outputId": "b9d7d1f3-1706-4db7-adb5-683e6671d3e1"
      },
      "execution_count": 99,
      "outputs": [
        {
          "output_type": "stream",
          "name": "stderr",
          "text": [
            "/usr/local/lib/python3.10/dist-packages/keras/src/layers/core/embedding.py:90: UserWarning: Argument `input_length` is deprecated. Just remove it.\n",
            "  warnings.warn(\n"
          ]
        }
      ]
    },
    {
      "cell_type": "code",
      "source": [
        "adam_optimizer = Adam()"
      ],
      "metadata": {
        "id": "rSRjm5BRBSAx"
      },
      "execution_count": 100,
      "outputs": []
    },
    {
      "cell_type": "code",
      "source": [
        "model.compile(loss='sparse_categorical_crossentropy', optimizer=Adam(learning_rate=1e-3), metrics=['accuracy'])"
      ],
      "metadata": {
        "id": "HqR_QP7JiKrV"
      },
      "execution_count": 101,
      "outputs": []
    },
    {
      "cell_type": "code",
      "source": [
        "model.summary()"
      ],
      "metadata": {
        "colab": {
          "base_uri": "https://localhost:8080/",
          "height": 401
        },
        "id": "owE14lQOiCsz",
        "outputId": "ef95a93e-f906-4d04-f0d7-90b021331373"
      },
      "execution_count": 102,
      "outputs": [
        {
          "output_type": "display_data",
          "data": {
            "text/plain": [
              "\u001b[1mModel: \"sequential_5\"\u001b[0m\n"
            ],
            "text/html": [
              "<pre style=\"white-space:pre;overflow-x:auto;line-height:normal;font-family:Menlo,'DejaVu Sans Mono',consolas,'Courier New',monospace\"><span style=\"font-weight: bold\">Model: \"sequential_5\"</span>\n",
              "</pre>\n"
            ]
          },
          "metadata": {}
        },
        {
          "output_type": "display_data",
          "data": {
            "text/plain": [
              "┏━━━━━━━━━━━━━━━━━━━━━━━━━━━━━━━━━━━━━━┳━━━━━━━━━━━━━━━━━━━━━━━━━━━━━┳━━━━━━━━━━━━━━━━━┓\n",
              "┃\u001b[1m \u001b[0m\u001b[1mLayer (type)                        \u001b[0m\u001b[1m \u001b[0m┃\u001b[1m \u001b[0m\u001b[1mOutput Shape               \u001b[0m\u001b[1m \u001b[0m┃\u001b[1m \u001b[0m\u001b[1m        Param #\u001b[0m\u001b[1m \u001b[0m┃\n",
              "┡━━━━━━━━━━━━━━━━━━━━━━━━━━━━━━━━━━━━━━╇━━━━━━━━━━━━━━━━━━━━━━━━━━━━━╇━━━━━━━━━━━━━━━━━┩\n",
              "│ embedding_2 (\u001b[38;5;33mEmbedding\u001b[0m)              │ ?                           │     \u001b[38;5;34m0\u001b[0m (unbuilt) │\n",
              "├──────────────────────────────────────┼─────────────────────────────┼─────────────────┤\n",
              "│ bidirectional_2 (\u001b[38;5;33mBidirectional\u001b[0m)      │ ?                           │     \u001b[38;5;34m0\u001b[0m (unbuilt) │\n",
              "├──────────────────────────────────────┼─────────────────────────────┼─────────────────┤\n",
              "│ dropout_2 (\u001b[38;5;33mDropout\u001b[0m)                  │ ?                           │     \u001b[38;5;34m0\u001b[0m (unbuilt) │\n",
              "├──────────────────────────────────────┼─────────────────────────────┼─────────────────┤\n",
              "│ bidirectional_3 (\u001b[38;5;33mBidirectional\u001b[0m)      │ ?                           │     \u001b[38;5;34m0\u001b[0m (unbuilt) │\n",
              "├──────────────────────────────────────┼─────────────────────────────┼─────────────────┤\n",
              "│ dropout_3 (\u001b[38;5;33mDropout\u001b[0m)                  │ ?                           │     \u001b[38;5;34m0\u001b[0m (unbuilt) │\n",
              "├──────────────────────────────────────┼─────────────────────────────┼─────────────────┤\n",
              "│ dense_3 (\u001b[38;5;33mDense\u001b[0m)                      │ ?                           │     \u001b[38;5;34m0\u001b[0m (unbuilt) │\n",
              "├──────────────────────────────────────┼─────────────────────────────┼─────────────────┤\n",
              "│ batch_normalization                  │ ?                           │     \u001b[38;5;34m0\u001b[0m (unbuilt) │\n",
              "│ (\u001b[38;5;33mBatchNormalization\u001b[0m)                 │                             │                 │\n",
              "├──────────────────────────────────────┼─────────────────────────────┼─────────────────┤\n",
              "│ dense_4 (\u001b[38;5;33mDense\u001b[0m)                      │ ?                           │     \u001b[38;5;34m0\u001b[0m (unbuilt) │\n",
              "└──────────────────────────────────────┴─────────────────────────────┴─────────────────┘\n"
            ],
            "text/html": [
              "<pre style=\"white-space:pre;overflow-x:auto;line-height:normal;font-family:Menlo,'DejaVu Sans Mono',consolas,'Courier New',monospace\">┏━━━━━━━━━━━━━━━━━━━━━━━━━━━━━━━━━━━━━━┳━━━━━━━━━━━━━━━━━━━━━━━━━━━━━┳━━━━━━━━━━━━━━━━━┓\n",
              "┃<span style=\"font-weight: bold\"> Layer (type)                         </span>┃<span style=\"font-weight: bold\"> Output Shape                </span>┃<span style=\"font-weight: bold\">         Param # </span>┃\n",
              "┡━━━━━━━━━━━━━━━━━━━━━━━━━━━━━━━━━━━━━━╇━━━━━━━━━━━━━━━━━━━━━━━━━━━━━╇━━━━━━━━━━━━━━━━━┩\n",
              "│ embedding_2 (<span style=\"color: #0087ff; text-decoration-color: #0087ff\">Embedding</span>)              │ ?                           │     <span style=\"color: #00af00; text-decoration-color: #00af00\">0</span> (unbuilt) │\n",
              "├──────────────────────────────────────┼─────────────────────────────┼─────────────────┤\n",
              "│ bidirectional_2 (<span style=\"color: #0087ff; text-decoration-color: #0087ff\">Bidirectional</span>)      │ ?                           │     <span style=\"color: #00af00; text-decoration-color: #00af00\">0</span> (unbuilt) │\n",
              "├──────────────────────────────────────┼─────────────────────────────┼─────────────────┤\n",
              "│ dropout_2 (<span style=\"color: #0087ff; text-decoration-color: #0087ff\">Dropout</span>)                  │ ?                           │     <span style=\"color: #00af00; text-decoration-color: #00af00\">0</span> (unbuilt) │\n",
              "├──────────────────────────────────────┼─────────────────────────────┼─────────────────┤\n",
              "│ bidirectional_3 (<span style=\"color: #0087ff; text-decoration-color: #0087ff\">Bidirectional</span>)      │ ?                           │     <span style=\"color: #00af00; text-decoration-color: #00af00\">0</span> (unbuilt) │\n",
              "├──────────────────────────────────────┼─────────────────────────────┼─────────────────┤\n",
              "│ dropout_3 (<span style=\"color: #0087ff; text-decoration-color: #0087ff\">Dropout</span>)                  │ ?                           │     <span style=\"color: #00af00; text-decoration-color: #00af00\">0</span> (unbuilt) │\n",
              "├──────────────────────────────────────┼─────────────────────────────┼─────────────────┤\n",
              "│ dense_3 (<span style=\"color: #0087ff; text-decoration-color: #0087ff\">Dense</span>)                      │ ?                           │     <span style=\"color: #00af00; text-decoration-color: #00af00\">0</span> (unbuilt) │\n",
              "├──────────────────────────────────────┼─────────────────────────────┼─────────────────┤\n",
              "│ batch_normalization                  │ ?                           │     <span style=\"color: #00af00; text-decoration-color: #00af00\">0</span> (unbuilt) │\n",
              "│ (<span style=\"color: #0087ff; text-decoration-color: #0087ff\">BatchNormalization</span>)                 │                             │                 │\n",
              "├──────────────────────────────────────┼─────────────────────────────┼─────────────────┤\n",
              "│ dense_4 (<span style=\"color: #0087ff; text-decoration-color: #0087ff\">Dense</span>)                      │ ?                           │     <span style=\"color: #00af00; text-decoration-color: #00af00\">0</span> (unbuilt) │\n",
              "└──────────────────────────────────────┴─────────────────────────────┴─────────────────┘\n",
              "</pre>\n"
            ]
          },
          "metadata": {}
        },
        {
          "output_type": "display_data",
          "data": {
            "text/plain": [
              "\u001b[1m Total params: \u001b[0m\u001b[38;5;34m0\u001b[0m (0.00 B)\n"
            ],
            "text/html": [
              "<pre style=\"white-space:pre;overflow-x:auto;line-height:normal;font-family:Menlo,'DejaVu Sans Mono',consolas,'Courier New',monospace\"><span style=\"font-weight: bold\"> Total params: </span><span style=\"color: #00af00; text-decoration-color: #00af00\">0</span> (0.00 B)\n",
              "</pre>\n"
            ]
          },
          "metadata": {}
        },
        {
          "output_type": "display_data",
          "data": {
            "text/plain": [
              "\u001b[1m Trainable params: \u001b[0m\u001b[38;5;34m0\u001b[0m (0.00 B)\n"
            ],
            "text/html": [
              "<pre style=\"white-space:pre;overflow-x:auto;line-height:normal;font-family:Menlo,'DejaVu Sans Mono',consolas,'Courier New',monospace\"><span style=\"font-weight: bold\"> Trainable params: </span><span style=\"color: #00af00; text-decoration-color: #00af00\">0</span> (0.00 B)\n",
              "</pre>\n"
            ]
          },
          "metadata": {}
        },
        {
          "output_type": "display_data",
          "data": {
            "text/plain": [
              "\u001b[1m Non-trainable params: \u001b[0m\u001b[38;5;34m0\u001b[0m (0.00 B)\n"
            ],
            "text/html": [
              "<pre style=\"white-space:pre;overflow-x:auto;line-height:normal;font-family:Menlo,'DejaVu Sans Mono',consolas,'Courier New',monospace\"><span style=\"font-weight: bold\"> Non-trainable params: </span><span style=\"color: #00af00; text-decoration-color: #00af00\">0</span> (0.00 B)\n",
              "</pre>\n"
            ]
          },
          "metadata": {}
        }
      ]
    },
    {
      "cell_type": "code",
      "source": [
        "early_stopping = EarlyStopping(monitor='val_loss', patience=5, restore_best_weights=True)\n",
        "reduce_lr = ReduceLROnPlateau(monitor='val_loss', factor=0.2, patience=3, min_lr=1e-5)"
      ],
      "metadata": {
        "id": "e2rl_FieO3Cn"
      },
      "execution_count": 105,
      "outputs": []
    },
    {
      "cell_type": "code",
      "source": [
        "class_weights = compute_class_weight('balanced', classes=np.unique(y_train), y=y_train)\n",
        "class_weights_dict = dict(enumerate(class_weights))\n",
        "\n",
        "history = model.fit(X_train, y_train, validation_data=(X_test, y_test), epochs=100, batch_size=16,\n",
        "                    class_weight=class_weights_dict, callbacks=[early_stopping, reduce_lr])"
      ],
      "metadata": {
        "colab": {
          "base_uri": "https://localhost:8080/",
          "height": 616
        },
        "id": "aMX9FfeOiPFh",
        "outputId": "6fc7c0b0-1dda-4e65-eab9-312750de0e61"
      },
      "execution_count": 106,
      "outputs": [
        {
          "output_type": "error",
          "ename": "ValueError",
          "evalue": "Unrecognized data type: x=['بیستم بهمن هزار سیصد شصت بیست بهمن ۱۳۶۶ بهمن بیست ۱۳۶۶ بیستم بهمن ۱۳۶۶ بهمن بیست ۱۳۶۶', 'بیست نهم تیر هزار سیصد نود بیست تیر ۱۳۹۱ تیر بیست ۱۳۹۱ بیست نهم تیر ۱۳۹۱ تیر بیست ۱۳۹۱', 'هفدهم بهمن هزار سیصد بیست هشت هفده بهمن ۱۳۲۸ بهمن هفده ۱۳۲۸ هفدهم بهمن ۱۳۲۸ بهمن هفده ۱۳۲۸', 'دهم تیر هزار چهارصد ده تیر ۱۴۰۱ تیر ده ۱۴۰۱ دهم تیر ۱۴۰۱ تیر ده ۱۴۰۱', 'سی\\u200cام تیر هزار سیصد شست هفت تیر ۱۳۶۷ تیر ۱۳۶۷ سی\\u200cام تیر ۱۳۶۷ تیر ۱۳۶۷', 'آذر هزار دویست آذر ۱۲۰۵ آذر ۱۲۰۵ آذر ۱۲۰۵ آذر ۱۲۰۵', 'بیست اردیبهشت هزار سیصد هشتاد بیست اردیبهشت ۱۳۸۳ اردیبهشت بیست ۱۳۸۳ بیست اردیبهشت ۱۳۸۳ اردیبهشت بیست ۱۳۸۳', 'پانزدهم بهمن هزار دویست پنجاه پانزده بهمن ۱۲۵۳ بهمن پانزده ۱۲۵۳ پانزدهم بهمن ۱۲۵۳ بهمن پانزده ۱۲۵۳', 'بیستم بهمن هزار دویست پنجاه بیست بهمن ۱۲۵۵ بهمن بیست ۱۲۵۵ بیستم بهمن ۱۲۵۵ بهمن بیست ۱۲۵۵', 'سی\\u200cام خرداد هزار سیصد شصت خرداد ۱۳۶۶ خرداد ۱۳۶۶ سی\\u200cام خرداد ۱۳۶۶ خرداد ۱۳۶۶', 'پنجم فروردین هزار سیصد دوازده فروردین هزار سیصد دوازده فروردین ۱۳۱۲ فروردین ۱۳۱۲ پنجم فروردین ۱۳۱۲ پنجِ فروردین ۱۳۱۲ پنجم فروردین ماه ۱۳۱۲ فروردینِ ۱۳۱۲ فروردین ۱۳۱۲', 'پنجم مهر هزار دویست مهر ۱۲۰۲ مهر ۱۲۰۲ پنجم مهر ۱۲۰۲ مهر ۱۲۰۲', 'چهاردهم فروردین هزار چهارصد نود چهارده فروردین ۱۴۹۰ فروردین چهارده ۱۴۹۰ چهاردهم فروردین ۱۴۹۰ فروردین چهارده ۱۴۹۰', 'پانزدهم تیر هزار دویست پانزده تیر ۱۲۳۱ تیر پانزده ۱۲۳۱ پانزدهم تیر ۱۲۳۱ تیر پانزده ۱۲۳۱', 'بیستم شهریور هزار چهارصد بیست بیست شهریور هزار چهارصد بیست بیست شهریور ۱۴۲۱ شهریور بیست ۱۴۲۱ بیستم شهریور ۱۴۲۱ بیستِ شهریور ۱۴۲۱ بیستم شهریور ماه ۱۴۲۱ شهریورِ بیست ۱۴۲۱ بیست شهریور ۱۴۲۱', 'هفدهم خرداد هزار دویست بیست هفت هفده خرداد ۱۲۲۷ خرداد هفده ۱۲۲۷ هفدهم خرداد ۱۲۲۷ خرداد هفده ۱۲۲۷', 'سیزدهم مهر هزار سیصد بیست سیزده مهر ۱۳۲۱ مهر سیزده ۱۳۲۱ سیزدهم مهر ۱۳۲۱ مهر سیزده ۱۳۲۱', 'پنجم اسفند هزار سیصد هشتاد اسفند ۱۳۸۵ اسفند ۱۳۸۵ پنجم اسفند ۱۳۸۵ اسفند ۱۳۸۵', 'دهم مرداد هزار سیصد ده مرداد هزار سیصد ده مرداد ۱۳۰۴ مرداد ده ۱۳۰۴ دهم مرداد ۱۳۰۴ دهِ مرداد ۱۳۰۴ دهم مرداد ماه ۱۳۰۴ مردادِ ده ۱۳۰۴ ده مرداد ۱۳۰۴', 'فروردین هزار سیصد هفتاد فروردین ۱۳۷۲ فروردین ۱۳۷۲ فروردین ۱۳۷۲ فروردین ۱۳۷۲', 'یکم اسفند هزار چهارصد هفت اسفند هزار چهارصد هفت اسفند ۱۴۰۷ اسفند ۱۴۰۷ یکم اسفند ۱۴۰۷ یکِ اسفند ۱۴۰۷ یکم اسفند ماه ۱۴۰۷ اسفندِ ۱۴۰۷ اسفند ۱۴۰۷', 'بیست هفتم فروردین هزار چهارصد 76 بیست هفت فروردین ۱۴۷۶ فروردین بیست هفت ۱۴۷۶ بیست هفتم فروردین ۱۴۷۶ فروردین بیست هفت ۱۴۷۶', 'نهم تیر هزار سیصد شصت هشت تیر ۱۳۶۸ تیر ۱۳۶۸ نهم تیر ۱۳۶۸ تیر ۱۳۶۸', 'بیست فروردین هزار دویست بیست بیست فروردین ۱۲۲۳ فروردین بیست ۱۲۲۳ بیست فروردین ۱۲۲۳ فروردین بیست ۱۲۲۳', 'هجده اسفند هزار پانصد هجده اسفند ۱۵۰۰ اسفند هجده ۱۵۰۰ هجده اسفند ۱۵۰۰ اسفند هجده ۱۵۰۰', 'پانزدهم بهمن هزار سیصد پانزده بهمن ۱۳۰۲ بهمن پانزده ۱۳۰۲ پانزدهم بهمن ۱۳۰۲ بهمن پانزده ۱۳۰۲', 'هشتم آذر هزار دویست هشتاد هشت آذر ۱۲۸۴ آذر هشت ۱۲۸۴ هشتم آذر ۱۲۸۴ آذر هشت ۱۲۸۴', 'بیست مهر هزار چهارصد بیست مهر ۱۴۰۳ مهر بیست ۱۴۰۳ بیست مهر ۱۴۰۳ مهر بیست ۱۴۰۳', 'بیست نهم مرداد هزار چهارصد بیست مرداد ۱۴۳۵ مرداد بیست ۱۴۳۵ بیست نهم مرداد ۱۴۳۵ مرداد بیست ۱۴۳۵', 'بیست هشتم دی هزار سیصد هشتاد بیست هشت دی ۱۳۸۹ دی بیست هشت ۱۳۸۹ بیست هشتم دی ۱۳۸۹ دی بیست هشت ۱۳۸۹', 'دوازدهم آذر هزار چهارصد پانزده دوازده آذر ۱۴۱۵ آذر دوازده ۱۴۱۵ دوازدهم آذر ۱۴۱۵ آذر دوازده ۱۴۱۵', 'دهم تیر هزار دویست پنجاه ده تیر ۱۲۵۰ تیر ده ۱۲۵۰ دهم تیر ۱۲۵۰ تیر ده ۱۲۵۰', 'بیست هفتم آذر هزار دویست پنجاه هشت بیست هفت آذر ۱۲۵۸ آذر بیست هفت ۱۲۵۸ بیست هفتم آذر ۱۲۵۸ آذر بیست هفت ۱۲۵۸', 'دوازدهم مهر هزار سیصد دوازده مهر ۱۳۰۱ مهر دوازده ۱۳۰۱ دوازدهم مهر ۱۳۰۱ مهر دوازده ۱۳۰۱', 'بیستم دی هزار دویست نود هفت بیست دی ۱۲۹۷ دی بیست ۱۲۹۷ بیستم دی ۱۲۹۷ دی بیست ۱۲۹۷', 'چهاردهم مهر هزار دویست چهارده مهر ۱۲۳۳ مهر چهارده ۱۲۳۳ چهاردهم مهر ۱۲۳۳ مهر چهارده ۱۲۳۳', 'دوازدهم فروردین هزار دویست دوازده فروردین ۱۲۰۴ فروردین دوازده ۱۲۰۴ دوازدهم فروردین ۱۲۰۴ فروردین دوازده ۱۲۰۴', 'تیر هزار سیصد نوزده تیر هزار سیصد نوزده تیر ۱۳۳۹ تیر ۱۳۳۹ تیر ۱۳۳۹ یکِ تیر ۱۳۳۹ یکم تیر ۱۳۳۹ تیر ماه ۱۳۳۹ تیرِ ۱۳۳۹', 'بیست پنجم آبان هزار چهارصد شصت هشت بیست آبان ۱۴۶۸ آبان بیست ۱۴۶۸ بیست پنجم آبان ۱۴۶۸ آبان بیست ۱۴۶۸', 'دوازدهم اسفند هزار چهارصد پنجاه هشت دوازده اسفند ۱۴۵۸ اسفند دوازده ۱۴۵۸ دوازدهم اسفند ۱۴۵۸ اسفند دوازده ۱۴۵۸', 'پانزدهم مرداد هزار چهارصد هفده پانزده مرداد ۱۴۱۷ مرداد پانزده ۱۴۱۷ پانزدهم مرداد ۱۴۱۷ مرداد پانزده ۱۴۱۷', 'بیستم دی هزار چهارصد پانزده بیست دی ۱۴۱۵ دی بیست ۱۴۱۵ بیستم دی ۱۴۱۵ دی بیست ۱۴۱۵', 'پانزدهم خرداد هزار سیصد هشتاد هشت پانزده خرداد ۱۳۸۸ خرداد پانزده ۱۳۸۸ پانزدهم خرداد ۱۳۸۸ خرداد پانزده ۱۳۸۸', 'پنجم آبان هزار دویست آبان ۱۲۰۴ آبان ۱۲۰۴ پنجم آبان ۱۲۰۴ آبان ۱۲۰۴', 'بیست هشتم تیر هزار دویست هفتاد بیست هشت تیر ۱۲۷۳ تیر بیست هشت ۱۲۷۳ بیست هشتم تیر ۱۲۷۳ تیر بیست هشت ۱۲۷۳', 'پنجم مهر هزار چهارصد بیست مهر ۱۴۲۲ مهر ۱۴۲۲ پنجم مهر ۱۴۲۲ مهر ۱۴۲۲', 'سی\\u200cام مهر هزار چهارصد نود مهر ۱۴۹۱ مهر ۱۴۹۱ سی\\u200cام مهر ۱۴۹۱ مهر ۱۴۹۱', 'سی\\u200cام مهر هزار سیصد ده مهر هزار سیصد ده مهر ۱۳۳۰ مهر ۱۳۳۰ سی\\u200cام مهر ۱۳۳۰ سیِ مهر ۱۳۳۰ سی\\u200cام مهر ماه ۱۳۳۰ مهرِ ۱۳۳۰ مهر ۱۳۳۰', 'دهم آذر هزار چهارصد هفتاد ده آذر ۱۴۷۴ آذر ده ۱۴۷۴ دهم آذر ۱۴۷۴ آذر ده ۱۴۷۴', 'دوازدهم آبان هزار چهارصد چهل دوازده آبان ۱۴۴۴ آبان دوازده ۱۴۴۴ دوازدهم آبان ۱۴۴۴ آبان دوازده ۱۴۴۴', 'هفتم دی هزار چهارصد چهل هفت دی ۱۴۴۹ دی هفت ۱۴۴۹ هفتم دی ۱۴۴۹ دی هفت ۱۴۴۹', 'دوازدهم دی هزار چهارصد نوزده دوازده دی ۱۴۱۹ دی دوازده ۱۴۱۹ دوازدهم دی ۱۴۱۹ دی دوازده ۱۴۱۹', 'یکم اسفند هزار سیصد پنجاه اسفند هزار سیصد پنجاه اسفند ۱۳۷۱ اسفند ۱۳۷۱ یکم اسفند ۱۳۷۱ یکِ اسفند ۱۳۷۱ یکم اسفند ماه ۱۳۷۱ اسفندِ ۱۳۷۱ اسفند ۱۳۷۱', 'سیزدهم بهمن هزار سیصد هفتاد سیزده بهمن ۱۳۷۴ بهمن سیزده ۱۳۷۴ سیزدهم بهمن ۱۳۷۴ بهمن سیزده ۱۳۷۴', 'بیست پنجم مهر هزار سیصد بیست بیست مهر ۱۳۲۴ مهر بیست ۱۳۲۴ بیست پنجم مهر ۱۳۲۴ مهر بیست ۱۳۲۴', 'یازدهم دی هزار سیصد هفتاد یازده دی ۱۳۷۵ دی یازده ۱۳۷۵ یازدهم دی ۱۳۷۵ دی یازده ۱۳۷۵', 'بیستم بهمن هزار چهارصد بیست بیست بهمن ۱۴۲۲ بهمن بیست ۱۴۲۲ بیستم بهمن ۱۴۲۲ بهمن بیست ۱۴۲۲', 'نهم تیر هزار دویست هفتاد تیر ۱۲۷۹ تیر ۱۲۷۹ نهم تیر ۱۲۷۹ تیر ۱۲۷۹', 'بیست مهر هزار دویست نود بیست مهر ۱۲۹۰ مهر بیست ۱۲۹۰ بیست مهر ۱۲۹۰ مهر بیست ۱۲۹۰', 'یازدهم مرداد هزار دویست یازده مرداد ۱۲۰۴ مرداد یازده ۱۲۰۴ یازدهم مرداد ۱۲۰۴ مرداد یازده ۱۲۰۴', 'بیست یکم فروردین هزار چهارصد بیست فروردین ۱۴۰۱ فروردین بیست ۱۴۰۱ بیست یکم فروردین ۱۴۰۱ فروردین بیست ۱۴۰۱', 'بیست بهمن هزار دویست بیست بهمن ۱۲۰۳ بهمن بیست ۱۲۰۳ بیست بهمن ۱۲۰۳ بهمن بیست ۱۲۰۳', 'چهاردهم خرداد هزار دویست بیست چهارده خرداد ۱۲۲۹ خرداد چهارده ۱۲۲۹ چهاردهم خرداد ۱۲۲۹ خرداد چهارده ۱۲۲۹', 'نهم خرداد هزار چهارصد خرداد ۱۴۰۵ خرداد ۱۴۰۵ نهم خرداد ۱۴۰۵ خرداد ۱۴۰۵', 'بیست شهریور هزار سیصد بیست شهریور ۱۳۰۲ شهریور بیست ۱۳۰۲ بیست شهریور ۱۳۰۲ شهریور بیست ۱۳۰۲', 'بیست هفتم اردیبهشت هزار چهارصد چهل بیست هفت اردیبهشت ۱۴۴۰ اردیبهشت بیست هفت ۱۴۴۰ بیست هفتم اردیبهشت ۱۴۴۰ اردیبهشت بیست هفت ۱۴۴۰', 'دوازدهم آبان هزار دویست دوازده آبان ۱۲۰۱ آبان دوازده ۱۲۰۱ دوازدهم آبان ۱۲۰۱ آبان دوازده ۱۲۰۱', 'نوزدهم مرداد هزار چهارصد هفتاد نوزده مرداد ۱۴۷۵ مرداد نوزده ۱۴۷۵ نوزدهم مرداد ۱۴۷۵ مرداد نوزده ۱۴۷۵', 'بیست هفتم بهمن هزار چهارصد نود بیست هفت بهمن ۱۴۹۱ بهمن بیست هفت ۱۴۹۱ بیست هفتم بهمن ۱۴۹۱ بهمن بیست هفت ۱۴۹۱', 'سی\\u200cام تیر هزار چهارصد هشتاد تیر ۱۴۸۹ تیر ۱۴۸۹ سی\\u200cام تیر ۱۴۸۹ تیر ۱۴۸۹', 'آذر هزار دویست آذر ۱۲۳۵ آذر ۱۲۳۵ آذر ۱۲۳۵ آذر ۱۲۳۵', 'بیست مرداد هزار دویست چهل بیست مرداد ۱۲۴۲ مرداد بیست ۱۲۴۲ بیست مرداد ۱۲۴۲ مرداد بیست ۱۲۴۲', 'سی\\u200cام شهریور هزار چهارصد شهریور هزار چهارصد شهریور ۱۴۰۳ شهریور ۱۴۰۳ سی\\u200cام شهریور ۱۴۰۳ سیِ شهریور ۱۴۰۳ سی\\u200cام شهریور ماه ۱۴۰۳ شهریورِ ۱۴۰۳ شهریور ۱۴۰۳', 'یازدهم آبان هزار چهارصد شانزده یازده آبان هزار چهارصد شانزده یازده آبان ۱۴۱۶ آبان یازده ۱۴۱۶ یازدهم آبان ۱۴۱۶ یازدهِ آبان ۱۴۱۶ یازدهم آبان ماه ۱۴۱۶ آبانِ یازده ۱۴۱۶ یازده آبان ۱۴۱۶', 'چهاردهم مهر هزار چهارصد نود چهارده مهر ۱۴۹۹ مهر چهارده ۱۴۹۹ چهاردهم مهر ۱۴۹۹ مهر چهارده ۱۴۹۹', 'پانزدهم اردیبهشت هزار سیصد بیست پانزده اردیبهشت هزار سیصد بیست پانزده اردیبهشت ۱۳۲۵ اردیبهشت پانزده ۱۳۲۵ پانزدهم اردیبهشت ۱۳۲۵ پانزدهِ اردیبهشت ۱۳۲۵ پانزدهم اردیبهشت ماه ۱۳۲۵ اردیبهشتِ پانزده ۱۳۲۵ پانزده اردیبهشت ۱۳۲۵', 'دی هزار دویست پنجاه دی ۱۲۵۰ دی ۱۲۵۰ دی ۱۲۵۰ دی ۱۲۵۰', 'پنجم خرداد هزار چهارصد خرداد هزار چهارصد خرداد ۱۴۰۱ خرداد ۱۴۰۱ پنجم خرداد ۱۴۰۱ پنجِ خرداد ۱۴۰۱ پنجم خرداد ماه ۱۴۰۱ خردادِ ۱۴۰۱ خرداد ۱۴۰۱', 'پانزدهم خرداد هزار دویست بیست پانزده خرداد هزار دویست بیست پانزده خرداد ۱۲۲۵ خرداد پانزده ۱۲۲۵ پانزدهم خرداد ۱۲۲۵ پانزدهِ خرداد ۱۲۲۵ پانزدهم خرداد ماه ۱۲۲۵ خردادِ پانزده ۱۲۲۵ پانزده خرداد ۱۲۲۵', 'بیست نهم شهریور هزار چهارصد نود بیست شهریور ۱۴۹۶ شهریور بیست ۱۴۹۶ بیست نهم شهریور ۱۴۹۶ شهریور بیست ۱۴۹۶', 'بیست دی هزار سیصد شصت بیست دی ۱۳۶۹ دی بیست ۱۳۶۹ بیست دی ۱۳۶۹ دی بیست ۱۳۶۹', 'نهم مهر هزار دویست نود مهر ۱۲۹۵ مهر ۱۲۹۵ نهم مهر ۱۲۹۵ مهر ۱۲۹۵', 'مهر هزار چهارصد مهر ۱۴۳۰ مهر ۱۴۳۰ مهر ۱۴۳۰ مهر ۱۴۳۰', 'شهریور هزار سیصد نود شهریور ۱۳۹۶ شهریور ۱۳۹۶ یکم شهریور ۱۳۹۶ شهریور ۱۳۹۶', 'بیستم تیر هزار دویست بیست تیر ۱۲۰۱ تیر بیست ۱۲۰۱ بیستم تیر ۱۲۰۱ تیر بیست ۱۲۰۱', 'پنجم مهر هزار دویست مهر ۱۲۳۱ مهر ۱۲۳۱ پنجم مهر ۱۲۳۱ مهر ۱۲۳۱', 'نوزدهم آذر هزار چهارصد هفت نوزده آذر ۱۴۳۷ آذر نوزده ۱۴۳۷ نوزدهم آذر ۱۴۳۷ آذر نوزده ۱۴۳۷', 'بیست نهم تیر هزار دویست پنجاه بیست تیر ۱۲۵۴ تیر بیست ۱۲۵۴ بیست نهم تیر ۱۲۵۴ تیر بیست ۱۲۵۴', 'ششم شهریور هزار سیصد شهریور ۱۳۰۰ شهریور ۱۳۰۰ ششم شهریور ۱۳۰۰ شهریور ۱۳۰۰', 'شانزدهم مرداد هزار سیصد هفتاد شانزده مرداد ۱۳۷۹ مرداد شانزده ۱۳۷۹ شانزدهم مرداد ۱۳۷۹ مرداد شانزده ۱۳۷۹', 'نوزدهم اردیبهشت هزار سیصد شصت هشت نوزده اردیبهشت ۱۳۶۸ اردیبهشت نوزده ۱۳۶۸ نوزدهم اردیبهشت ۱۳۶۸ اردیبهشت نوزده ۱۳۶۸', 'نوزدهم اردیبهشت هزار سیصد نود نوزده اردیبهشت ۱۳۹۲ اردیبهشت نوزده ۱۳۹۲ نوزدهم اردیبهشت ۱۳۹۲ اردیبهشت نوزده ۱۳۹۲', 'یازدهم شهریور هزار سیصد بیست یازده شهریور ۱۳۲۱ شهریور یازده ۱۳۲۱ یازدهم شهریور ۱۳۲۱ شهریور یازده ۱۳۲۱', 'دوازدهم اسفند هزار چهارصد دوازده اسفند ۱۴۳۹ اسفند دوازده ۱۴۳۹ دوازدهم اسفند ۱۴۳۹ اسفند دوازده ۱۴۳۹', 'یازدهم آبان هزار سیصد بیست یازده آبان هزار سیصد بیست یازده آبان ۱۳۴۳ آبان یازده ۱۳۴۳ یازدهم آبان ۱۳۴۳ یازدهِ آبان ۱۳۴۳ یازدهم آبان ماه ۱۳۴۳ آبانِ یازده ۱۳۴۳ یازده آبان ۱۳۴۳', 'پانزدهم تیر هزار چهارصد پانزده تیر هزار چهارصد پانزده تیر ۱۴۰۱ تیر پانزده ۱۴۰۱ پانزدهم تیر ۱۴۰۱ پانزدهِ تیر ۱۴۰۱ پانزدهم تیر ماه ۱۴۰۱ تیرِ پانزده ۱۴۰۱ پانزده تیر ۱۴۰۱', 'دهم اردیبهشت هزار دویست پانزده ده اردیبهشت ۱۲۱۵ اردیبهشت ده ۱۲۱۵ دهم اردیبهشت ۱۲۱۵ اردیبهشت ده ۱۲۱۵', 'بیست پنجم بهمن هزار چهارصد هجده بیست بهمن هزار چهارصد هجده بیست بهمن ۱۴۱۸ بهمن بیست ۱۴۱۸ بیست پنجم بهمن ۱۴۱۸ بیست پنجِ بهمن ۱۴۱۸ بیست پنجم بهمن ماه ۱۴۱۸ بهمنِ بیست ۱۴۱۸ بیست بهمن ۱۴۱۸', 'سی\\u200cام شهریور هزار چهارصد چهل شهریور ۱۴۴۶ شهریور ۱۴۴۶ سی\\u200cام شهریور ۱۴۴۶ شهریور ۱۴۴۶', 'هفتم اردیبهشت هزار دویست چهل هفت اردیبهشت ۱۲۴۹ اردیبهشت هفت ۱۲۴۹ هفتم اردیبهشت ۱۲۴۹ اردیبهشت هفت ۱۲۴۹', 'چهاردهم آذر هزار چهارصد بیست چهارده آذر ۱۴۲۵ آذر چهارده ۱۴۲۵ چهاردهم آذر ۱۴۲۵ آذر چهارده ۱۴۲۵', 'چهاردهم مرداد هزار چهارصد هجده چهارده مرداد ۱۴۱۸ مرداد چهارده ۱۴۱۸ چهاردهم مرداد ۱۴۱۸ مرداد چهارده ۱۴۱۸', 'هشتم دی هزار دویست نود هفت هشت دی ۱۲۹۷ دی هشت ۱۲۹۷ هشتم دی ۱۲۹۷ دی هشت ۱۲۹۷', 'شانزدهم فروردین هزار سیصد شانزده شانزده فروردین ۱۳۱۶ فروردین شانزده ۱۳۱۶ شانزدهم فروردین ۱۳۱۶ فروردین شانزده ۱۳۱۶', 'شانزدهم شهریور هزار سیصد چهل شانزده شهریور ۱۳۴۳ شهریور شانزده ۱۳۴۳ شانزدهم شهریور ۱۳۴۳ شهریور شانزده ۱۳۴۳', 'اسفند هزار سیصد چهل اسفند ۱۳۴۵ اسفند ۱۳۴۵ اسفند ۱۳۴۵ اسفند ۱۳۴۵', 'شانزدهم آبان هزار سیصد چهل شانزده آبان ۱۳۴۱ آبان شانزده ۱۳۴۱ شانزدهم آبان ۱۳۴۱ آبان شانزده ۱۳۴۱', 'دهم دی هزار سیصد هفت ده دی هزار سیصد هفت ده دی ۱۳۵۷ دی ده ۱۳۵۷ دهم دی ۱۳۵۷ دهِ دی ۱۳۵۷ دهم دی ماه ۱۳۵۷ دیِ ده ۱۳۵۷ ده دی ۱۳۵۷', 'بیست هفتم اردیبهشت هزار دویست هشتاد بیست هفت اردیبهشت ۱۲۸۰ اردیبهشت بیست هفت ۱۲۸۰ بیست هفتم اردیبهشت ۱۲۸۰ اردیبهشت بیست هفت ۱۲۸۰', 'بیست ششم شهریور هزار چهارصد پنجاه بیست شهریور ۱۴۵۳ شهریور بیست ۱۴۵۳ بیست ششم شهریور ۱۴۵۳ شهریور بیست ۱۴۵۳', 'هشتم اردیبهشت هزار دویست هشت اردیبهشت ۱۲۰۳ اردیبهشت هشت ۱۲۰۳ هشتم اردیبهشت ۱۲۰۳ اردیبهشت هشت ۱۲۰۳', 'یازدهم فروردین هزار چهارصد هفده یازده فروردین ۱۴۱۷ فروردین یازده ۱۴۱۷ یازدهم فروردین ۱۴۱۷ فروردین یازده ۱۴۱۷', 'بیست هشتم شهریور هزار چهارصد چهل بیست هشت شهریور ۱۴۴۵ شهریور بیست هشت ۱۴۴۵ بیست هشتم شهریور ۱۴۴۵ شهریور بیست هشت ۱۴۴۵', 'دوازدهم مرداد هزار سیصد پنجاه دوازده مرداد ۱۳۵۲ مرداد دوازده ۱۳۵۲ دوازدهم مرداد ۱۳۵۲ مرداد دوازده ۱۳۵۲', 'نهم آبان هزار چهارصد آبان ۱۴۳۱ آبان ۱۴۳۱ نهم آبان ۱۴۳۱ آبان ۱۴۳۱', 'سی\\u200cام اسفند هزار چهارصد هشتاد اسفند ۱۴۸۴ اسفند ۱۴۸۴ سی\\u200cام اسفند ۱۴۸۴ اسفند ۱۴۸۴', 'بیست یکم آذر هزار سیصد بیست بیست آذر ۱۳۲۳ آذر بیست ۱۳۲۳ بیست یکم آذر ۱۳۲۳ آذر بیست ۱۳۲۳', 'نوزدهم آذر هزار چهارصد پنجاه نوزده آذر ۱۴۵۲ آذر نوزده ۱۴۵۲ نوزدهم آذر ۱۴۵۲ آذر نوزده ۱۴۵۲', 'نهم تیر هزار چهارصد بیست هشت تیر ۱۴۲۸ تیر ۱۴۲۸ نهم تیر ۱۴۲۸ تیر ۱۴۲۸', 'بیست تیر هزار دویست پنجاه بیست تیر ۱۲۵۴ تیر بیست ۱۲۵۴ بیست تیر ۱۲۵۴ تیر بیست ۱۲۵۴', 'یازدهم آبان هزار سیصد چهل هفت یازده آبان هزار سیصد چهل هفت یازده آبان ۱۳۶۷ آبان یازده ۱۳۶۷ یازدهم آبان ۱۳۶۷ یازدهِ آبان ۱۳۶۷ یازدهم آبان ماه ۱۳۶۷ آبانِ یازده ۱۳۶۷ یازده آبان ۱۳۶۷', 'مرداد هزار دویست نود مرداد ۱۲۹۴ مرداد ۱۲۹۴ مرداد ۱۲۹۴ مرداد ۱۲۹۴', 'بیستم شهریور هزار چهارصد بیست شهریور هزار چهارصد بیست شهریور ۱۴۰۹ شهریور بیست ۱۴۰۹ بیستم شهریور ۱۴۰۹ بیستِ شهریور ۱۴۰۹ بیستم شهریور ماه ۱۴۰۹ شهریورِ بیست ۱۴۰۹ بیست شهریور ۱۴۰۹', 'هشتم مهر هزار چهارصد نود هشت مهر ۱۴۹۵ مهر هشت ۱۴۹۵ هشتم مهر ۱۴۹۵ مهر هشت ۱۴۹۵', 'سی\\u200cام مرداد هزار دویست هشتاد مرداد ۱۲۸۰ مرداد ۱۲۸۰ سی\\u200cام مرداد ۱۲۸۰ مرداد ۱۲۸۰', 'بهمن هزار دویست هشت بهمن ۱۲۰۸ بهمن ۱۲۰۸ بهمن ۱۲۰۸ بهمن ۱۲۰۸', 'هفتم مهر هزار سیصد شست هفت مهر ۱۳۶۴ مهر هفت ۱۳۶۴ هفتم مهر ۱۳۶۴ مهر هفت ۱۳۶۴', 'هشتم مهر هزار سیصد چهارده هشت مهر ۱۳۱۴ مهر هشت ۱۳۱۴ هشتم مهر ۱۳۱۴ مهر هشت ۱۳۱۴', 'پانزدهم خرداد هزار دویست چهل پانزده خرداد ۱۲۴۳ خرداد پانزده ۱۲۴۳ پانزدهم خرداد ۱۲۴۳ خرداد پانزده ۱۲۴۳', 'بیست دی هزار چهارصد نود هشت بیست دی ۱۴۹۸ دی بیست ۱۴۹۸ بیست دی ۱۴۹۸ دی بیست ۱۴۹۸', 'دهم آذر هزار سیصد هجده ده آذر ۱۳۱۸ آذر ده ۱۳۱۸ دهم آذر ۱۳۱۸ آذر ده ۱۳۱۸', 'پانزدهم تیر هزار دویست بیست پانزده تیر ۱۲۲۲ تیر پانزده ۱۲۲۲ پانزدهم تیر ۱۲۲۲ تیر پانزده ۱۲۲۲', 'شانزدهم خرداد هزار دویست شصت هفت شانزده خرداد ۱۲۶۷ خرداد شانزده ۱۲۶۷ شانزدهم خرداد ۱۲۶۷ خرداد شانزده ۱۲۶۷', 'یازدهم آبان هزار سیصد پنجاه یازده آبان هزار سیصد پنجاه یازده آبان ۱۳۷۹ آبان یازده ۱۳۷۹ یازدهم آبان ۱۳۷۹ یازدهِ آبان ۱۳۷۹ یازدهم آبان ماه ۱۳۷۹ آبانِ یازده ۱۳۷۹ یازده آبان ۱۳۷۹', 'بیست پنجم بهمن هزار چهارصد بیست بهمن هزار چهارصد بیست بهمن ۱۴۰۶ بهمن بیست ۱۴۰۶ بیست پنجم بهمن ۱۴۰۶ بیست پنجِ بهمن ۱۴۰۶ بیست پنجم بهمن ماه ۱۴۰۶ بهمنِ بیست ۱۴۰۶ بیست بهمن ۱۴۰۶', 'سی\\u200cام خرداد هزار سیصد چهل خرداد ۱۳۴۶ خرداد ۱۳۴۶ سی\\u200cام خرداد ۱۳۴۶ خرداد ۱۳۴۶', 'دوازدهم شهریور هزار سیصد بیست دوازده شهریور ۱۳۲۶ شهریور دوازده ۱۳۲۶ دوازدهم شهریور ۱۳۲۶ شهریور دوازده ۱۳۲۶', 'بیست پنجم خرداد هزار چهارصد هفتاد بیست خرداد ۱۴۷۳ خرداد بیست ۱۴۷۳ بیست پنجم خرداد ۱۴۷۳ خرداد بیست ۱۴۷۳', 'بیست پنجم مهر هزار سیصد پنجاه بیست مهر ۱۳۵۳ مهر بیست ۱۳۵۳ بیست پنجم مهر ۱۳۵۳ مهر بیست ۱۳۵۳', 'هفتم شهریور هزار دویست نود هفت شهریور ۱۲۹۱ شهریور هفت ۱۲۹۱ هفتم شهریور ۱۲۹۱ شهریور هفت ۱۲۹۱', 'بیست نهم اردیبهشت هزار دویست هشتاد بیست اردیبهشت ۱۲۸۱ اردیبهشت بیست ۱۲۸۱ بیست نهم اردیبهشت ۱۲۸۱ اردیبهشت بیست ۱۲۸۱', 'بیست هشتم بهمن هزار سیصد بیست هشت بهمن ۱۳۰۹ بهمن بیست هشت ۱۳۰۹ بیست هشتم بهمن ۱۳۰۹ بهمن بیست هشت ۱۳۰۹', 'دوازدهم خرداد هزار پانصد دوازده خرداد ۱۵۰۰ خرداد دوازده ۱۵۰۰ دوازدهم خرداد ۱۵۰۰ خرداد دوازده ۱۵۰۰', 'تیر هزار سیصد پانزده تیر هزار سیصد پانزده تیر ۱۳۱۵ تیر ۱۳۱۵ تیر ۱۳۱۵ یکِ تیر ۱۳۱۵ یکم تیر ۱۳۱۵ تیر ماه ۱۳۱۵ تیرِ ۱۳۱۵', 'بیست شهریور هزار دویست یازده بیست شهریور ۱۲۱۱ شهریور بیست ۱۲۱۱ بیست شهریور ۱۲۱۱ شهریور بیست ۱۲۱۱', 'سی\\u200cام مهر هزار سیصد مهر هزار سیصد مهر ۱۳۰۶ مهر ۱۳۰۶ سی\\u200cام مهر ۱۳۰۶ سیِ مهر ۱۳۰۶ سی\\u200cام مهر ماه ۱۳۰۶ مهرِ ۱۳۰۶ مهر ۱۳۰۶', 'دهم اردیبهشت هزار سیصد هفده ده اردیبهشت ۱۳۱۷ اردیبهشت ده ۱۳۱۷ دهم اردیبهشت ۱۳۱۷ اردیبهشت ده ۱۳۱۷', 'پانزدهم آبان هزار سیصد پنجاه پانزده آبان ۱۳۵۵ آبان پانزده ۱۳۵۵ پانزدهم آبان ۱۳۵۵ آبان پانزده ۱۳۵۵', 'بیست مرداد هزار دویست نود هشت بیست مرداد ۱۲۹۸ مرداد بیست ۱۲۹۸ بیست مرداد ۱۲۹۸ مرداد بیست ۱۲۹۸', 'یازدهم آبان هزار چهارصد یازده آبان هزار چهارصد یازده آبان ۱۴۰۴ آبان یازده ۱۴۰۴ یازدهم آبان ۱۴۰۴ یازدهِ آبان ۱۴۰۴ یازدهم آبان ماه ۱۴۰۴ آبانِ یازده ۱۴۰۴ یازده آبان ۱۴۰۴', 'هفتم فروردین هزار چهارصد هفت فروردین ۱۴۳۵ فروردین هفت ۱۴۳۵ هفتم فروردین ۱۴۳۵ فروردین هفت ۱۴۳۵', 'شانزدهم شهریور هزار چهارصد شصت شانزده شهریور ۱۴۶۶ شهریور شانزده ۱۴۶۶ شانزدهم شهریور ۱۴۶۶ شهریور شانزده ۱۴۶۶', 'شانزدهم مهر هزار سیصد نود شانزده مهر ۱۳۹۲ مهر شانزده ۱۳۹۲ شانزدهم مهر ۱۳۹۲ مهر شانزده ۱۳۹۲', 'دوازدهم اسفند هزار سیصد هشتاد دوازده اسفند ۱۳۸۶ اسفند دوازده ۱۳۸۶ دوازدهم اسفند ۱۳۸۶ اسفند دوازده ۱۳۸۶', 'دهم مرداد هزار چهارصد بیست ده مرداد هزار چهارصد بیست ده مرداد ۱۴۲۱ مرداد ده ۱۴۲۱ دهم مرداد ۱۴۲۱ دهِ مرداد ۱۴۲۱ دهم مرداد ماه ۱۴۲۱ مردادِ ده ۱۴۲۱ ده مرداد ۱۴۲۱', 'بیستم مرداد هزار چهارصد بیست مرداد هزار چهارصد بیست مرداد ۱۴۰۲ مرداد بیست ۱۴۰۲ بیستم مرداد ۱۴۰۲ بیستِ مرداد ۱۴۰۲ بیستم مرداد ماه ۱۴۰۲ مردادِ بیست ۱۴۰۲ بیست مرداد ۱۴۰۲', 'بیست پنجم اسفند هزار سیصد بیست اسفند ۱۳۰۶ اسفند بیست ۱۳۰۶ بیست پنجم اسفند ۱۳۰۶ اسفند بیست ۱۳۰۶', 'پنجم اسفند هزار چهارصد اسفند ۱۴۳۹ اسفند ۱۴۳۹ پنجم اسفند ۱۴۳۹ اسفند ۱۴۳۹', 'یازدهم بهمن هزار چهارصد بیست هفت یازده بهمن ۱۴۲۷ بهمن یازده ۱۴۲۷ یازدهم بهمن ۱۴۲۷ بهمن یازده ۱۴۲۷', 'فروردین هزار دویست فروردین ۱۲۰۱ فروردین ۱۲۰۱ یکم فروردین ۱۲۰۱ فروردین ۱۲۰۱', 'سی\\u200cام مهر هزار چهارصد شانزده مهر هزار چهارصد شانزده مهر ۱۴۱۶ مهر ۱۴۱۶ سی\\u200cام مهر ۱۴۱۶ سیِ مهر ۱۴۱۶ سی\\u200cام مهر ماه ۱۴۱۶ مهرِ ۱۴۱۶ مهر ۱۴۱۶', 'دوازدهم اردیبهشت هزار چهارصد پنجاه دوازده اردیبهشت ۱۴۵۶ اردیبهشت دوازده ۱۴۵۶ دوازدهم اردیبهشت ۱۴۵۶ اردیبهشت دوازده ۱۴۵۶', 'هشتم خرداد هزار سیصد هشت خرداد ۱۳۰۹ خرداد هشت ۱۳۰۹ هشتم خرداد ۱۳۰۹ خرداد هشت ۱۳۰۹', 'هفدهم شهریور هزار دویست بیست هشت هفده شهریور ۱۲۲۸ شهریور هفده ۱۲۲۸ هفدهم شهریور ۱۲۲۸ شهریور هفده ۱۲۲۸', 'نهم اسفند هزار چهارصد هفت اسفند ۱۴۰۷ اسفند ۱۴۰۷ نهم اسفند ۱۴۰۷ اسفند ۱۴۰۷', 'بیست پنجم تیر هزار چهارصد بیست بیست تیر ۱۴۲۱ تیر بیست ۱۴۲۱ بیست پنجم تیر ۱۴۲۱ تیر بیست ۱۴۲۱', 'چهاردهم تیر هزار دویست چهارده تیر ۱۲۰۵ تیر چهارده ۱۲۰۵ چهاردهم تیر ۱۲۰۵ تیر چهارده ۱۲۰۵', 'سیزدهم اردیبهشت هزار سیصد نود سیزده اردیبهشت ۱۳۹۳ اردیبهشت سیزده ۱۳۹۳ سیزدهم اردیبهشت ۱۳۹۳ اردیبهشت سیزده ۱۳۹۳', 'ششم آذر هزار سیصد چهل آذر ۱۳۴۶ آذر ۱۳۴۶ ششم آذر ۱۳۴۶ آذر ۱۳۴۶', 'پنجم مرداد هزار چهارصد پنجاه مرداد ۱۴۵۳ مرداد ۱۴۵۳ پنجم مرداد ۱۴۵۳ مرداد ۱۴۵۳', 'بیستم خرداد هزار چهارصد هشت بیست خرداد ۱۴۳۸ خرداد بیست ۱۴۳۸ بیستم خرداد ۱۴۳۸ خرداد بیست ۱۴۳۸', 'هجدهم آبان هزار سیصد شصت هجده آبان ۱۳۶۹ آبان هجده ۱۳۶۹ هجدهم آبان ۱۳۶۹ آبان هجده ۱۳۶۹', 'بهمن هزار چهارصد ده یکم بهمن ۱۴۱۰ بهمن ۱۴۱۰ بهمن ۱۴۱۰ بهمن ۱۴۱۰', 'پنجم اسفند هزار دویست بیست اسفند ۱۲۲۶ اسفند ۱۲۲۶ پنجم اسفند ۱۲۲۶ اسفند ۱۲۲۶', 'بیست هفتم اردیبهشت هزار دویست پنجاه هشت بیست هفت اردیبهشت ۱۲۵۸ اردیبهشت بیست هفت ۱۲۵۸ بیست هفتم اردیبهشت ۱۲۵۸ اردیبهشت بیست هفت ۱۲۵۸', 'چهاردهم مهر هزار چهارصد چهارده چهارده مهر ۱۴۱۴ مهر چهارده ۱۴۱۴ چهاردهم مهر ۱۴۱۴ مهر چهارده ۱۴۱۴', 'دهم مهر هزار سیصد بیست ده مهر ۱۳۲۹ مهر ده ۱۳۲۹ دهم مهر ۱۳۲۹ مهر ده ۱۳۲۹', 'پنجم فروردین هزار چهارصد هشت فروردین هزار چهارصد هشت فروردین ۱۴۰۸ فروردین ۱۴۰۸ پنجم فروردین ۱۴۰۸ پنجِ فروردین ۱۴۰۸ پنجم فروردین ماه ۱۴۰۸ فروردینِ ۱۴۰۸ فروردین ۱۴۰۸', 'پانزدهم تیر هزار چهارصد هفتاد پانزده تیر ۱۴۷۰ تیر پانزده ۱۴۷۰ پانزدهم تیر ۱۴۷۰ تیر پانزده ۱۴۷۰', 'نوزدهم آبان هزار چهارصد هشتاد نوزده آبان ۱۴۸۶ آبان نوزده ۱۴۸۶ نوزدهم آبان ۱۴۸۶ آبان نوزده ۱۴۸۶', 'دهم دی هزار دویست ده دی ۱۲۳۱ دی ده ۱۲۳۱ دهم دی ۱۲۳۱ دی ده ۱۲۳۱', 'مرداد هزار دویست پنجاه مرداد ۱۲۵۲ مرداد ۱۲۵۲ مرداد ۱۲۵۲ مرداد ۱۲۵۲', 'تیر هزار سیصد تیر هزار سیصد تیر ۱۳۰۳ تیر ۱۳۰۳ تیر ۱۳۰۳ یکِ تیر ۱۳۰۳ یکم تیر ۱۳۰۳ تیر ماه ۱۳۰۳ تیرِ ۱۳۰۳', 'هیجدهم خرداد هزار دویست هفتاد هیجده خرداد ۱۲۷۰ خرداد هیجده ۱۲۷۰ هیجدهم خرداد ۱۲۷۰ خرداد هیجده ۱۲۷۰', 'پانزدهم اردیبهشت هزار دویست هفتاد هفت پانزده اردیبهشت ۱۲۷۷ اردیبهشت پانزده ۱۲۷۷ پانزدهم اردیبهشت ۱۲۷۷ اردیبهشت پانزده ۱۲۷۷', 'سیزدهم اسفند هزار دویست نود سیزده اسفند ۱۲۹۴ اسفند سیزده ۱۲۹۴ سیزدهم اسفند ۱۲۹۴ اسفند سیزده ۱۲۹۴', 'سی\\u200cام خرداد هزار چهارصد پنجاه خرداد ۱۴۵۴ خرداد ۱۴۵۴ سی\\u200cام خرداد ۱۴۵۴ خرداد ۱۴۵۴', 'بیست فروردین هزار سیصد چهل بیست فروردین ۱۳۴۱ فروردین بیست ۱۳۴۱ بیست فروردین ۱۳۴۱ فروردین بیست ۱۳۴۱', 'هشتم آبان هزار دویست هفت هشت آبان ۱۲۳۷ آبان هشت ۱۲۳۷ هشتم آبان ۱۲۳۷ آبان هشت ۱۲۳۷', 'یکم اسفند هزار چهارصد بیست اسفند هزار چهارصد بیست اسفند ۱۴۲۵ اسفند ۱۴۲۵ یکم اسفند ۱۴۲۵ یکِ اسفند ۱۴۲۵ یکم اسفند ماه ۱۴۲۵ اسفندِ ۱۴۲۵ اسفند ۱۴۲۵', 'سیزدهم آذر هزار سیصد چهل سیزده آذر ۱۳۴۳ آذر سیزده ۱۳۴۳ سیزدهم آذر ۱۳۴۳ آذر سیزده ۱۳۴۳', 'شهریور هزار دویست یکم شهریور ۱۲۰۶ شهریور ۱۲۰۶ شهریور ۱۲۰۶ شهریور ۱۲۰۶', 'پانزدهم اردیبهشت هزار چهارصد چهارده پانزده اردیبهشت هزار چهارصد چهارده پانزده اردیبهشت ۱۴۱۴ اردیبهشت پانزده ۱۴۱۴ پانزدهم اردیبهشت ۱۴۱۴ پانزدهِ اردیبهشت ۱۴۱۴ پانزدهم اردیبهشت ماه ۱۴۱۴ اردیبهشتِ پانزده ۱۴۱۴ پانزده اردیبهشت ۱۴۱۴', 'ششم اردیبهشت هزار دویست هجده اردیبهشت ۱۲۱۸ اردیبهشت ۱۲۱۸ ششم اردیبهشت ۱۲۱۸ اردیبهشت ۱۲۱۸', 'آذر هزار سیصد یازده آذر ۱۳۱۱ آذر ۱۳۱۱ آذر ۱۳۱۱ آذر ۱۳۱۱', 'بیست هشتم شهریور هزار چهارصد هشتاد هفت بیست هشت شهریور ۱۴۸۷ شهریور بیست هشت ۱۴۸۷ بیست هشتم شهریور ۱۴۸۷ شهریور بیست هشت ۱۴۸۷', 'پنجم مهر هزار سیصد دوازده مهر ۱۳۱۲ مهر ۱۳۱۲ پنجم مهر ۱۳۱۲ مهر ۱۳۱۲', 'پنجم فروردین هزار سیصد بیست هشت فروردین هزار سیصد بیست هشت فروردین ۱۳۴۸ فروردین ۱۳۴۸ پنجم فروردین ۱۳۴۸ پنجِ فروردین ۱۳۴۸ پنجم فروردین ماه ۱۳۴۸ فروردینِ ۱۳۴۸ فروردین ۱۳۴۸', 'هفدهم فروردین هزار چهارصد بیست هفده فروردین ۱۴۲۳ فروردین هفده ۱۴۲۳ هفدهم فروردین ۱۴۲۳ فروردین هفده ۱۴۲۳', 'پانزدهم تیر هزار دویست شصت پانزده تیر ۱۲۶۱ تیر پانزده ۱۲۶۱ پانزدهم تیر ۱۲۶۱ تیر پانزده ۱۲۶۱', 'سی\\u200cام دی هزار سیصد هشتاد دی ۱۳۸۵ دی ۱۳۸۵ سی\\u200cام دی ۱۳۸۵ دی ۱۳۸۵', 'پنجم خرداد هزار چهارصد پنجاه خرداد ۱۴۵۶ خرداد ۱۴۵۶ پنجم خرداد ۱۴۵۶ خرداد ۱۴۵۶', 'آذر هزار سیصد بیستم آذر هزار سیصد بیستم آذر ۱۳۲۰ آذر ۱۳۲۰ آذر ۱۳۲۰ یکِ آذر ۱۳۲۰ یکم آذر ۱۳۲۰ آذر ماه ۱۳۲۰ آذرِ ۱۳۲۰', 'بیستم خرداد هزار چهارصد چهارده بیست خرداد هزار چهارصد چهارده بیست خرداد ۱۴۱۴ خرداد بیست ۱۴۱۴ بیستم خرداد ۱۴۱۴ بیستِ خرداد ۱۴۱۴ بیستم خرداد ماه ۱۴۱۴ خردادِ بیست ۱۴۱۴ بیست خرداد ۱۴۱۴', 'بیست دی هزار دویست هشت بیست دی ۱۲۰۸ دی بیست ۱۲۰۸ بیست دی ۱۲۰۸ دی بیست ۱۲۰۸', 'دوازدهم بهمن هزار چهارصد نود دوازده بهمن ۱۴۹۳ بهمن دوازده ۱۴۹۳ دوازدهم بهمن ۱۴۹۳ بهمن دوازده ۱۴۹۳', 'چهاردهم خرداد هزار چهارصد شانزده چهارده خرداد ۱۴۱۶ خرداد چهارده ۱۴۱۶ چهاردهم خرداد ۱۴۱۶ خرداد چهارده ۱۴۱۶', 'بیست دی هزار چهارصد هفتاد بیست دی ۱۴۷۳ دی بیست ۱۴۷۳ بیست دی ۱۴۷۳ دی بیست ۱۴۷۳', 'نوزدهم اردیبهشت هزار سیصد بیست نوزده اردیبهشت ۱۳۲۱ اردیبهشت نوزده ۱۳۲۱ نوزدهم اردیبهشت ۱۳۲۱ اردیبهشت نوزده ۱۳۲۱', 'بیستم آبان هزار سیصد بیست بیست آبان ۱۳۲۰ آبان بیست ۱۳۲۰ بیستم آبان ۱۳۲۰ آبان بیست ۱۳۲۰', 'پانزدهم فروردین هزار دویست پنجاه پانزده فروردین ۱۲۵۴ فروردین پانزده ۱۲۵۴ پانزدهم فروردین ۱۲۵۴ فروردین پانزده ۱۲۵۴', 'یازدهم بهمن هزار چهارصد هشتاد هشت یازده بهمن ۱۴۸۸ بهمن یازده ۱۴۸۸ یازدهم بهمن ۱۴۸۸ بهمن یازده ۱۴۸۸', 'مهر هزار دویست شصت مهر هزار دویست شصت مهر ۱۲۶۰ مهر ۱۲۶۰ مهر ۱۲۶۰ یکِ مهر ۱۲۶۰ یکم مهر ۱۲۶۰ مهر ماه ۱۲۶۰ مهرِ ۱۲۶۰', 'آذر هزار سیصد آذر هزار سیصد آذر ۱۳۵۶ آذر ۱۳۵۶ آذر ۱۳۵۶ یکِ آذر ۱۳۵۶ یکم آذر ۱۳۵۶ آذر ماه ۱۳۵۶ آذرِ ۱۳۵۶', 'سی\\u200cام آذر هزار سیصد پنجاه هفت آذر ۱۳۵۷ آذر ۱۳۵۷ سی\\u200cام آذر ۱۳۵۷ آذر ۱۳۵۷', 'پانزدهم آذر هزار چهارصد پنجاه پانزده آذر ۱۴۵۶ آذر پانزده ۱۴۵۶ پانزدهم آذر ۱۴۵۶ آذر پانزده ۱۴۵۶', 'دی هزار سیصد هفتاد دی ۱۳۷۳ دی ۱۳۷۳ یکم دی ۱۳۷۳ دی ۱۳۷۳', 'دهم آبان هزار دویست هفتاد ده آبان هزار دویست هفتاد ده آبان ۱۲۷۵ آبان ده ۱۲۷۵ دهم آبان ۱۲۷۵ دهِ آبان ۱۲۷۵ دهم آبان ماه ۱۲۷۵ آبانِ ده ۱۲۷۵ ده آبان ۱۲۷۵', 'بیست مرداد هزار چهارصد نود هفت بیست مرداد ۱۴۹۷ مرداد بیست ۱۴۹۷ بیست مرداد ۱۴۹۷ مرداد بیست ۱۴۹۷', 'پانزدهم مرداد هزار دویست هشتاد پانزده مرداد ۱۲۸۶ مرداد پانزده ۱۲۸۶ پانزدهم مرداد ۱۲۸۶ مرداد پانزده ۱۲۸۶', 'هفتم تیر هزار چهارصد هشتاد هفت تیر ۱۴۸۹ تیر هفت ۱۴۸۹ هفتم تیر ۱۴۸۹ تیر هفت ۱۴۸۹', 'دوازدهم شهریور هزار دویست هفتاد دوازده شهریور ۱۲۷۴ شهریور دوازده ۱۲۷۴ دوازدهم شهریور ۱۲۷۴ شهریور دوازده ۱۲۷۴', 'بیست فروردین هزار دویست پنجاه بیست فروردین ۱۲۵۵ فروردین بیست ۱۲۵۵ بیست فروردین ۱۲۵۵ فروردین بیست ۱۲۵۵', 'بیست پنجم بهمن هزار سیصد چهارده بیست بهمن هزار سیصد چهارده بیست بهمن ۱۳۳۴ بهمن بیست ۱۳۳۴ بیست پنجم بهمن ۱۳۳۴ بیست پنجِ بهمن ۱۳۳۴ بیست پنجم بهمن ماه ۱۳۳۴ بهمنِ بیست ۱۳۳۴ بیست بهمن ۱۳۳۴', 'بیست نهم مرداد هزار چهارصد 91 بیست مرداد ۱۴۹۱ مرداد بیست ۱۴۹۱ بیست نهم مرداد ۱۴۹۱ مرداد بیست ۱۴۹۱', 'هشتم تیر هزار چهارصد هشت تیر ۱۴۳۱ تیر هشت ۱۴۳۱ هشتم تیر ۱۴۳۱ تیر هشت ۱۴۳۱', 'بیست نهم فروردین هزار پانصد بیست فروردین ۱۵۰۰ فروردین بیست ۱۵۰۰ بیست نهم فروردین ۱۵۰۰ فروردین بیست ۱۵۰۰', 'پانزدهم شهریور هزار دویست شصت هفت پانزده شهریور ۱۲۶۷ شهریور پانزده ۱۲۶۷ پانزدهم شهریور ۱۲۶۷ شهریور پانزده ۱۲۶۷', 'دوازدهم اسفند هزار دویست هشتاد دوازده اسفند ۱۲۸۱ اسفند دوازده ۱۲۸۱ دوازدهم اسفند ۱۲۸۱ اسفند دوازده ۱۲۸۱', 'یازدهم آبان هزار سیصد نوزده یازده آبان هزار سیصد نوزده یازده آبان ۱۳۱۹ آبان یازده ۱۳۱۹ یازدهم آبان ۱۳۱۹ یازدهِ آبان ۱۳۱۹ یازدهم آبان ماه ۱۳۱۹ آبانِ یازده ۱۳۱۹ یازده آبان ۱۳۱۹', 'بیست نهم دی هزار چهارصد شصت بیست دی ۱۴۶۲ دی بیست ۱۴۶۲ بیست نهم دی ۱۴۶۲ دی بیست ۱۴۶۲', 'دوازدهم آبان هزار دویست دوازده آبان ۱۲۰۲ آبان دوازده ۱۲۰۲ دوازدهم آبان ۱۲۰۲ آبان دوازده ۱۲۰۲', 'بیست هشتم آذر هزار سیصد هفتاد بیست هشت آذر ۱۳۷۴ آذر بیست هشت ۱۳۷۴ بیست هشتم آذر ۱۳۷۴ آذر بیست هشت ۱۳۷۴', 'بیست آبان هزار دویست نود بیست آبان ۱۲۹۴ آبان بیست ۱۲۹۴ بیست آبان ۱۲۹۴ آبان بیست ۱۲۹۴', 'چهاردهم آذر هزار سیصد شست چهارده آذر ۱۳۶۵ آذر چهارده ۱۳۶۵ چهاردهم آذر ۱۳۶۵ آذر چهارده ۱۳۶۵', 'نوزدهم فروردین هزار سیصد شصت نوزده فروردین ۱۳۶۵ فروردین نوزده ۱۳۶۵ نوزدهم فروردین ۱۳۶۵ فروردین نوزده ۱۳۶۵', 'بیست نهم دی هزار سیصد ده بیست دی ۱۳۱۰ دی بیست ۱۳۱۰ بیست نهم دی ۱۳۱۰ دی بیست ۱۳۱۰', 'بیستم اسفند هزار سیصد چهل هشت بیست اسفند ۱۳۴۸ اسفند بیست ۱۳۴۸ بیستم اسفند ۱۳۴۸ اسفند بیست ۱۳۴۸', 'بیست اردیبهشت هزار سیصد بیست بیست اردیبهشت ۱۳۲۱ اردیبهشت بیست ۱۳۲۱ بیست اردیبهشت ۱۳۲۱ اردیبهشت بیست ۱۳۲۱', 'نوزدهم آبان هزار سیصد بیست نوزده آبان ۱۳۲۵ آبان نوزده ۱۳۲۵ نوزدهم آبان ۱۳۲۵ آبان نوزده ۱۳۲۵', 'چهاردهم فروردین هزار چهارصد پنجاه هشت چهارده فروردین ۱۴۵۸ فروردین چهارده ۱۴۵۸ چهاردهم فروردین ۱۴۵۸ فروردین چهارده ۱۴۵۸', 'بیست پنجم اسفند هزار سیصد پنجاه بیست اسفند ۱۳۵۳ اسفند بیست ۱۳۵۳ بیست پنجم اسفند ۱۳۵۳ اسفند بیست ۱۳۵۳', 'پانزدهم مرداد هزار پانصد پانزده مرداد ۱۵۰۰ مرداد پانزده ۱۵۰۰ پانزدهم مرداد ۱۵۰۰ مرداد پانزده ۱۵۰۰', 'بیست فروردین هزار چهارصد پنجاه بیست فروردین ۱۴۵۰ فروردین بیست ۱۴۵۰ بیست فروردین ۱۴۵۰ فروردین بیست ۱۴۵۰', 'فروردین هزار دویست بیست فروردین ۱۲۲۹ فروردین ۱۲۲۹ فروردین ۱۲۲۹ فروردین ۱۲۲۹', 'بیست هفتم آذر هزار سیصد چهل بیست هفت آذر ۱۳۴۴ آذر بیست هفت ۱۳۴۴ بیست هفتم آذر ۱۳۴۴ آذر بیست هفت ۱۳۴۴', 'بیست هفتم آبان هزار دویست هفت بیست هفت آبان ۱۲۰۷ آبان بیست هفت ۱۲۰۷ بیست هفتم آبان ۱۲۰۷ آبان بیست هفت ۱۲۰۷', 'اسفند هزار سیصد هفتاد اسفند ۱۳۷۹ اسفند ۱۳۷۹ یکم اسفند ۱۳۷۹ اسفند ۱۳۷۹', 'پانزدهم اسفند هزار سیصد پانزده اسفند ۱۳۰۹ اسفند پانزده ۱۳۰۹ پانزدهم اسفند ۱۳۰۹ اسفند پانزده ۱۳۰۹', 'بیست پنجم مرداد هزار سیصد پنجاه بیست مرداد ۱۳۵۰ مرداد بیست ۱۳۵۰ بیست پنجم مرداد ۱۳۵۰ مرداد بیست ۱۳۵۰', 'پانزدهم اردیبهشت هزار سیصد پنجاه پانزده اردیبهشت هزار سیصد پنجاه پانزده اردیبهشت ۱۳۷۳ اردیبهشت پانزده ۱۳۷۳ پانزدهم اردیبهشت ۱۳۷۳ پانزدهِ اردیبهشت ۱۳۷۳ پانزدهم اردیبهشت ماه ۱۳۷۳ اردیبهشتِ پانزده ۱۳۷۳ پانزده اردیبهشت ۱۳۷۳', 'هفتم فروردین هزار سیصد شست هفت فروردین ۱۳۶۹ فروردین هفت ۱۳۶۹ هفتم فروردین ۱۳۶۹ فروردین هفت ۱۳۶۹', 'بیست شهریور هزار دویست بیست شهریور ۱۲۳۹ شهریور بیست ۱۲۳۹ بیست شهریور ۱۲۳۹ شهریور بیست ۱۲۳۹', 'چهاردهم تیر هزار دویست بیست چهارده تیر ۱۲۲۰ تیر چهارده ۱۲۲۰ چهاردهم تیر ۱۲۲۰ تیر چهارده ۱۲۲۰', 'پنجم خرداد هزار دویست بیست خرداد ۱۲۲۳ خرداد ۱۲۲۳ پنجم خرداد ۱۲۲۳ خرداد ۱۲۲۳', 'چهاردهم مرداد هزار سیصد هشتاد چهارده مرداد ۱۳۸۹ مرداد چهارده ۱۳۸۹ چهاردهم مرداد ۱۳۸۹ مرداد چهارده ۱۳۸۹', 'یازدهم اردیبهشت هزار چهارصد 76 یازده اردیبهشت ۱۴۷۶ اردیبهشت یازده ۱۴۷۶ یازدهم اردیبهشت ۱۴۷۶ اردیبهشت یازده ۱۴۷۶', 'بیستم اردیبهشت هزار چهارصد بیست اردیبهشت ۱۴۳۶ اردیبهشت بیست ۱۴۳۶ بیستم اردیبهشت ۱۴۳۶ اردیبهشت بیست ۱۴۳۶', 'بیست پنجم آذر هزار دویست پنجاه بیست آذر ۱۲۵۱ آذر بیست ۱۲۵۱ بیست پنجم آذر ۱۲۵۱ آذر بیست ۱۲۵۱', 'پنجم فروردین هزار سیصد بیست فروردین هزار سیصد بیست فروردین ۱۳۲۴ فروردین ۱۳۲۴ پنجم فروردین ۱۳۲۴ پنجِ فروردین ۱۳۲۴ پنجم فروردین ماه ۱۳۲۴ فروردینِ ۱۳۲۴ فروردین ۱۳۲۴', 'یازدهم مهر هزار چهارصد یازده مهر ۱۴۳۱ مهر یازده ۱۴۳۱ یازدهم مهر ۱۴۳۱ مهر یازده ۱۴۳۱', 'بیستم مهر هزار چهارصد شست هفت بیست مهر ۱۴۶۷ مهر بیست ۱۴۶۷ بیستم مهر ۱۴۶۷ مهر بیست ۱۴۶۷', 'دوازدهم آذر هزار دویست شصت دوازده آذر ۱۲۶۶ آذر دوازده ۱۲۶۶ دوازدهم آذر ۱۲۶۶ آذر دوازده ۱۲۶۶', 'آذر هزار سیصد هفتاد یکم آذر ۱۳۷۱ آذر ۱۳۷۱ آذر ۱۳۷۱ آذر ۱۳۷۱', 'سی\\u200cام اردیبهشت هزار چهارصد شصت اردیبهشت ۱۴۶۵ اردیبهشت ۱۴۶۵ سی\\u200cام اردیبهشت ۱۴۶۵ اردیبهشت ۱۴۶۵', 'مرداد هزار چهارصد هفت مرداد ۱۴۳۷ مرداد ۱۴۳۷ مرداد ۱۴۳۷ مرداد ۱۴۳۷', 'یازدهم آبان هزار چهارصد بیست یازده آبان هزار چهارصد بیست یازده آبان ۱۴۲۲ آبان یازده ۱۴۲۲ یازدهم آبان ۱۴۲۲ یازدهِ آبان ۱۴۲۲ یازدهم آبان ماه ۱۴۲۲ آبانِ یازده ۱۴۲۲ یازده آبان ۱۴۲۲', 'یازدهم اسفند هزار دویست یازده اسفند ۱۲۰۵ اسفند یازده ۱۲۰۵ یازدهم اسفند ۱۲۰۵ اسفند یازده ۱۲۰۵', 'بیست هشتم آبان هزار چهارصد پنجاه هفت بیست هشت آبان ۱۴۵۷ آبان بیست هشت ۱۴۵۷ بیست هشتم آبان ۱۴۵۷ آبان بیست هشت ۱۴۵۷', 'یازدهم بهمن هزار سیصد 83 یازده بهمن ۱۳۸۳ بهمن یازده ۱۳۸۳ یازدهم بهمن ۱۳۸۳ بهمن یازده ۱۳۸۳', 'بیست پنجم بهمن هزار سیصد بیست بیست بهمن هزار سیصد بیست بیست بهمن ۱۳۲۲ بهمن بیست ۱۳۲۲ بیست پنجم بهمن ۱۳۲۲ بیست پنجِ بهمن ۱۳۲۲ بیست پنجم بهمن ماه ۱۳۲۲ بهمنِ بیست ۱۳۲۲ بیست بهمن ۱۳۲۲', 'بیستم خرداد هزار سیصد چهل بیست خرداد هزار سیصد چهل بیست خرداد ۱۳۶۲ خرداد بیست ۱۳۶۲ بیستم خرداد ۱۳۶۲ بیستِ خرداد ۱۳۶۲ بیستم خرداد ماه ۱۳۶۲ خردادِ بیست ۱۳۶۲ بیست خرداد ۱۳۶۲', 'دهم اردیبهشت هزار چهارصد نود ده اردیبهشت ۱۴۹۹ اردیبهشت ده ۱۴۹۹ دهم اردیبهشت ۱۴۹۹ اردیبهشت ده ۱۴۹۹', 'سی\\u200cام اسفند هزار دویست هشتاد اسفند ۱۲۸۰ اسفند ۱۲۸۰ سی\\u200cام اسفند ۱۲۸۰ اسفند ۱۲۸۰', 'سی\\u200cام مهر هزار دویست نود مهر ۱۲۹۶ مهر ۱۲۹۶ سی\\u200cام مهر ۱۲۹۶ مهر ۱۲۹۶', 'یازدهم مهر هزار دویست نود یازده مهر ۱۲۹۲ مهر یازده ۱۲۹۲ یازدهم مهر ۱۲۹۲ مهر یازده ۱۲۹۲', 'پانزدهم اردیبهشت هزار سیصد پانزده اردیبهشت هزار سیصد پانزده اردیبهشت ۱۳۰۱ اردیبهشت پانزده ۱۳۰۱ پانزدهم اردیبهشت ۱۳۰۱ پانزدهِ اردیبهشت ۱۳۰۱ پانزدهم اردیبهشت ماه ۱۳۰۱ اردیبهشتِ پانزده ۱۳۰۱ پانزده اردیبهشت ۱۳۰۱', 'آذر هزار سیصد چهل هشت آذر هزار سیصد چهل هشت آذر ۱۳۶۸ آذر ۱۳۶۸ آذر ۱۳۶۸ یکِ آذر ۱۳۶۸ یکم آذر ۱۳۶۸ آذر ماه ۱۳۶۸ آذرِ ۱۳۶۸', 'بهمن هزار سیصد شست بهمن ۱۳۶۱ بهمن ۱۳۶۱ بهمن ۱۳۶۱ بهمن ۱۳۶۱', 'اسفند هزار دویست چهل هفت یکم اسفند ۱۲۴۷ اسفند ۱۲۴۷ اسفند ۱۲۴۷ اسفند ۱۲۴۷', 'پنجم فروردین هزار سیصد شانزده فروردین هزار سیصد شانزده فروردین ۱۳۳۶ فروردین ۱۳۳۶ پنجم فروردین ۱۳۳۶ پنجِ فروردین ۱۳۳۶ پنجم فروردین ماه ۱۳۳۶ فروردینِ ۱۳۳۶ فروردین ۱۳۳۶', 'نوزدهم اسفند هزار دویست نوزده اسفند ۱۲۳۴ اسفند نوزده ۱۲۳۴ نوزدهم اسفند ۱۲۳۴ اسفند نوزده ۱۲۳۴', 'دهم آذر هزار سیصد شصت ده آذر ۱۳۶۳ آذر ده ۱۳۶۳ دهم آذر ۱۳۶۳ آذر ده ۱۳۶۳', 'بیست هفتم اردیبهشت هزار سیصد هشتاد هفت بیست هفت اردیبهشت ۱۳۸۷ اردیبهشت بیست هفت ۱۳۸۷ بیست هفتم اردیبهشت ۱۳۸۷ اردیبهشت بیست هفت ۱۳۸۷', 'چهاردهم تیر هزار چهارصد هشتاد هفت چهارده تیر ۱۴۸۷ تیر چهارده ۱۴۸۷ چهاردهم تیر ۱۴۸۷ تیر چهارده ۱۴۸۷', 'هجدهم خرداد هزار چهارصد 75 هجدده خرداد ۱۴۷۵ خرداد هجده ۱۴۷۵ هجدهم خرداد ۱۴۷۵ خرداد هجده ۱۴۷۵', 'بیست نهم مهر هزار دویست چهل بیست مهر ۱۲۴۶ مهر بیست ۱۲۴۶ بیست نهم مهر ۱۲۴۶ مهر بیست ۱۲۴۶', 'سی\\u200cام مهر هزار چهارصد ده مهر هزار چهارصد ده مهر ۱۴۱۰ مهر ۱۴۱۰ سی\\u200cام مهر ۱۴۱۰ سیِ مهر ۱۴۱۰ سی\\u200cام مهر ماه ۱۴۱۰ مهرِ ۱۴۱۰ مهر ۱۴۱۰', 'هفدهم شهریور هزار دویست هفتاد هشت هفده شهریور ۱۲۷۸ شهریور هفده ۱۲۷۸ هفدهم شهریور ۱۲۷۸ شهریور هفده ۱۲۷۸', 'سی\\u200cام بهمن هزار سیصد بهمن ۱۳۰۵ بهمن ۱۳۰۵ سی\\u200cام بهمن ۱۳۰۵ بهمن ۱۳۰۵', 'شانزدهم آبان هزار چهارصد هشت شانزده آبان ۱۴۳۸ آبان شانزده ۱۴۳۸ شانزدهم آبان ۱۴۳۸ آبان شانزده ۱۴۳۸', 'دی هزار سیصد پنجاه دی ۱۳۵۵ دی ۱۳۵۵ دی ۱۳۵۵ دی ۱۳۵۵', 'اردیبهشت هزار دویست هفتاد اردیبهشت ۱۲۷۹ اردیبهشت ۱۲۷۹ اردیبهشت ۱۲۷۹ اردیبهشت ۱۲۷۹', 'نوزدهم شهریور هزار چهارصد نوزده شهریور ۱۴۰۲ شهریور نوزده ۱۴۰۲ نوزدهم شهریور ۱۴۰۲ شهریور نوزده ۱۴۰۲', 'بهمن هزار چهارصد شصت بهمن ۱۴۶۱ بهمن ۱۴۶۱ بهمن ۱۴۶۱ بهمن ۱۴۶۱', 'شانزدهم اردیبهشت هزار چهارصد 92 شانزده اردیبهشت ۱۴۹۲ اردیبهشت شانزده ۱۴۹۲ شانزدهم اردیبهشت ۱۴۹۲ اردیبهشت شانزده ۱۴۹۲', 'بیست ششم بهمن هزار سیصد بیست بهمن ۱۳۳۴ بهمن بیست ۱۳۳۴ بیست ششم بهمن ۱۳۳۴ بهمن بیست ۱۳۳۴', 'بیست هشتم آبان هزار دویست هشتاد هشت بیست هشت آبان ۱۲۸۸ آبان بیست هشت ۱۲۸۸ بیست هشتم آبان ۱۲۸۸ آبان بیست هشت ۱۲۸۸', 'یازدهم تیر هزار چهارصد شصت یازده تیر ۱۴۶۱ تیر یازده ۱۴۶۱ یازدهم تیر ۱۴۶۱ تیر یازده ۱۴۶۱', 'شانزدهم اردیبهشت هزار سیصد شانزده اردیبهشت ۱۳۰۴ اردیبهشت شانزده ۱۳۰۴ شانزدهم اردیبهشت ۱۳۰۴ اردیبهشت شانزده ۱۳۰۴', 'یازدهم آبان هزار سیصد هفت یازده آبان هزار سیصد هفت یازده آبان ۱۳۰۷ آبان یازده ۱۳۰۷ یازدهم آبان ۱۳۰۷ یازدهِ آبان ۱۳۰۷ یازدهم آبان ماه ۱۳۰۷ آبانِ یازده ۱۳۰۷ یازده آبان ۱۳۰۷', 'نوزدهم فروردین هزار چهارصد هفت نوزده فروردین ۱۴۰۷ فروردین نوزده ۱۴۰۷ نوزدهم فروردین ۱۴۰۷ فروردین نوزده ۱۴۰۷', 'پانزدهم مهر هزار چهارصد شست پانزده مهر ۱۴۶۲ مهر پانزده ۱۴۶۲ پانزدهم مهر ۱۴۶۲ M مهر پانزده ۱۴۶۲', 'دهم اسفند هزار دویست نود ده اسفند ۱۲۹۲ اسفند ده ۱۲۹۲ دهم اسفند ۱۲۹۲ اسفند ده ۱۲۹۲', 'چهاردهم فروردین هزار دویست بیست چهارده فروردین ۱۲۲۲ فروردین چهارده ۱۲۲۲ چهاردهم فروردین ۱۲۲۲ فروردین چهارده ۱۲۲۲', 'پنجم آذر هزار چهارصد هشتاد آذر ۱۴۸۴ آذر ۱۴۸۴ پنجم آذر ۱۴۸۴ آذر ۱۴۸۴', 'هفتم مرداد هزار پانصد هفت مرداد ۱۵۰۰ مرداد هفت ۱۵۰۰ هفتم مرداد ۱۵۰۰ مرداد هفت ۱۵۰۰', 'مهر هزار دویست چهل مهر ۱۲۴۳ مهر ۱۲۴۳ مهر ۱۲۴۳ مهر ۱۲۴۳', 'آذر هزار چهارصد یازده آذر هزار چهارصد یازده آذر ۱۴۱۱ آذر ۱۴۱۱ آذر ۱۴۱۱ یکِ آذر ۱۴۱۱ یکم آذر ۱۴۱۱ آذر ماه ۱۴۱۱ آذرِ ۱۴۱۱', 'بیست ششم خرداد هزار دویست هشت بیست خرداد ۱۲۰۸ خرداد بیست ۱۲۰۸ بیست ششم خرداد ۱۲۰۸ خرداد بیست ۱۲۰۸', 'بیست یکم دی هزار چهارصد بیست دی ۱۴۰۳ دی بیست ۱۴۰۳ بیست یکم دی ۱۴۰۳ دی بیست ۱۴۰۳', 'دهم دی هزار چهارصد بیست ده دی هزار چهارصد بیست ده دی ۱۴۲۳ دی ده ۱۴۲۳ دهم دی ۱۴۲۳ دهِ دی ۱۴۲۳ دهم دی ماه ۱۴۲۳ دیِ ده ۱۴۲۳ ده دی ۱۴۲۳', 'هشتم خرداد هزار دویست بیست هفت هشت خرداد ۱۲۲۷ خرداد هشت ۱۲۲۷ هشتم خرداد ۱۲۲۷ خرداد هشت ۱۲۲۷', 'نهم آذر هزار دویست آذر ۱۲۳۶ آذر ۱۲۳۶ نهم آذر ۱۲۳۶ آذر ۱۲۳۶', 'شانزدهم آبان هزار دویست پنجاه شانزده آبان ۱۲۵۴ آبان شانزده ۱۲۵۴ شانزدهم آبان ۱۲۵۴ آبان شانزده ۱۲۵۴', 'فروردین هزار سیصد فروردین هزار سیصد فروردین ۱۳۰۰ فروردین ۱۳۰۰ فروردین ۱۳۰۰ یکِ فروردین ۱۳۰۰ یکم فروردین ۱۳۰۰ فروردین ماه ۱۳۰۰ فروردینِ ۱۳۰۰', 'آذر هزار چهارصد بیست آذر هزار چهارصد بیست آذر ۱۴۲۳ آذر ۱۴۲۳ آذر ۱۴۲۳ یکِ آذر ۱۴۲۳ یکم آذر ۱۴۲۳ آذر ماه ۱۴۲۳ آذرِ ۱۴۲۳', 'دهم دی هزار چهارصد هفده ده دی هزار چهارصد هفده ده دی ۱۴۱۷ دی ده ۱۴۱۷ دهم دی ۱۴۱۷ دهِ دی ۱۴۱۷ دهم دی ماه ۱۴۱۷ دیِ ده ۱۴۱۷ ده دی ۱۴۱۷', 'پانزدهم مرداد هزار چهارصد بیست پانزده مرداد ۱۴۲۹ مرداد پانزده ۱۴۲۹ پانزدهم مرداد ۱۴۲۹ مرداد پانزده ۱۴۲۹', 'یازدهم آبان هزار سیصد یازده آبان هزار سیصد یازده آبان ۱۳۵۵ آبان یازده ۱۳۵۵ یازدهم آبان ۱۳۵۵ یازدهِ آبان ۱۳۵۵ یازدهم آبان ماه ۱۳۵۵ آبانِ یازده ۱۳۵۵ یازده آبان ۱۳۵۵', 'سیزدهم فروردین هزار دویست پنجاه سیزده فروردین ۱۲۵۹ فروردین سیزده ۱۲۵۹ سیزدهم فروردین ۱۲۵۹ فروردین سیزده ۱۲۵۹', 'بیستم شهریور هزار سیصد بیست شهریور هزار سیصد بیست شهریور ۱۳۵۳ شهریور بیست ۱۳۵۳ بیستم شهریور ۱۳۵۳ بیستِ شهریور ۱۳۵۳ بیستم شهریور ماه ۱۳۵۳ شهریورِ بیست ۱۳۵۳ بیست شهریور ۱۳۵۳', 'بیست نهم مهر هزار دویست بیست مهر ۱۲۰۵ مهر بیست ۱۲۰۵ بیست نهم مهر ۱۲۰۵ مهر بیست ۱۲۰۵', 'تیر هزار چهارصد پانزده تیر هزار چهارصد پانزده تیر ۱۴۱۵ تیر ۱۴۱۵ تیر ۱۴۱۵ یکِ تیر ۱۴۱۵ یکم تیر ۱۴۱۵ تیر ماه ۱۴۱۵ تیرِ ۱۴۱۵', 'یازدهم خرداد هزار چهارصد یازده خرداد ۱۴۰۴ خرداد یازده ۱۴۰۴ یازدهم خرداد ۱۴۰۴ خرداد یازده ۱۴۰۴', 'دوازدهم مرداد هزار دویست هفتاد دوازده مرداد ۱۲۷۵ مرداد دوازده ۱۲۷۵ دوازدهم مرداد ۱۲۷۵ مرداد دوازده ۱۲۷۵', 'بیست نهم شهریور هزار دویست نود بیست شهریور ۱۲۹۱ شهریور بیست ۱۲۹۱ بیست نهم شهریور ۱۲۹۱ شهریور بیست ۱۲۹۱', 'آذر هزار چهارصد هفده آذر هزار چهارصد هفده آذر ۱۴۱۷ آذر ۱۴۱۷ آذر ۱۴۱۷ یکِ آذر ۱۴۱۷ یکم آذر ۱۴۱۷ آذر ماه ۱۴۱۷ آذرِ ۱۴۱۷', 'سی\\u200cام اسفند هزار چهارصد اسفند ۱۴۰۳ اسفند ۱۴۰۳ سی\\u200cام اسفند ۱۴۰۳ اسفند ۱۴۰۳', 'آذر هزار سیصد چهل هشت آذر ۱۳۴۸ آذر ۱۳۴۸ آذر ۱۳۴۸ آذر ۱۳۴۸', 'بیست اردیبهشت هزار سیصد شصت بیست اردیبهشت ۱۳۶۱ اردیبهشت بیست ۱۳۶۱ بیست اردیبهشت ۱۳۶۱ اردیبهشت بیست ۱۳۶۱', 'بیست یکم مرداد هزار سیصد بیست بیست مرداد ۱۳۲۰ مرداد بیست ۱۳۲۰ بیست یکم مرداد ۱۳۲۰ مرداد بیست ۱۳۲۰', 'بیستم خرداد هزار چهارصد هشت بیست خرداد هزار چهارصد هشت بیست خرداد ۱۴۰۸ خرداد بیست ۱۴۰۸ بیستم خرداد ۱۴۰۸ بیستِ خرداد ۱۴۰۸ بیستم خرداد ماه ۱۴۰۸ خردادِ بیست ۱۴۰۸ بیست خرداد ۱۴۰۸', 'دهم دی هزار سیصد بیست ده دی هزار سیصد بیست ده دی ۱۳۴۵ دی ده ۱۳۴۵ دهم دی ۱۳۴۵ دهِ دی ۱۳۴۵ دهم دی ماه ۱۳۴۵ دیِ ده ۱۳۴۵ ده دی ۱۳۴۵', 'بیست پنجم آبان هزار دویست چهل بیست آبان ۱۲۴۴ آبان بیست ۱۲۴۴ بیست پنجم آبان ۱۲۴۴ آبان بیست ۱۲۴۴', 'سی\\u200cام فروردین هزار سیصد نود فروردین ۱۳۹۴ فروردین ۱۳۹۴ سی\\u200cام فروردین ۱۳۹۴ فروردین ۱۳۹۴', 'بیست نهم آذر هزار دویست بیست بیست آذر ۱۲۲۵ آذر بیست ۱۲۲۵ بیست نهم آذر ۱۲۲۵ آذر بیست ۱۲۲۵', 'بیست ششم تیر هزار دویست بیست تیر ۱۲۳۴ تیر بیست ۱۲۳۴ بیست ششم تیر ۱۲۳۴ تیر بیست ۱۲۳۴', 'بیست مهر هزار چهارصد شصت بیست مهر ۱۴۶۰ مهر بیست ۱۴۶۰ بیست مهر ۱۴۶۰ مهر بیست ۱۴۶۰', 'دوازدهم تیر هزار چهارصد هشتاد دوازده تیر ۱۴۸۰ تیر دوازده ۱۴۸۰ دوازدهم تیر ۱۴۸۰ تیر دوازده ۱۴۸۰', 'بیست اردیبهشت هزار سیصد چهل بیست اردیبهشت ۱۳۴۴ اردیبهشت بیست ۱۳۴۴ بیست اردیبهشت ۱۳۴۴ اردیبهشت بیست ۱۳۴۴', 'هجدهم بهمن هزار سیصد نود هجده بهمن ۱۳۹۲ بهمن هجده ۱۳۹۲ هجدهم بهمن ۱۳۹۲ بهمن هجده ۱۳۹۲', 'دهم خرداد هزار چهارصد ده خرداد ۱۴۰۶ خرداد ده ۱۴۰۶ دهم خرداد ۱۴۰۶ خرداد ده ۱۴۰۶', 'بیست آذر هزار چهارصد هفتاد بیست آذر ۱۴۷۲ آذر بیست ۱۴۷۲ بیست آذر ۱۴۷۲ آذر بیست ۱۴۷۲', 'سیزدهم مرداد هزار دویست سیزده مرداد ۱۲۰۱ مرداد سیزده ۱۲۰۱ سیزدهم مرداد ۱۲۰۱ مرداد سیزده ۱۲۰۱', 'بیستم تیر هزار سیصد شست بیست تیر ۱۳۶۹ تیر بیست ۱۳۶۹ بیستم تیر ۱۳۶۹ تیر بیست ۱۳۶۹', 'نهم فروردین هزار سیصد فروردین ۱۳۳۰ فروردین ۱۳۳۰ نهم فروردین ۱۳۳۰ فروردین ۱۳۳۰', 'شانزدهم بهمن هزار دویست بیست شانزده بهمن ۱۲۲۹ بهمن شانزده ۱۲۲۹ شانزدهم بهمن ۱۲۲۹ بهمن شانزده ۱۲۲۹', 'بیست خرداد هزار سیصد چهل بیست خرداد ۱۳۴۰ خرداد بیست ۱۳۴۰ بیست خرداد ۱۳۴۰ خرداد بیست ۱۳۴۰', 'دهم دی هزار سیصد ده دی هزار سیصد ده دی ۱۳۰۹ دی ده ۱۳۰۹ دهم دی ۱۳۰۹ دهِ دی ۱۳۰۹ دهم دی ماه ۱۳۰۹ دیِ ده ۱۳۰۹ ده دی ۱۳۰۹', 'بیست ششم اسفند هزار دویست نود بیست اسفند ۱۲۹۱ اسفند بیست ۱۲۹۱ بیست ششم اسفند ۱۲۹۱ اسفند بیست ۱۲۹۱', 'دهم اردیبهشت هزار سیصد ده اردیبهشت هزار سیصد ده اردیبهشت ۱۲۱۰ اردیبهشت ده ۱۲۱۰ دهم اردیبهشت ۱۲۱۰ دهِ اردیبهشت ۱۲۱۰ دهم اردیبهشت ماه ۱۲۱۰ اردیبهشتِ ده ۱۲۱۰ ده اردیبهشت ۱۲۱۰', 'پانزدهم دی هزار دویست نود پانزده دی ۱۲۹۹ دی پانزده ۱۲۹۹ پانزدهم دی ۱۲۹۹ دی پانزده ۱۲۹۹', 'پنجم فروردین هزار چهارصد بیست فروردین هزار چهارصد بیست فروردین ۱۴۲۰ فروردین ۱۴۲۰ پنجم فروردین ۱۴۲۰ پنجِ فروردین ۱۴۲۰ پنجم فروردین ماه ۱۴۲۰ فروردینِ ۱۴۲۰ فروردین ۱۴۲۰', 'یکم اسفند هزار سیصد بیست اسفند هزار سیصد بیست اسفند ۱۳۲۳ اسفند ۱۳۲۳ یکم اسفند ۱۳۲۳ یکِ اسفند ۱۳۲۳ یکم اسفند ماه ۱۳۲۳ اسفندِ ۱۳۲۳ اسفند ۱۳۲۳', 'سی\\u200cام مهر هزار سیصد بیست مهر هزار سیصد بیست مهر ۱۳۴۲ مهر ۱۳۴۲ سی\\u200cام مهر ۱۳۴۲ سیِ مهر ۱۳۴۲ سی\\u200cام مهر ماه ۱۳۴۲ مهرِ ۱۳۴۲ مهر ۱۳۴۲', 'نهم دی هزار سیصد بیست دی ۱۳۲۱ دی ۱۳۲۱ نهم دی ۱۳۲۱ دی ۱۳۲۱', 'بیست پنجم بهمن هزار چهارصد بیست بهمن ۱۴۰۲ بهمن بیست ۱۴۰۲ بیست پنجم بهمن ۱۴۰۲ بهمن بیست ۱۴۰۲', 'بیست یکم خرداد هزار چهارصد هفتاد بیست خرداد ۱۴۷۱ خرداد بیست ۱۴۷۱ بیست یکم خرداد ۱۴۷۱ خرداد بیست ۱۴۷۱', 'هفدهم آبان هزار سیصد هشت هفده آبان ۱۳۳۸ آبان هفده ۱۳۳۸ هفدهم آبان ۱۳۳۸ آبان هفده ۱۳۳۸', 'پانزدهم اسفند هزار سیصد بیست هفت پانزده اسفند ۱۳۲۷ اسفند پانزده ۱۳۲۷ پانزدهم اسفند ۱۳۲۷ اسفند پانزده ۱۳۲۷', 'سی\\u200cام شهریور هزار دویست پنجاه شهریور هزار دویست پنجاه شهریور ۱۲۵۰ شهریور ۱۲۵۰ سی\\u200cام شهریور ۱۲۵۰ سیِ شهریور ۱۲۵۰ سی\\u200cام شهریور ماه ۱۲۵۰ شهریورِ ۱۲۵۰ شهریور ۱۲۵۰', 'چهاردهم فروردین هزار چهارصد چهل چهارده فروردین ۱۴۴۳ فروردین چهارده ۱۴۴۳ چهاردهم فروردین ۱۴۴۳ فروردین چهارده ۱۴۴۳', 'سی\\u200cام آذر هزار دویست شست آذر ۱۲۶۱ آذر ۱۲۶۱ سی\\u200cام آذر ۱۲۶۱ آذر ۱۲۶۱', 'نوزدهم دی هزار سیصد نود نوزده دی ۱۳۹۵ دی نوزده ۱۳۹۵ نوزدهم دی ۱۳۹۵ دی نوزده ۱۳۹۵', 'بیست نهم اسفند هزار چهارصد هشت بیست اسفند ۱۴۳۸ اسفند بیست ۱۴۳۸ بیست نهم اسفند ۱۴۳۸ اسفند بیست ۱۴۳۸', 'دهم تیر هزار چهارصد ده تیر ۱۴۰۲ تیر ده ۱۴۰۲ دهم تیر ۱۴۰۲ تیر ده ۱۴۰۲', 'دهم خرداد هزار چهارصد نود ده خرداد ۱۴۹۴ خرداد ده ۱۴۹۴ دهم خرداد ۱۴۹۴ خرداد ده ۱۴۹۴', 'اسفند هزار چهارصد هفتاد اسفند ۱۴۷۱ اسفند ۱۴۷۱ اسفند ۱۴۷۱ اسفند ۱۴۷۱', 'هشتم آبان هزار سیصد هشت آبان ۱۳۰۵ آبان هشت ۱۳۰۵ هشتم آبان ۱۳۰۵ آبان هشت ۱۳۰۵', 'بیست پنجم آذر هزار دویست نود بیست آذر ۱۲۹۳ آذر بیست ۱۲۹۳ بیست پنجم آذر ۱۲۹۳ آذر بیست ۱۲۹۳', 'خرداد هزار چهارصد چهل خرداد ۱۴۴۹ خرداد ۱۴۴۹ خرداد ۱۴۴۹ خرداد ۱۴۴۹', 'سی\\u200cام شهریور هزار سیصد هفتاد شهریور ۱۳۷۲ شهریور ۱۳۷۲ سی\\u200cام شهریور ۱۳۷۲ شهریور ۱۳۷۲', 'سی\\u200cام مهر هزار سیصد مهر ۱۳۰۹ مهر ۱۳۰۹ سی\\u200cام مهر ۱۳۰۹ مهر ۱۳۰۹', 'هجده شهریور هزار سیصد هشت هجده شهریور ۱۳۰۸ شهریور هجده ۱۳۰۸ هجده شهریور ۱۳۰۸ شهریور هجده ۱۳۰۸', 'پانزدهم شهریور هزار چهارصد 77 پانزده شهریور ۱۴۷۷ شهریور پانزده ۱۴۷۷ پانزدهم شهریور ۱۴۷۷ شهریور پانزده ۱۴۷۷', 'بیست نهم اسفند هزار چهارصد بیست بیست اسفند ۱۴۲۱ اسفند بیست ۱۴۲۱ بیست نهم اسفند ۱۴۲۱ اسفند بیست ۱۴۲۱', 'پنجم دی هزار چهارصد هفتاد دی ۱۴۷۲ دی ۱۴۷۲ پنجم دی ۱۴۷۲ دی ۱۴۷۲', 'بیست اردیبهشت هزار دویست بیست بیست اردیبهشت ۱۲۲۵ اردیبهشت بیست ۱۲۲۵ بیست اردیبهشت ۱۲۲۵ اردیبهشت بیست ۱۲۲۵', 'یازدهم دی هزار سیصد یازده دی ۱۳۰۶ دی یازده ۱۳۰۶ یازدهم دی ۱۳۰۶ دی یازده ۱۳۰۶', 'سی\\u200cام اردیبهشت هزار سیصد هشتاد هشت اردیبهشت ۱۳۸۸ اردیبهشت ۱۳۸۸ سی\\u200cام اردیبهشت ۱۳۸۸ اردیبهشت ۱۳۸۸', 'دوازدهم مرداد هزار دویست هشتاد دوازده مرداد ۱۲۸۱ مرداد دوازده ۱۲۸۱ دوازدهم مرداد ۱۲۸۱ مرداد دوازده ۱۲۸۱', 'دی هزار چهارصد شصت دی ۱۴۶۵ دی ۱۴۶۵ دی ۱۴۶۵ دی ۱۴۶۵', 'بیستم خرداد هزار سیصد بیست خرداد هزار سیصد بیست خرداد ۱۳۵۰ خرداد بیست ۱۳۵۰ بیستم خرداد ۱۳۵۰ بیستِ خرداد ۱۳۵۰ بیستم خرداد ماه ۱۳۵۰ خردادِ بیست ۱۳۵۰ بیست خرداد ۱۳۵۰', 'شانزدهم اردیبهشت هزار دویست شانزده اردیبهشت ۱۲۰۴ اردیبهشت شانزده ۱۲۰۴ شانزدهم اردیبهشت ۱۲۰۴ اردیبهشت شانزده ۱۲۰۴', 'دی هزار دویست چهل دی ۱۲۴۰ دی ۱۲۴۰ دی ۱۲۴۰ دی ۱۲۴۰', 'تیر هزار سیصد نود تیر ۱۳۹۵ تیر ۱۳۹۵ تیر ۱۳۹۵ تیر ۱۳۹۵', 'چهاردهم اردیبهشت هزار چهارصد 77 چهارده اردیبهشت ۱۴۷۷ اردیبهشت چهارده ۱۴۷۷ چهاردهم اردیبهشت ۱۴۷۷ اردیبهشت چهارده ۱۴۷۷', 'بیستم شهریور هزار سیصد بیست شهریور هزار سیصد بیست شهریور ۱۳۰۵ شهریور بیست ۱۳۰۵ بیستم شهریور ۱۳۰۵ بیستِ شهریور ۱۳۰۵ بیستم شهریور ماه ۱۳۰۵ شهریورِ بیست ۱۳۰۵ بیست شهریور ۱۳۰۵', 'بیست پنجم بهمن هزار سیصد بیست بیست بهمن هزار سیصد بیست بیست بهمن ۱۳۴۶ بهمن بیست ۱۳۴۶ بیست پنجم بهمن ۱۳۴۶ بیست پنجِ بهمن ۱۳۴۶ بیست پنجم بهمن ماه ۱۳۴۶ بهمنِ بیست ۱۳۴۶ بیست بهمن ۱۳۴۶', 'دوازدهم دی هزار دویست بیست هشت دوازده دی ۱۲۲۸ دی دوازده ۱۲۲۸ دوازدهم دی ۱۲۲۸ دی دوازده ۱۲۲۸', 'دهم مرداد هزار سیصد هشتاد هشت ده مرداد ۱۳۸۸ مرداد ده ۱۳۸۸ دهم مرداد ۱۳۸۸ مرداد ده ۱۳۸۸', 'بیستم خرداد هزار دویست شصت بیست خرداد ۱۲۶۶ خرداد بیست ۱۲۶۶ بیستم خرداد ۱۲۶۶ خرداد بیست ۱۲۶۶', 'هفدهم فروردین هزار سیصد نوزده هفده فروردین ۱۳۱۹ فروردین هفده ۱۳۱۹ هفدهم فروردین ۱۳۱۹ فروردین هفده ۱۳۱۹', 'دوازدهم دی هزار دویست هشت دوازده دی ۱۲۰۸ دی دوازده ۱۲۰۸ دوازدهم دی ۱۲۰۸ دی دوازده ۱۲۰۸', 'نوزدهم مرداد هزار چهارصد نوزده مرداد ۱۴۳۲ مرداد نوزده ۱۴۳۲ نوزدهم مرداد ۱۴۳۲ مرداد نوزده ۱۴۳۲', 'بیست پنجم تیر هزار دویست شصت بیست تیر ۱۲۶۴ تیر بیست ۱۲۶۴ بیست پنجم تیر ۱۲۶۴ تیر بیست ۱۲۶۴', 'سی\\u200cام آذر هزار چهارصد نود هفت آذر ۱۴۹۷ آذر ۱۴۹۷ سی\\u200cام آذر ۱۴۹۷ آذر ۱۴۹۷', 'بیست مهر هزار چهارصد بیست مهر هزار چهارصد بیست مهر ۱۴۰۴ مهر بیست ۱۴۰۴ بیست مهر ۱۴۰۴ بیست دوِ مهر ۱۴۰۴ بیست مهر ماه ۱۴۰۴ مهرِ بیست ۱۴۰۴ بیست مهر ۱۴۰۴', 'هفدهم بهمن هزار دویست شصت هفده بهمن ۱۲۶۴ بهمن هفده ۱۲۶۴ هفدهم بهمن ۱۲۶۴ بهمن هفده ۱۲۶۴', 'سی\\u200cام خرداد هزار چهارصد پنجاه خرداد ۱۴۵۵ خرداد ۱۴۵۵ سی\\u200cام خرداد ۱۴۵۵ خرداد ۱۴۵۵', 'هجده دی هزار دویست پنجاه هیجده دی ۱۲۵۹ دی هجده ۱۲۵۹ هجده دی ۱۲۵۹ دی هجده ۱۲۵۹', 'هجدهم آبان هزار سیصد پنجاه هجده آبان ۱۳۵۲ آبان هجده ۱۳۵۲ هجدهم آبان ۱۳۵۲ آبان هجده ۱۳۵۲', 'بیستم خرداد هزار سیصد 76 بیست خرداد ۱۳۷۶ خرداد بیست ۱۳۷۶ بیستم خرداد ۱۳۷۶ خرداد بیست ۱۳۷۶', 'دوازدهم اردیبهشت هزار دویست دوازده اردیبهشت ۱۲۰۹ اردیبهشت دوازده ۱۲۱۹ دوازدهم اردیبهشت ۱۲۱۹ اردیبهشت دوازده ۱۲۱۹', 'هشتم فروردین هزار سیصد چهل هشت فروردین ۱۳۴۹ فروردین هشت ۱۳۴۹ هشتم فروردین ۱۳۴۹ فروردین هشت ۱۳۴۹', 'بیست شهریور هزار دویست شانزده بیست شهریور ۱۲۱۶ شهریور بیست ۱۲۱۶ بیست شهریور ۱۲۱۶ شهریور بیست ۱۲۱۶', 'یازدهم آبان هزار چهارصد ده یازده آبان هزار چهارصد ده یازده آبان ۱۴۱۰ آبان یازده ۱۴۱۰ یازدهم آبان ۱۴۱۰ یازدهِ آبان ۱۴۱۰ یازدهم آبان ماه ۱۴۱۰ آبانِ یازده ۱۴۱۰ یازده آبان ۱۴۱۰', 'بیست هشتم اسفند هزار دویست هشتاد بیست هشت اسفند ۱۲۸۰ اسفند بیست هشت ۱۲۸۰ بیست هشتم اسفند ۱۲۸۰ اسفند بیست هشت ۱۲۸۰', 'پانزدهم اردیبهشت هزار دویست ده پانزده اردیبهشت ۱۲۱۰ اردیبهشت پانزده ۱۲۱۰ پانزدهم اردیبهشت ۱۲۱۰ اردیبهشت پانزده ۱۲۱۰', 'پانزدهم اردیبهشت هزار سیصد چهل پانزده اردیبهشت هزار سیصد چهل پانزده اردیبهشت ۱۳۶۱ اردیبهشت پانزده ۱۳۶۱ پانزدهم اردیبهشت ۱۳۶۱ پانزدهِ اردیبهشت ۱۳۶۱ پانزدهم اردیبهشت ماه ۱۳۶۱ اردیبهشتِ پانزده ۱۳۶۱ پانزده اردیبهشت ۱۳۶۱', 'فروردین هزار چهارصد فروردین هزار چهارصد فروردین ۱۴۰۰ فروردین ۱۴۰۰ فروردین ۱۴۰۰ یکِ فروردین ۱۴۰۰ یکم فروردین ۱۴۰۰ فروردین ماه ۱۴۰۰ فروردینِ ۱۴۰۰', 'آذر هزار چهارصد آذر هزار چهارصد آذر ۱۴۰۵ آذر ۱۴۰۵ آذر ۱۴۰۵ یکِ آذر ۱۴۰۵ یکم آذر ۱۴۰۵ آذر ماه ۱۴۰۵ آذرِ ۱۴۰۵', 'بیست تیر هزار چهارصد بیست هشت بیست تیر ۱۴۲۸ تیر بیست ۱۴۲۸ بیست تیر ۱۴۲۸ تیر بیست ۱۴۲۸', 'دوازدهم آبان هزار سیصد دوازده آبان ۱۳۳۴ آبان دوازده ۱۳۳۴ دوازدهم آبان ۱۳۳۴ آبان دوازده ۱۳۳۴', 'پنجم فروردین هزار چهارصد چهارده فروردین هزار چهارصد چهارده فروردین ۱۴۱۴ فروردین ۱۴۱۴ پنجم فروردین ۱۴۱۴ پنجِ فروردین ۱۴۱۴ پنجم فروردین ماه ۱۴۱۴ فروردینِ ۱۴۱۴ فروردین ۱۴۱۴', 'سی\\u200cام مهر هزار سیصد چهل مهر هزار سیصد چهل مهر ۱۳۶۶ مهر ۱۳۶۶ سی\\u200cام مهر ۱۳۶۶ سیِ مهر ۱۳۶۶ سی\\u200cام مهر ماه ۱۳۶۶ مهرِ ۱۳۶۶ مهر ۱۳۶۶', 'بیست پنجم تیر هزار سیصد نود هشت بیست تیر ۱۳۹۸ تیر بیست ۱۳۹۸ بیست پنجم تیر ۱۳۹۸ تیر بیست ۱۳۹۸', 'پنجم اسفند هزار سیصد شست هفت اسفند ۱۳۶۷ اسفند ۱۳۶۷ پنجم اسفند ۱۳۶۷ اسفند ۱۳۶۷', 'دوازدهم دی هزار چهارصد پنجاه دوازده دی ۱۴۵۹ دی دوازده ۱۴۵۹ دوازدهم دی ۱۴۵۹ دی دوازده ۱۴۵۹', 'چهاردهم خرداد هزار دویست هشت چهارده خرداد ۱۲۰۸ خرداد چهارده ۱۲۰۸ چهاردهم خرداد ۱۲۰۸ خرداد چهارده ۱۲۰۸', 'هفتم بهمن هزار دویست بیست هفت بهمن ۱۲۲۶ بهمن هفت ۱۲۲۶ هفتم بهمن ۱۲۲۶ بهمن هفت ۱۲۲۶', 'بیست هفتم شهریور هزار چهارصد بیست هفت شهریور ۱۴۰۶ شهریور بیست هفت ۱۴۰۶ بیست هفتم شهریور ۱۴۰۶ شهریور بیست هفت ۱۴۰۶', 'بیست هفتم بهمن هزار چهارصد بیست هفت بهمن ۱۴۰۰ بهمن بیست هفت ۱۴۰۰ بیست هفتم بهمن ۱۴۰۰ بهمن بیست هفت ۱۴۰۰', 'پنجم شهریور هزار سیصد شهریور ۱۳۳۰ شهریور ۱۳۳۰ پنجم شهریور ۱۳۳۰ شهریور ۱۳۳۰', 'دوازدهم اسفند هزار چهارصد بیست هشت دوازده اسفند ۱۴۲۸ اسفند دوازده ۱۴۲۸ دوازدهم اسفند ۱۴۲۸ اسفند دوازده ۱۴۲۸', 'نوزدهم اردیبهشت هزار چهارصد پنجاه نوزده اردیبهشت ۱۴۵۶ اردیبهشت نوزده ۱۴۵۶ نوزدهم اردیبهشت ۱۴۵۶ اردیبهشت نوزده ۱۴۵۶', 'ششم مرداد هزار چهارصد هشت مرداد ۱۴۰۸ مرداد ۱۴۰۸ ششم مرداد ۱۴۰۸ مرداد ۱۴۰۸', 'پانزدهم آذر هزار دویست هشتاد پانزده آذر هزار دویست هشتاد پانزده آذر ۱۲۸۰ آذر پانزده ۱۲۸۰ پانزدهم آذر ۱۲۸۰ پانزدهِ آذر ۱۲۸۰ پانزدهم آذر ماه ۱۲۸۰ آذرِ پانزده ۱۲۸۰ پانزده آذر ۱۲۸۰', 'پانزدهم مهر هزار سیصد هفده پانزده مهر ۱۳۱۷ مهر پانزده ۱۳۱۷ پانزدهم مهر ۱۳۱۷ مهر پانزده ۱۳۱۷', 'بیست آبان هزار چهارصد بیست آبان ۱۴۰۰ آبان بیست ۱۴۰۰ بیست آبان ۱۴۰۰ آبان بیست ۱۴۰۰', 'آبان هزار چهارصد هشتاد آبان ۱۴۸۴ آبان ۱۴۸۴ آبان ۱۴۸۴ آبان ۱۴۸۴', 'بیست هشتم اردیبهشت هزار سیصد چهل بیست هشت اردیبهشت ۱۳۴۱ اردیبهشت بیست هشت ۱۳۴۱ بیست هشتم اردیبهشت ۱۳۴۱ اردیبهشت بیست هشت ۱۳۴۱', 'دهم مهر هزار دویست شست ده مهر ۱۲۶۰ مهر ده ۱۲۶۰ دهم مهر ۱۲۶۰ مهر ده ۱۲۶۰', 'پنجم خرداد هزار سیصد چهل هشت خرداد ۱۳۴۸ خرداد ۱۳۴۸ پنجم خرداد ۱۳۴۸ خرداد ۱۳۴۸', 'چهاردهم دی هزار سیصد چهارده دی ۱۳۳۳ دی چهارده ۱۳۳۳ چهاردهم دی ۱۳۳۳ دی چهارده ۱۳۳۳', 'سیزدهم اردیبهشت هزار چهارصد بیست سیزده اردیبهشت ۱۴۲۳ اردیبهشت سیزده ۱۴۲۳ سیزدهم اردیبهشت ۱۴۲۳ اردیبهشت سیزده ۱۴۲۳', 'پنجم مرداد هزار دویست چهل مرداد ۱۲۴۱ مرداد ۱۲۴۱ پنجم مرداد ۱۲۴۱ مرداد ۱۲۴۱', 'هجده اردیبهشت هزار سیصد پنجاه هشت هجده اردیبهشت ۱۳۵۸ اردیبهشت هجده ۱۳۵۸ هجده اردیبهشت ۱۳۵۸ اردیبهشت هجده ۱۳۵۸', 'بیست یکم شهریور هزار چهارصد چهل هفت بیست شهریور ۱۴۴۷ شهریور بیست ۱۴۴۷ بیست یکم شهریور ۱۴۴۷ شهریور بیست ۱۴۴۷', 'هجدهم فروردین هزار سیصد هشتاد هشت هجده فروردین ۱۳۸۸ فروردین هجده ۱۳۸۸ هجدهم فروردین ۱۳۸۸ فروردین هجده ۱۳۸۸', 'بیست پنجم بهمن هزار چهارصد بیست بیست بهمن هزار چهارصد بیست بیست بهمن ۱۴۲۴ بهمن بیست ۱۴۲۴ بیست پنجم بهمن ۱۴۲۴ بیست پنجِ بهمن ۱۴۲۴ بیست پنجم بهمن ماه ۱۴۲۴ بهمنِ بیست ۱۴۲۴ بیست بهمن ۱۴۲۴', 'تیر هزار سیصد هفت تیر هزار سیصد هفت تیر ۱۳۲۷ تیر ۱۳۲۷ تیر ۱۳۲۷ یکِ تیر ۱۳۲۷ یکم تیر ۱۳۲۷ تیر ماه ۱۳۲۷ تیرِ ۱۳۲۷', 'هفدهم خرداد هزار سیصد 75 هفده خرداد ۱۳۷۵ خرداد هفده ۱۳۷۵ هفدهم خرداد ۱۳۷۵ خرداد هفده ۱۳۷۵', 'بیست اردیبهشت هزار چهارصد هشتاد بیست اردیبهشت ۱۴۸۳ اردیبهشت بیست ۱۴۸۳ بیست اردیبهشت ۱۴۸۳ اردیبهشت بیست ۱۴۸۳', 'چهاردهم بهمن هزار سیصد بیست چهارده بهمن ۱۳۲۳ بهمن چهارده ۱۳۲۳ چهاردهم بهمن ۱۳۲۳ بهمن چهارده ۱۳۲۳', 'بیست تیر هزار چهارصد هفتاد بیست تیر ۱۴۷۹ تیر بیست ۱۴۷۹ بیست تیر ۱۴۷۹ تیر بیست ۱۴۷۹', 'پانزدهم آذر هزار سیصد پنجاه پانزده آذر ۱۳۵۶ آذر پانزده ۱۳۵۶ پانزدهم آذر ۱۳۵۶ آذر پانزده ۱۳۵۶', 'بیستم خرداد هزار سیصد پنجاه بیست خرداد هزار سیصد پنجاه بیست خرداد ۱۳۷۴ خرداد بیست ۱۳۷۴ بیستم خرداد ۱۳۷۴ بیستِ خرداد ۱۳۷۴ بیستم خرداد ماه ۱۳۷۴ خردادِ بیست ۱۳۷۴ بیست خرداد ۱۳۷۴', 'دوازدهم فروردین هزار چهارصد چهل دوازده فروردین ۱۴۴۴ فروردین دوازده ۱۴۴۴ دوازدهم فروردین ۱۴۴۴ فروردین دوازده ۱۴۴۴', 'اردیبهشت هزار سیصد اردیبهشت ۱۳۳۱ اردیبهشت ۱۳۳۱ اردیبهشت ۱۳۳۱ اردیبهشت ۱۳۳۱', 'تیر هزار سیصد تیر ۱۳۳۲ تیر ۱۳۳۲ تیر ۱۳۳۲ تیر ۱۳۳۲', 'سیزدهم دی هزار سیصد چهل سیزده دی ۱۳۴۴ دی سیزده ۱۳۴۴ سیزدهم دی ۱۳۴۴ دی سیزده ۱۳۴۴', 'یازدهم آبان هزار دویست هفت یازده آبان ۱۲۰۷ آبان یازده ۱۲۰۷ یازدهم آبان ۱۲۰۷ آبان یازده ۱۲۰۷', 'سی\\u200cام بهمن هزار چهارصد هشت بهمن ۱۴۳۸ بهمن ۱۴۳۸ سی\\u200cام بهمن ۱۴۳۸ بهمن ۱۴۳۸', 'فروردین هزار سیصد فروردین ۱۳۰۲ فروردین ۱۳۰۲ یکم فروردین ۱۳۰۲ فروردین ۱۳۰۲', 'بیستم شهریور هزار سیصد چهل بیست شهریور هزار سیصد چهل بیست شهریور ۱۳۶۵ شهریور بیست ۱۳۶۵ بیستم شهریور ۱۳۶۵ بیستِ شهریور ۱۳۶۵ بیستم شهریور ماه ۱۳۶۵ شهریورِ بیست ۱۳۶۵ بیست شهریور ۱۳۶۵', 'بیست نهم اردیبهشت هزار سیصد بیست هفت بیست اردیبهشت ۱۳۲۷ اردیبهشت بیست ۱۳۲۷ بیست نهم اردیبهشت ۱۳۲۷ اردیبهشت بیست ۱۳۲۷', 'دهم اردیبهشت هزار چهارصد ده اردیبهشت هزار چهارصد ده اردیبهشت ۱۴۰۰ اردیبهشت ده ۱۴۰۰ دهم اردیبهشت ۱۴۰۰ دهِ اردیبهشت ۱۴۰۰ دهم اردیبهشت ماه ۱۴۰۰ اردیبهشتِ ده ۱۴۰۰ ده اردیبهشت ۱۴۰۰', 'دهم دی هزار چهارصد ده دی هزار چهارصد ده دی ۱۴۰۵ دی ده ۱۴۰۵ دهم دی ۱۴۰۵ دهِ دی ۱۴۰۵ دهم دی ماه ۱۴۰۵ دیِ ده ۱۴۰۵ ده دی ۱۴۰۵', 'نوزدهم اردیبهشت هزار دویست نوزده اردیبهشت ۱۲۰۲ اردیبهشت نوزده ۱۲۰۲ نوزدهم اردیبهشت ۱۲۰۲ اردیبهشت نوزده ۱۲۰۲', 'بیست بهمن هزار سیصد شست بیست بهمن ۱۳۶۳ بهمن بیست ۱۳۶۳ بیست بهمن ۱۳۶۳ بهمن بیست ۱۳۶۳', 'سی\\u200cام اسفند هزار دویست اسفند ۱۲۳۱ اسفند ۱۲۳۱ سی\\u200cام اسفند ۱۲۳۱ اسفند ۱۲۳۱', 'پانزدهم مهر هزار دویست هفتاد پانزده مهر ۱۲۷۱ مهر پانزده ۱۲۷۱ پانزدهم مهر ۱۲۷۱ مهر پانزده ۱۲۷۱', 'دهم تیر هزار سیصد نود ده تیر ۱۳۹۰ تیر ده ۱۳۹۰ دهم تیر ۱۳۹۰ تیر ده ۱۳۹۰', 'دهم مرداد هزار چهارصد پانزده ده مرداد هزار چهارصد پانزده ده مرداد ۱۴۱۵ مرداد ده ۱۴۱۵ دهم مرداد ۱۴۱۵ دهِ مرداد ۱۴۱۵ دهم مرداد ماه ۱۴۱۵ مردادِ ده ۱۴۱۵ ده مرداد ۱۴۱۵', 'پنجم آبان هزار چهارصد چهارده آبان ۱۴۱۴ آبان ۱۴۱۴ پنجم آبان ۱۴۱۴ آبان ۱۴۱۴', 'بیست هفتم مهر هزار سیصد چهل بیست هفت مهر ۱۳۴۰ مهر بیست هفت ۱۳۴۰ بیست هفتم مهر ۱۳۴۰ مهر بیست هفت ۱۳۴۰', 'سی\\u200cام آذر هزار دویست هفتاد هشت آذر ۱۲۷۸ آذر ۱۲۷۸ سی\\u200cام آذر ۱۲۷۸ آذر ۱۲۷۸', 'سی\\u200cام شهریور هزار دویست نود شهریور ۱۲۹۱ شهریور ۱۲۹۱ سی\\u200cام شهریور ۱۲۹۱ شهریور ۱۲۹۱', 'فروردین هزار دویست فروردین هزار دویست فروردین ۱۲۰۰ فروردین ۱۲۰۰ فروردین ۱۲۰۰ یکِ فروردین ۱۲۰۰ یکم فروردین ۱۲۰۰ فروردین ماه ۱۲۰۰ فروردینِ ۱۲۰۰', 'سی\\u200cام مرداد هزار سیصد چهل مرداد ۱۳۴۱ مرداد ۱۳۴۱ سی\\u200cام مرداد ۱۳۴۱ مرداد ۱۳۴۱', 'نهم آبان هزار سیصد آبان ۱۳۳۳ آبان ۱۳۳۳ نهم آبان ۱۳۳۳ آبان ۱۳۳۳', 'تیر هزار سیصد تیر هزار سیصد تیر ۱۳۵۱ تیر ۱۳۵۱ تیر ۱۳۵۱ یکِ تیر ۱۳۵۱ یکم تیر ۱۳۵۱ تیر ماه ۱۳۵۱ تیرِ ۱۳۵۱', 'مرداد هزار چهارصد پنجاه مرداد ۱۴۵۴ مرداد ۱۴۵۴ مرداد ۱۴۵۴ مرداد ۱۴۵۴', 'بیستم آبان هزار سیصد چهل هفت بیست آبان ۱۳۴۷ آبان بیست ۱۳۴۷ بیستم آبان ۱۳۴۷ آبان بیست ۱۳۴۷', 'دوازدهم شهریور هزار دویست شصت هشت دوازده شهریور ۱۲۶۸ شهریور دوازده ۱۲۶۸ دوازدهم شهریور ۱۲۶۸ شهریور دوازده ۱۲۶۸', 'پنجم بهمن هزار دویست هفت بهمن ۱۲۰۷ بهمن ۱۲۰۷ پنجم بهمن ۱۲۰۷ بهمن ۱۲۰۷', 'دهم فروردین هزار دویست ده فروردین ۱۲۰۶ فروردین ده ۱۲۰۶ دهم فروردین ۱۲۰۶ فروردین ده ۱۲۰۶', 'بیستم خرداد هزار چهارصد بیست بیست خرداد هزار چهارصد بیست بیست خرداد ۱۴۲۰ خرداد بیست ۱۴۲۰ بیستم خرداد ۱۴۲۰ بیستِ خرداد ۱۴۲۰ بیستم خرداد ماه ۱۴۲۰ خردادِ بیست ۱۴۲۰ بیست خرداد ۱۴۲۰', 'سی\\u200cام آبان هزار سیصد هفتاد آبان ۱۳۷۵ آبان ۱۳۷۵ سی\\u200cام آبان ۱۳۷۵ آبان ۱۳۷۵', 'آذر هزار چهارصد آذر ۱۴۰۰ آذر ۱۴۰۰ آذر ۱۴۰۰ آذر ۱۴۰۰', 'بیست دی هزار دویست هفتاد بیست دی ۱۲۷۹ دی بیست ۱۲۷۹ بیست دی ۱۲۷۹ دی بیست ۱۲۷۹', 'بیست ششم فروردین هزار سیصد شصت هشت بیست فروردین ۱۳۶۸ فروردین بیست ۱۳۶۸ بیست ششم فروردین ۱۳۶۸ فروردین بیست ۱۳۶۸', 'بیست پنجم بهمن هزار سیصد هشت بیست بهمن هزار سیصد هشت بیست بهمن ۱۳۵۸ بهمن بیست ۱۳۵۸ بیست پنجم بهمن ۱۳۵۸ بیست پنجِ بهمن ۱۳۵۸ بیست پنجم بهمن ماه ۱۳۵۸ بهمنِ بیست ۱۳۵۸ بیست بهمن ۱۳۵۸', 'بیست مرداد هزار چهارصد پنجاه بیست مرداد ۱۴۵۵ مرداد بیست ۱۴۵۵ بیست مرداد ۱۴۵۵ مرداد بیست ۱۴۵۵', 'دی هزار سیصد هشتاد دی ۱۳۸۶ دی ۱۳۸۶ یکم دی ۱۳۸۶ دی ۱۳۸۶', 'پنجم تیر هزار چهارصد نود هشت تیر ۱۴۹۸ تیر ۱۴۹۸ پنجم تیر ۱۴۹۸ تیر ۱۴۹۸', 'یازدهم آذر هزار دویست شست یازده آذر ۱۲۶۶ آذر یازده ۱۲۶۶ یازدهم آذر ۱۲۶۶ آذر یازده ۱۲۶۶', 'پانزدهم اردیبهشت هزار سیصد هفده پانزده اردیبهشت هزار سیصد هفده پانزده اردیبهشت ۱۳۳۷ اردیبهشت پانزده ۱۳۳۷ پانزدهم اردیبهشت ۱۳۳۷ پانزدهِ اردیبهشت ۱۳۳۷ پانزدهم اردیبهشت ماه ۱۳۳۷ اردیبهشتِ پانزده ۱۳۳۷ پانزده اردیبهشت ۱۳۳۷', 'هجدهم بهمن هزار چهارصد شست هجدده بهمن ۱۴۶۱ بهمن هجدده ۱۴۶۱ هجدهم بهمن ۱۴۶۱ بهمن هجدده ۱۴۶۱', 'بیست یکم آذر هزار دویست بیست بیست آذر ۱۲۲۵ آذر بیست ۱۲۲۵ بیست یکم آذر ۱۲۲۵ آذر بیست ۱۲۲۵', 'سی\\u200cام بهمن هزار دویست هفتاد هشت بهمن ۱۲۷۸ بهمن ۱۲۷۸ سی\\u200cام بهمن ۱۲۷۸ بهمن ۱۲۷۸', 'هیجدهم آذر هزار چهارصد پنجاه هیجده آذر ۱۴۵۵ آذر هیجده ۱۴۵۵ هیجدهم آذر ۱۴۵۵ آذر هیجده ۱۴۵۵', 'هجدهم آبان هزار دویست هجدده آبان ۱۲۳۵ آبان هجدده ۱۲۳۵ هجدهم آبان ۱۲۳۵ آبان هجدده ۱۲۳۵', 'یکم اسفند هزار سیصد پانزده اسفند هزار سیصد پانزده اسفند ۱۳۳۵ اسفند ۱۳۳۵ یکم اسفند ۱۳۳۵ یکِ اسفند ۱۳۳۵ یکم اسفند ماه ۱۳۳۵ اسفندِ ۱۳۳۵ اسفند ۱۳۳۵', 'دهم مرداد هزار سیصد پنجاه ده مرداد هزار سیصد پنجاه ده مرداد ۱۳۷۶ مرداد ده ۱۳۷۶ دهم مرداد ۱۳۷۶ دهِ مرداد ۱۳۷۶ دهم مرداد ماه ۱۳۷۶ مردادِ ده ۱۳۷۶ ده مرداد ۱۳۷۶', 'بیست شهریور هزار چهارصد هفتاد هشت بیست شهریور ۱۴۷۸ شهریور بیست ۱۴۷۸ بیست شهریور ۱۴۷۸ شهریور بیست ۱۴۷۸', 'سی\\u200cام خرداد هزار سیصد بیست خرداد ۱۳۲۶ خرداد ۱۳۲۶ سی\\u200cام خرداد ۱۳۲۶ خرداد ۱۳۲۶', 'هفدهم فروردین هزار دویست هفده فروردین ۱۲۰۵ فروردین هفده ۱۲۰۵ هفدهم فروردین ۱۲۰۵ فروردین هفده ۱۲۰۵', 'هجدهم خرداد هزار دویست پنجاه هجدده خرداد ۱۲۵۶ خرداد هجده ۱۲۵۶ هجدهم خرداد ۱۲۵۶ خرداد هجده ۱۲۵۶', 'تیر هزار چهارصد تیر هزار چهارصد تیر ۱۴۰۹ تیر ۱۴۰۹ تیر ۱۴۰۹ یکِ تیر ۱۴۰۹ یکم تیر ۱۴۰۹ تیر ماه ۱۴۰۹ تیرِ ۱۴۰۹', 'تیر هزار چهارصد هشتاد هفت تیر ۱۴۸۷ تیر ۱۴۸۷ تیر ۱۴۸۷ تیر ۱۴۸۷', 'نهم تیر هزار سیصد شصت تیر ۱۳۶۲ تیر ۱۳۶۲ نهم تیر ۱۳۶۲ تیر ۱۳۶۲', 'بیست یکم شهریور هزار دویست چهل بیست شهریور ۱۲۴۲ شهریور بیست ۱۲۴۲ بیست یکم شهریور ۱۲۴۲ شهریور بیست ۱۲۴۲', 'بیست یکم بهمن هزار دویست شصت بیست بهمن ۱۲۶۹ بهمن بیست ۱۲۶۹ بیست یکم بهمن ۱۲۶۹ بهمن بیست ۱۲۶۹', 'دوازدهم دی هزار سیصد پنجاه دوازده دی ۱۳۵۵ دی دوازده ۱۳۵۵ دوازدهم دی ۱۳۵۵ دی دوازده ۱۳۵۵', 'هجدهم خرداد هزار دویست هجده خرداد ۱۲۳۲ خرداد هجده ۱۲۳۲ هجدهم خرداد ۱۲۳۲ خرداد هجده ۱۲۳۲', 'بیست بهمن هزار چهارصد هشتاد بیست بهمن ۱۴۸۲ بهمن بیست ۱۴۸۲ بیست بهمن ۱۴۸۲ بهمن بیست ۱۴۸۲', 'هجدهم بهمن هزار سیصد 49 هجدده بهمن ۱۳۴۹ بهمن هجدده ۱۳۴۹ هجدهم بهمن ۱۳۴۹ بهمن هجدده ۱۳۴۹', 'بیست اسفند هزار چهارصد نود هفت بیست اسفند ۱۴۹۷ اسفند بیست ۱۴۹۷ بیست اسفند ۱۴۹۷ اسفند بیست ۱۴۹۷', 'آذر هزار سیصد دوازده آذر هزار سیصد دوازده آذر ۱۳۳۲ آذر ۱۳۳۲ آذر ۱۳۳۲ یکِ آذر ۱۳۳۲ یکم آذر ۱۳۳۲ آذر ماه ۱۳۳۲ آذرِ ۱۳۳۲', 'شهریور هزار چهارصد هفتاد هشت شهریور ۱۴۷۸ شهریور ۱۴۷۸ شهریور ۱۴۷۸ شهریور ۱۴۷۸', 'خرداد هزار چهارصد هشتاد یکم خرداد ۱۴۸۴ خرداد ۱۴۸۴ خرداد ۱۴۸۴ خرداد ۱۴۸۴', 'یکم اسفند هزار سیصد یازده اسفند هزار سیصد یازده اسفند ۱۳۱۱ اسفند ۱۳۱۱ یکم اسفند ۱۳۱۱ یکِ اسفند ۱۳۱۱ یکم اسفند ماه ۱۳۱۱ اسفندِ ۱۳۱۱ اسفند ۱۳۱۱', 'هجدهم مهر هزار چهارصد هجده مهر ۱۴۳۱ مهر هجده ۱۴۳۱ هجدهم مهر ۱۴۳۱ مهر هجده ۱۴۳۱', 'هیجدهم خرداد هزار سیصد هیجده خرداد ۱۳۰۱ خرداد هیجده ۱۳۰۱ هیجدهم خرداد ۱۳۰۱ خرداد هیجده ۱۳۰۱', 'دهم دی هزار سیصد بیست ده دی هزار سیصد بیست ده دی ۱۳۲۱ دی ده ۱۳۲۱ دهم دی ۱۳۲۱ دهِ دی ۱۳۲۱ دهم دی ماه ۱۳۲۱ دیِ ده ۱۳۲۱ ده دی ۱۳۲۱', 'بیستم دی هزار دویست شصت بیست دی ۱۲۶۲ دی بیست ۱۲۶۲ بیستم دی ۱۲۶۲ دی بیست ۱۲۶۲', 'پانزدهم مرداد هزار دویست نود پانزده مرداد ۱۲۹۳ مرداد پانزده ۱۲۹۳ پانزدهم مرداد ۱۲۹۳ مرداد پانزده ۱۲۹۳', 'بیست آبان هزار دویست پنجاه بیست آبان ۱۲۵۶ آبان بیست ۱۲۵۶ بیست آبان ۱۲۵۶ آبان بیست ۱۲۵۶', 'بیست شهریور هزار چهارصد هفت بیست شهریور ۱۴۰۷ شهریور بیست ۱۴۰۷ بیست شهریور ۱۴۰۷ شهریور بیست ۱۴۰۷', 'بیست آذر هزار چهارصد بیست آذر ۱۴۳۵ آذر بیست ۱۴۳۵ بیست آذر ۱۴۳۵ آذر بیست ۱۴۳۵', 'دهم مرداد هزار سیصد چهل ده مرداد هزار سیصد چهل ده مرداد ۱۳۶۴ مرداد ده ۱۳۶۴ دهم مرداد ۱۳۶۴ دهِ مرداد ۱۳۶۴ دهم مرداد ماه ۱۳۶۴ مردادِ ده ۱۳۶۴ ده مرداد ۱۳۶۴', 'سی\\u200cام آذر هزار سیصد شصت آذر ۱۳۶۵ آذر ۱۳۶۵ سی\\u200cام آذر ۱۳۶۵ آذر ۱۳۶۵', 'پنجم فروردین هزار سیصد چهل فروردین هزار سیصد چهل فروردین ۱۳۶۰ فروردین ۱۳۶۰ پنجم فروردین ۱۳۶۰ پنجِ فروردین ۱۳۶۰ پنجم فروردین ماه ۱۳۶۰ فروردینِ ۱۳۶۰ فروردین ۱۳۶۰', 'دهم مرداد هزار پانصد ده مرداد ۱۵۰۰ مرداد ده ۱۵۰۰ دهم مرداد ۱۵۰۰ مرداد ده ۱۵۰۰', 'بیستم دی هزار دویست نود بیست دی هزار دویست نود بیست دی ۱۲۹۰ دی بیست ۱۲۹۰ بیستم دی ۱۲۹۰ بیستِ دی ۱۲۹۰ بیستم دی ماه ۱۲۹۰ دیِ بیست ۱۲۹۰ بیست دی ۱۲۹۰', 'پانزدهم تیر هزار چهارصد پانزده تیر ۱۴۳۹ تیر پانزده ۱۴۳۹ پانزدهم تیر ۱۴۳۹ تیر پانزده ۱۴۳۹', 'بیستم شهریور هزار دویست هشتاد هفت بیست شهریور ۱۲۸۷ شهریور بیست ۱۲۸۷ بیستم شهریور ۱۲۸۷ شهریور بیست ۱۲۸۷', 'بیستم شهریور هزار سیصد پنجاه هفت بیست شهریور هزار سیصد پنجاه هفت بیست شهریور ۱۳۷۷ شهریور بیست ۱۳۷۷ بیستم شهریور ۱۳۷۷ بیستِ شهریور ۱۳۷۷ بیستم شهریور ماه ۱۳۷۷ شهریورِ بیست ۱۳۷۷ بیست شهریور ۱۳۷۷', 'هشتم اردیبهشت هزار سیصد هشتاد هشت اردیبهشت ۱۳۸۴ اردیبهشت هشت ۱۳۸۴ هشتم اردیبهشت ۱۳۸۴ اردیبهشت هشت ۱۳۸۴', 'فروردین هزار چهارصد پنجاه فروردین ۱۴۵۰ فروردین ۱۴۵۰ فروردین ۱۴۵۰ فروردین ۱۴۵۰', 'هشتم تیر هزار سیصد بیست هشت تیر ۱۳۲۵ تیر هشت ۱۳۲۵ هشتم تیر ۱۳۲۵ تیر هشت ۱۳۲۵', 'چهاردهم آبان هزار دویست چهارده آبان ۱۲۰۶ آبان چهارده ۱۲۰۶ چهاردهم آبان ۱۲۰۶ آبان چهارده ۱۲۰۶', 'پانزدهم بهمن هزار دویست شست پانزده بهمن ۱۲۶۹ بهمن پانزده ۱۲۶۹ پانزدهم بهمن ۱۲۶۹ بهمن پانزده ۱۲۶۹', 'بیست هشتم فروردین هزار سیصد هفت بیست هشت فروردین ۱۳۰۷ فروردین بیست هشت ۱۳۰۷ بیست هشتم فروردین ۱۳۰۷ فروردین بیست هشت ۱۳۰۷', 'هجدهم شهریور هزار دویست هفت هجده شهریور ۱۲۰۷ شهریور هجده ۱۲۰۷ هجدهم شهریور ۱۲۰۷ شهریور هجده ۱۲۰۷', 'چهاردهم دی هزار چهارصد نود چهارده دی ۱۴۹۰ دی چهارده ۱۴۹۰ چهاردهم دی ۱۴۹۰ دی چهارده ۱۴۹۰', 'بیست پنجم اسفند هزار چهارصد شست بیست اسفند ۱۴۶۹ اسفند بیست ۱۴۶۹ بیست پنجم اسفند ۱۴۶۹ اسفند بیست ۱۴۶۹', 'بیستم فروردین هزار چهارصد پنجاه بیست فروردین ۱۴۵۴ فروردین بیست ۱۴۵۴ بیستم فروردین ۱۴۵۴ فروردین بیست ۱۴۵۴', 'بیست یکم شهریور هزار چهارصد سیزده بیست شهریور ۱۴۱۳ شهریور بیست ۱۴۱۳ بیست یکم شهریور ۱۴۱۳ شهریور بیست ۱۴۱۳', 'پانزدهم اردیبهشت هزار چهارصد بیست پانزده اردیبهشت هزار چهارصد بیست پانزده اردیبهشت ۱۴۲۰ اردیبهشت پانزده ۱۴۲۰ پانزدهم اردیبهشت ۱۴۲۰ پانزدهِ اردیبهشت ۱۴۲۰ پانزدهم اردیبهشت ماه ۱۴۲۰ اردیبهشتِ پانزده ۱۴۲۰ پانزده اردیبهشت ۱۴۲۰', 'چهاردهم دی هزار چهارصد 91 چهارده دی ۱۴۹۱ دی چهارده ۱۴۹۱ چهاردهم دی ۱۴۹۱ دی چهارده ۱۴۹۱', 'بیستم شهریور هزار سیصد بیست شهریور هزار سیصد بیست شهریور ۱۳۲۹ شهریور بیست ۱۳۲۹ بیستم شهریور ۱۳۲۹ بیستِ شهریور ۱۳۲۹ بیستم شهریور ماه ۱۳۲۹ شهریورِ بیست ۱۳۲۹ بیست شهریور ۱۳۲۹', 'هجدهم مرداد هزار دویست شصت هیجدهم مرداد ۱۲۶۶ مرداد هجدهم ۱۲۶۶ هجدهم مرداد ۱۲۶۶ مرداد هجدهم ۱۲۶۶', 'سی\\u200cام مرداد هزار چهارصد بیست مرداد ۱۴۲۶ مرداد ۱۴۲۶ سی\\u200cام مرداد ۱۴۲۶ مرداد ۱۴۲۶', 'هفدهم فروردین هزار دویست نود هفده فروردین ۱۲۹۶ فروردین هفده ۱۲۹۶ هفدهم فروردین ۱۲۹۶ فروردین هفده ۱۲۹۶', 'بیستم آبان هزار چهارصد پنجاه بیست آبان ۱۴۵۶ آبان بیست ۱۴۵۶ بیستم آبان ۱۴۵۶ آبان بیست ۱۴۵۶', 'نهم آذر هزار دویست آذر ۱۲۳۵ آذر ۱۲۳۵ نهم آذر ۱۲۳۵ آذر ۱۲۳۵', 'بیست پنجم تیر هزار دویست چهل هشت بیست تیر ۱۲۴۸ تیر بیست ۱۲۴۸ بیست پنجم تیر ۱۲۴۸ تیر بیست ۱۲۴۸', 'پانزدهم اردیبهشت هزار چهارصد هشت پانزده اردیبهشت هزار چهارصد هشت پانزده اردیبهشت ۱۴۰۸ اردیبهشت پانزده ۱۴۰۸ پانزدهم اردیبهشت ۱۴۰۸ پانزدهِ اردیبهشت ۱۴۰۸ پانزدهم اردیبهشت ماه ۱۴۰۸ اردیبهشتِ پانزده ۱۴۰۸ پانزده اردیبهشت ۱۴۰۸', 'نهم مرداد هزار دویست شصت مرداد ۱۲۶۳ مرداد ۱۲۶۳ نهم مرداد ۱۲۶۳ مرداد ۱۲۶۳', 'مهر هزار دویست بیست مهر ۱۲۲۱ مهر ۱۲۲۱ مهر ۱۲۲۱ مهر ۱۲۲۱', 'آذر هزار سیصد نود هفت آذر ۱۳۹۷ آذر ۱۳۹۷ آذر ۱۳۹۷ آذر ۱۳۹۷', 'بیست نهم خرداد هزار دویست چهل بیست خرداد ۱۲۴۰ خرداد بیست ۱۲۴۰ بیست نهم خرداد ۱۲۴۰ خرداد بیست ۱۲۴۰', 'هجدهم اردیبهشت هزار چهارصد پنجاه هشت هجده اردیبهشت ۱۴۵۸ اردیبهشت هجده ۱۴۵۸ هجدهم اردیبهشت ۱۴۵۸ اردیبهشت هجده ۱۴۵۸', 'هفدهم تیر هزار چهارصد هفده تیر ۱۴۳۱ تیر هفده ۱۴۳۱ هفدهم تیر ۱۴۳۱ تیر هفده ۱۴۳۱', 'تیر هزار سیصد پنجاه تیر هزار سیصد پنجاه تیر ۱۳۷۵ تیر ۱۳۷۵ تیر ۱۳۷۵ یکِ تیر ۱۳۷۵ یکم تیر ۱۳۷۵ تیر ماه ۱۳۷۵ تیرِ ۱۳۷۵', 'بیست پنجم بهمن هزار چهارصد دوازده بیست بهمن هزار چهارصد دوازده بیست بهمن ۱۴۱۲ بهمن بیست ۱۴۱۲ بیست پنجم بهمن ۱۴۱۲ بیست پنجِ بهمن ۱۴۱۲ بیست پنجم بهمن ماه ۱۴۱۲ بهمنِ بیست ۱۴۱۲ بیست بهمن ۱۴۱۲', 'سی\\u200cام آذر هزار چهارصد پنجاه آذر ۱۴۵۲ آذر ۱۴۵۲ سی\\u200cام آذر ۱۴۵۲ آذر ۱۴۵۲', 'دهم مرداد هزار چهارصد ده مرداد هزار چهارصد ده مرداد ۱۴۰۹ مرداد ده ۱۴۰۹ دهم مرداد ۱۴۰۹ دهِ مرداد ۱۴۰۹ دهم مرداد ماه ۱۴۰۹ مردادِ ده ۱۴۰۹ ده مرداد ۱۴۰۹', 'شانزدهم خرداد هزار سیصد شانزده خرداد ۱۳۰۱ خرداد شانزده ۱۳۰۱ شانزدهم خرداد ۱۳۰۱ خرداد شانزده ۱۳۰۱', 'نهم اسفند هزار چهارصد پنجاه اسفند ۱۴۵۳ اسفند ۱۴۵۳ نهم اسفند ۱۴۵۳ اسفند ۱۴۵۳', 'نهم مرداد هزار دویست بیست مرداد ۱۲۲۴ مرداد ۱۲۲۴ نهم مرداد ۱۲۲۴ مرداد ۱۲۲۴', 'بیست پنجم دی هزار سیصد شصت بیست دی ۱۳۶۴ دی بیست ۱۳۶۴ بیست پنجم دی ۱۳۶۴ دی بیست ۱۳۶۴', 'بیست اردیبهشت هزار چهارصد پنجاه بیست اردیبهشت ۱۴۵۳ اردیبهشت بیست ۱۴۵۳ بیست اردیبهشت ۱۴۵۳ اردیبهشت بیست ۱۴۵۳', 'یازدهم خرداد هزار سیصد چهل یازده خرداد ۱۳۴۵ خرداد یازده ۱۳۴۵ یازدهم خرداد ۱۳۴۵ خرداد یازده ۱۳۴۵', 'پانزدهم اسفند هزار چهارصد شصت پانزده اسفند ۱۴۶۵ اسفند پانزده ۱۴۶۵ پانزدهم اسفند ۱۴۶۵ اسفند پانزده ۱۴۶۵', 'بیستم بهمن هزار سیصد نود بیست بهمن ۱۳۹۹ بهمن بیست ۱۳۹۹ بیستم بهمن ۱۳۹۹ بهمن بیست ۱۳۹۹', 'پنجم دی هزار دویست هشتاد هشت دی ۱۲۸۸ دی ۱۲۸۸ پنجم دی ۱۲۸۸ دی ۱۲۸۸', 'بیست هشتم اسفند هزار دویست پنجاه هفت بیست هشت اسفند ۱۲۵۷ اسفند بیست هشت ۱۲۵۷ بیست هشتم اسفند ۱۲۵۷ اسفند بیست هشت ۱۲۵۷', 'سی\\u200cام مهر هزار دویست هفتاد مهر ۱۲۷۱ مهر ۱۲۷۱ سی\\u200cام مهر ۱۲۷۱ مهر ۱۲۷۱', 'یکم اسفند هزار سیصد اسفند هزار سیصد اسفند ۱۳۵۹ اسفند ۱۳۵۹ یکم اسفند ۱۳۵۹ یکِ اسفند ۱۳۵۹ یکم اسفند ماه ۱۳۵۹ اسفندِ ۱۳۵۹ اسفند ۱۳۵۹', 'چهاردهم بهمن هزار سیصد هشتاد چهارده بهمن ۱۳۸۹ بهمن چهارده ۱۳۸۹ چهاردهم بهمن ۱۳۸۹ بهمن چهارده ۱۳۸۹', 'دهم مرداد هزار سیصد بیست ده مرداد هزار سیصد بیست ده مرداد ۱۳۴۰ مرداد ده ۱۳۴۰ دهم مرداد ۱۳۴۰ دهِ مرداد ۱۳۴۰ دهم مرداد ماه ۱۳۴۰ مردادِ ده ۱۳۴۰ ده مرداد ۱۳۴۰', 'ششم فروردین هزار چهارصد فروردین ۱۴۳۲ فروردین ۱۴۳۲ ششم فروردین ۱۴۳۲ فروردین ۱۴۳۲', 'پانزدهم اردیبهشت هزار سیصد سیزده پانزده اردیبهشت هزار سیصد سیزده پانزده اردیبهشت ۱۳۱۳ اردیبهشت پانزده ۱۳۱۳ پانزدهم اردیبهشت ۱۳۱۳ پانزدهِ اردیبهشت ۱۳۱۳ پانزدهم اردیبهشت ماه ۱۳۱۳ اردیبهشتِ پانزده ۱۳۱۳ پانزده اردیبهشت ۱۳۱۳', 'نوزدهم تیر هزار دویست نوزده تیر ۱۲۰۳ تیر نوزده ۱۲۰۳ نوزدهم تیر ۱۲۰۳ تیر نوزده ۱۲۰۳', 'آذر هزار سیصد بیست آذر ۱۳۲۲ آذر ۱۳۲۲ آذر ۱۳۲۲ آذر ۱۳۲۲', 'بیست پنجم مرداد هزار سیصد شصت هشت بیست مرداد ۱۳۶۸ مرداد بیست ۱۳۶۸ بیست پنجم مرداد ۱۳۶۸ مرداد بیست ۱۳۶۸', 'بیست ششم دی هزار چهارصد هفتاد هشت بیست دی ۱۴۷۸ دی بیست ۱۴۷۸ بیست ششم دی ۱۴۷۸ دی بیست ۱۴۷۸', 'بیست هفتم مهر هزار سیصد نود بیست هفت مهر ۱۳۹۴ مهر بیست هفت ۱۳۹۴ بیست هفتم مهر ۱۳۹۴ مهر بیست هفت ۱۳۹۴', 'پانزدهم اردیبهشت هزار چهارصد یازده پانزده اردیبهشت ۱۴۱۱ اردیبهشت پانزده ۱۴۱۱ پانزدهم اردیبهشت ۱۴۱۱ اردیبهشت پانزده ۱۴۱۱', 'نهم مهر هزار سیصد مهر ۱۳۳۲ مهر ۱۳۳۲ نهم مهر ۱۳۳۲ مهر ۱۳۳۲', 'فروردین هزار دویست فروردین ۱۲۰۵ فروردین ۱۲۰۵ یکم فروردین ۱۲۰۵ فروردین ۱۲۰۵', 'یازدهم آبان هزار دویست یازده آبان ۱۲۰۲ آبان یازده ۱۲۰۲ یازدهم آبان ۱۲۰۲ آبان یازده ۱۲۰۲', 'یازدهم مهر هزار چهارصد شصت هفت یازده مهر ۱۴۶۷ مهر یازده ۱۴۶۷ یازدهم مهر ۱۴۶۷ مهر یازده ۱۴۶۷', 'چهاردهم بهمن هزار دویست شصت چهارده بهمن ۱۲۶۶ بهمن چهارده ۱۲۶۶ چهاردهم بهمن ۱۲۶۶ بهمن چهارده ۱۲۶۶', 'سی\\u200cام مرداد هزار چهارصد پنجاه مرداد ۱۴۵۱ مرداد ۱۴۵۱ سی\\u200cام مرداد ۱۴۵۱ مرداد ۱۴۵۱', 'پنجم خرداد هزار سیصد خرداد ۱۳۰۵ خرداد ۱۳۰۵ پنجم خرداد ۱۳۰۵ خرداد ۱۳۰۵', 'پانزدهم مهر هزار چهارصد هفتاد پانزده مهر ۱۴۷۵ مهر پانزده ۱۴۷۵ پانزدهم مهر ۱۴۷۵ مهر پانزده ۱۴۷۵', 'بیست پنجم بهمن هزار سیصد پنجاه بیست بهمن هزار سیصد پنجاه بیست بهمن ۱۳۷۰ بهمن بیست ۱۳۷۰ بیست پنجم بهمن ۱۳۷۰ بیست پنجِ بهمن ۱۳۷۰ بیست پنجم بهمن ماه ۱۳۷۰ بهمنِ بیست ۱۳۷۰ بیست بهمن ۱۳۷۰', 'یکم اسفند هزار سیصد بیست هفت اسفند هزار سیصد بیست هفت اسفند ۱۳۴۷ اسفند ۱۳۴۷ یکم اسفند ۱۳۴۷ یکِ اسفند ۱۳۴۷ یکم اسفند ماه ۱۳۴۷ اسفندِ ۱۳۴۷ اسفند ۱۳۴۷', 'نوزدهم آبان هزار سیصد شست هشت نوزده آبان ۱۳۶۸ آبان نوزده ۱۳۶۸ نوزدهم آبان ۱۳۶۸ آبان نوزده ۱۳۶۸', 'هجده اسفند هزار چهارصد هشتاد هجده اسفند ۱۴۸۵ اسفند هجده ۱۴۸۵ هجده اسفند ۱۴۸۵ اسفند هجده ۱۴۸۵', 'سی\\u200cام مهر هزار چهارصد بیست مهر هزار چهارصد بیست مهر ۱۴۲۲ مهر ۱۴۲۲ سی\\u200cام مهر ۱۴۲۲ سیِ مهر ۱۴۲۲ سی\\u200cام مهر ماه ۱۴۲۲ مهرِ ۱۴۲۲ مهر ۱۴۲۲', 'سی\\u200cام بهمن هزار چهارصد بهمن ۱۴۳۴ بهمن ۱۴۳۴ سی\\u200cام بهمن ۱۴۳۴ بهمن ۱۴۳۴', 'بیست خرداد هزار سیصد پنجاه بیست خرداد ۱۳۵۰ خرداد بیست ۱۳۵۰ بیست خرداد ۱۳۵۰ خرداد بیست ۱۳۵۰', 'بیستم شهریور هزار سیصد هفده بیست شهریور هزار سیصد هفده بیست شهریور ۱۳۱۷ شهریور بیست ۱۳۱۷ بیستم شهریور ۱۳۱۷ بیستِ شهریور ۱۳۱۷ بیستم شهریور ماه ۱۳۱۷ شهریورِ بیست ۱۳۱۷ بیست شهریور ۱۳۱۷', 'یازدهم آبان هزار سیصد یازده یازده آبان هزار سیصد یازده یازده آبان ۱۳۳۱ آبان یازده ۱۳۳۱ یازدهم آبان ۱۳۳۱ یازدهِ آبان ۱۳۳۱ یازدهم آبان ماه ۱۳۳۱ آبانِ یازده ۱۳۳۱ یازده آبان ۱۳۳۱', 'دهم مرداد هزار چهارصد نود ده مرداد ۱۴۹۶ مرداد ده ۱۴۹۶ دهم مرداد ۱۴۹۶ مرداد ده ۱۴۹۶', 'هجدهم خرداد هزار دویست هجده خرداد ۱۲۳۰ خرداد هجده ۱۲۳۰ هجدهم خرداد ۱۲۳۰ خرداد هجده ۱۲۳۰', 'دهم فروردین هزار سیصد هفتاد ده فروردین ۱۳۷۶ فروردین ده ۱۳۷۶ دهم فروردین ۱۳۷۶ فروردین ده ۱۳۷۶', 'بیست شهریور هزار سیصد هفتاد بیست شهریور ۱۳۷۹ شهریور بیست ۱۳۷۹ بیست شهریور ۱۳۷۹ شهریور بیست ۱۳۷۹', 'فروردین هزار چهارصد هشتاد هشت فروردین ۱۴۸۸ فروردین ۱۴۸۸ فروردین ۱۴۸۸ فروردین ۱۴۸۸', 'نوزدهم تیر هزار سیصد بیست هفت نوزده تیر ۱۳۲۷ تیر نوزده ۱۳۲۷ نوزدهم تیر ۱۳۲۷ تیر نوزده ۱۳۲۷', 'سی\\u200cام تیر هزار دویست هشتاد تیر ۱۲۸۰ تیر ۱۲۸۰ سی\\u200cام تیر ۱۲۸۰ تیر ۱۲۸۰', 'پانزدهم دی هزار چهارصد ده پانزده دی ۱۴۱۰ دی پانزده ۱۴۱۰ پانزدهم دی ۱۴۱۰ دی پانزده ۱۴۱۰', 'یکم اسفند هزار چهارصد نوزده اسفند هزار چهارصد نوزده اسفند ۱۴۱۹ اسفند ۱۴۱۹ یکم اسفند ۱۴۱۹ یکِ اسفند ۱۴۱۹ یکم اسفند ماه ۱۴۱۹ اسفندِ ۱۴۱۹ اسفند ۱۴۱۹', 'بیست هفتم بهمن هزار دویست بیست هفت بهمن ۱۲۳۴ بهمن بیست هفت ۱۲۳۴ بیست هفتم بهمن ۱۲۳۴ بهمن بیست هفت ۱۲۳۴', 'آذر هزار سیصد هشت آذر هزار سیصد هشت آذر ۱۳۰۸ آذر ۱۳۰۸ آذر ۱۳۰۸ یکِ آذر ۱۳۰۸ یکم آذر ۱۳۰۸ آذر ماه ۱۳۰۸ آذرِ ۱۳۰۸', 'هشتم تیر هزار چهارصد بیست هشت تیر ۱۴۲۲ تیر هشت ۱۴۲۲ هشتم تیر ۱۴۲۲ تیر هشت ۱۴۲۲', 'یازدهم آذر هزار سیصد نود یازده آذر ۱۳۹۲ آذر یازده ۱۳۹۲ یازدهم آذر ۱۳۹۲ آذر یازده ۱۳۹۲', 'مهر هزار دویست مهر ۱۲۰۹ مهر ۱۲۰۹ مهر ۱۲۰۹ مهر ۱۲۰۹', 'بیستم تیر هزار دویست بیست تیر هزار دویست بیست تیر ۱۲۳۵ تیر بیست ۱۲۳۵ بیستم تیر ۱۲۳۵ بیستِ تیر ۱۲۳۵ بیستم تیر ماه ۱۲۳۵ تیرِ بیست ۱۲۳۵ بیست تیر ۱۲۳۵', 'بیست آذر هزار دویست بیست بیست آذر ۱۲۲۴ آذر بیست ۱۲۲۴ بیست آذر ۱۲۲۴ آذر بیست ۱۲۲۴', 'آبان هزار سیصد هجده آبان ۱۳۱۸ آبان ۱۳۱۸ آبان ۱۳۱۸ آبان ۱۳۱۸', 'یازدهم مهر هزار سیصد هشتاد یازده مهر ۱۳۸۴ مهر یازده ۱۳۸۴ یازدهم مهر ۱۳۸۴ مهر یازده ۱۳۸۴', 'دوازدهم بهمن هزار سیصد بیست دوازده بهمن ۱۳۲۰ بهمن دوازده ۱۳۲۰ دوازدهم بهمن ۱۳۲۰ بهمن دوازده ۱۳۲۰', 'بیست هشتم اردیبهشت هزار چهارصد بیست هشت اردیبهشت ۱۴۳۰ اردیبهشت بیست هشت ۱۴۳۰ بیست هشتم اردیبهشت ۱۴۳۰ اردیبهشت بیست هشت ۱۴۳۰', 'بیستم خرداد هزار سیصد بیست خرداد هزار سیصد بیست خرداد ۱۳۰۲ خرداد بیست ۱۳۰۲ بیستم خرداد ۱۳۰۲ بیستِ خرداد ۱۳۰۲ بیستم خرداد ماه ۱۳۰۲ خردادِ بیست ۱۳۰۲ بیست خرداد ۱۳۰۲', 'چهاردهم خرداد هزار سیصد هفتاد چهارده خرداد ۱۳۷۵ خرداد چهارده ۱۳۷۵ چهاردهم خرداد ۱۳۷۵ خرداد چهارده ۱۳۷۵', 'هفدهم شهریور هزار چهارصد هفتاد هفده شهریور ۱۴۷۴ شهریور هفده ۱۴۷۴ هفدهم شهریور ۱۴۷۴ شهریور هفده ۱۴۷۴', 'سیزدهم فروردین هزار سیصد بیست سیزده فروردین ۱۳۲۲ فروردین سیزده ۱۳۲۲ سیزدهم فروردین ۱۳۲۲ فروردین سیزده ۱۳۲۲', 'نوزدهم آذر هزار سیصد شصت نوزده آذر ۱۳۶۶ آذر نوزده ۱۳۶۶ نوزدهم آذر ۱۳۶۶ آذر نوزده ۱۳۶۶', 'چهاردهم خرداد هزار چهارصد هفتاد هفت چهارده خرداد ۱۴۷۷ خرداد چهارده ۱۴۷۷ چهاردهم خرداد ۱۴۷۷ خرداد چهارده ۱۴۷۷', 'چهاردهم دی هزار سیصد نود چهارده دی ۱۳۹۵ دی چهارده ۱۳۹۵ چهاردهم دی ۱۳۹۵ دی چهارده ۱۳۹۵', 'بیست مرداد هزار چهارصد 77 بیست مرداد ۱۴۷۷ مرداد بیست ۱۴۷۷ بیست مرداد ۱۴۷۷ مرداد بیست ۱۴۷۷', 'پانزدهم اردیبهشت هزار سیصد بیست پانزده اردیبهشت هزار سیصد بیست پانزده اردیبهشت ۱۳۴۹ اردیبهشت پانزده ۱۳۴۹ پانزدهم اردیبهشت ۱۳۴۹ پانزدهِ اردیبهشت ۱۳۴۹ پانزدهم اردیبهشت ماه ۱۳۴۹ اردیبهشتِ پانزده ۱۳۴۹ پانزده اردیبهشت ۱۳۴۹', 'دوازدهم آبان هزار سیصد چهل دوازده آبان ۱۳۴۴ آبان دوازده ۱۳۴۴ دوازدهم آبان ۱۳۴۴ آبان دوازده ۱۳۴۴', 'پانزدهم مرداد هزار سیصد 82 پانزده مرداد ۱۳۸۲ مرداد پانزده ۱۳۸۲ پانزدهم مرداد ۱۳۸۲ مرداد پانزده ۱۳۸۲', 'پنجم اسفند هزار چهارصد پانزده اسفند ۱۴۱۵ اسفند ۱۴۱۵ پنجم اسفند ۱۴۱۵ اسفند ۱۴۱۵', 'مهر هزار چهارصد مهر ۱۴۰۲ مهر ۱۴۰۲ مهر ۱۴۰۲ مهر ۱۴۰۲', 'سی\\u200cام شهریور هزار سیصد هشتاد شهریور ۱۳۸۱ شهریور ۱۳۸۱ سی\\u200cام شهریور ۱۳۸۱ شهریور ۱۳۸۱', 'بیستم خرداد هزار سیصد هجده بیست خرداد هزار سیصد هجده بیست خرداد ۱۳۳۸ خرداد بیست ۱۳۳۸ بیستم خرداد ۱۳۳۸ بیستِ خرداد ۱۳۳۸ بیستم خرداد ماه ۱۳۳۸ خردادِ بیست ۱۳۳۸ بیست خرداد ۱۳۳۸', 'سی\\u200cام تیر هزار دویست نود تیر ۱۲۹۲ تیر ۱۲۹۲ سی\\u200cام تیر ۱۲۹۲ تیر ۱۲۹۲', 'بیست هشتم اردیبهشت هزار دویست بیست هشت اردیبهشت ۱۲۰۰ اردیبهشت بیست هشت ۱۲۰۰ بیست هشتم اردیبهشت ۱۲۰۰ اردیبهشت بیست هشت ۱۲۰۰', 'هفتم مهر هزار چهارصد نود هفت مهر ۱۴۹۹ مهر هفت ۱۴۹۹ هفتم مهر ۱۴۹۹ مهر هفت ۱۴۹۹', 'بیست یکم فروردین هزار سیصد بیست فروردین ۱۳۰۲ فروردین بیست ۱۳۰۲ بیست یکم فروردین ۱۳۰۲ فروردین بیست ۱۳۰۲', 'نوزدهم تیر هزار دویست نوزده تیر ۱۲۳۳ تیر نوزده ۱۲۳۳ نوزدهم تیر ۱۲۳۳ تیر نوزده ۱۲۳۳', 'بیستم دی هزار چهارصد چهل هشت بیست دی ۱۴۴۸ دی بیست ۱۴۴۸ بیستم دی ۱۴۴۸ دی بیست ۱۴۴۸', 'هجدهم مهر هزار چهارصد هجده مهر ۱۴۳۳ مهر هجده ۱۴۳۳ هجدهم مهر ۱۴۳۳ مهر هجده ۱۴۳۳', 'بیست اسفند هزار سیصد چهل هفت بیست اسفند ۱۳۴۷ اسفند بیست ۱۳۴۷ بیست اسفند ۱۳۴۷ اسفند بیست ۱۳۴۷', 'ششم خرداد هزار دویست خرداد ۱۲۰۳ خرداد ۱۲۰۳ ششم خرداد ۱۲۰۳ خرداد ۱۲۰۳', 'سی\\u200cام مهر هزار سیصد پنجاه هشت مهر هزار سیصد پنجاه هشت مهر ۱۳۷۸ مهر ۱۳۷۸ سی\\u200cام مهر ۱۳۷۸ سیِ مهر ۱۳۷۸ سی\\u200cام مهر ماه ۱۳۷۸ مهرِ ۱۳۷۸ مهر ۱۳۷۸'] (of type <class 'list'>)",
          "traceback": [
            "\u001b[0;31m---------------------------------------------------------------------------\u001b[0m",
            "\u001b[0;31mValueError\u001b[0m                                Traceback (most recent call last)",
            "\u001b[0;32m<ipython-input-106-aa50e8963719>\u001b[0m in \u001b[0;36m<cell line: 4>\u001b[0;34m()\u001b[0m\n\u001b[1;32m      2\u001b[0m \u001b[0mclass_weights_dict\u001b[0m \u001b[0;34m=\u001b[0m \u001b[0mdict\u001b[0m\u001b[0;34m(\u001b[0m\u001b[0menumerate\u001b[0m\u001b[0;34m(\u001b[0m\u001b[0mclass_weights\u001b[0m\u001b[0;34m)\u001b[0m\u001b[0;34m)\u001b[0m\u001b[0;34m\u001b[0m\u001b[0;34m\u001b[0m\u001b[0m\n\u001b[1;32m      3\u001b[0m \u001b[0;34m\u001b[0m\u001b[0m\n\u001b[0;32m----> 4\u001b[0;31m history = model.fit(X_train, y_train, validation_data=(X_test, y_test), epochs=100, batch_size=16,\n\u001b[0m\u001b[1;32m      5\u001b[0m                     class_weight=class_weights_dict, callbacks=[early_stopping, reduce_lr])\n",
            "\u001b[0;32m/usr/local/lib/python3.10/dist-packages/keras/src/utils/traceback_utils.py\u001b[0m in \u001b[0;36merror_handler\u001b[0;34m(*args, **kwargs)\u001b[0m\n\u001b[1;32m    120\u001b[0m             \u001b[0;31m# To get the full stack trace, call:\u001b[0m\u001b[0;34m\u001b[0m\u001b[0;34m\u001b[0m\u001b[0m\n\u001b[1;32m    121\u001b[0m             \u001b[0;31m# `keras.config.disable_traceback_filtering()`\u001b[0m\u001b[0;34m\u001b[0m\u001b[0;34m\u001b[0m\u001b[0m\n\u001b[0;32m--> 122\u001b[0;31m             \u001b[0;32mraise\u001b[0m \u001b[0me\u001b[0m\u001b[0;34m.\u001b[0m\u001b[0mwith_traceback\u001b[0m\u001b[0;34m(\u001b[0m\u001b[0mfiltered_tb\u001b[0m\u001b[0;34m)\u001b[0m \u001b[0;32mfrom\u001b[0m \u001b[0;32mNone\u001b[0m\u001b[0;34m\u001b[0m\u001b[0;34m\u001b[0m\u001b[0m\n\u001b[0m\u001b[1;32m    123\u001b[0m         \u001b[0;32mfinally\u001b[0m\u001b[0;34m:\u001b[0m\u001b[0;34m\u001b[0m\u001b[0;34m\u001b[0m\u001b[0m\n\u001b[1;32m    124\u001b[0m             \u001b[0;32mdel\u001b[0m \u001b[0mfiltered_tb\u001b[0m\u001b[0;34m\u001b[0m\u001b[0;34m\u001b[0m\u001b[0m\n",
            "\u001b[0;32m/usr/local/lib/python3.10/dist-packages/keras/src/trainers/data_adapters/__init__.py\u001b[0m in \u001b[0;36mget_data_adapter\u001b[0;34m(x, y, sample_weight, batch_size, steps_per_epoch, shuffle, class_weight)\u001b[0m\n\u001b[1;32m    118\u001b[0m         \u001b[0;31m# )\u001b[0m\u001b[0;34m\u001b[0m\u001b[0;34m\u001b[0m\u001b[0m\n\u001b[1;32m    119\u001b[0m     \u001b[0;32melse\u001b[0m\u001b[0;34m:\u001b[0m\u001b[0;34m\u001b[0m\u001b[0;34m\u001b[0m\u001b[0m\n\u001b[0;32m--> 120\u001b[0;31m         \u001b[0;32mraise\u001b[0m \u001b[0mValueError\u001b[0m\u001b[0;34m(\u001b[0m\u001b[0;34mf\"Unrecognized data type: x={x} (of type {type(x)})\"\u001b[0m\u001b[0;34m)\u001b[0m\u001b[0;34m\u001b[0m\u001b[0;34m\u001b[0m\u001b[0m\n\u001b[0m\u001b[1;32m    121\u001b[0m \u001b[0;34m\u001b[0m\u001b[0m\n\u001b[1;32m    122\u001b[0m \u001b[0;34m\u001b[0m\u001b[0m\n",
            "\u001b[0;31mValueError\u001b[0m: Unrecognized data type: x=['بیستم بهمن هزار سیصد شصت بیست بهمن ۱۳۶۶ بهمن بیست ۱۳۶۶ بیستم بهمن ۱۳۶۶ بهمن بیست ۱۳۶۶', 'بیست نهم تیر هزار سیصد نود بیست تیر ۱۳۹۱ تیر بیست ۱۳۹۱ بیست نهم تیر ۱۳۹۱ تیر بیست ۱۳۹۱', 'هفدهم بهمن هزار سیصد بیست هشت هفده بهمن ۱۳۲۸ بهمن هفده ۱۳۲۸ هفدهم بهمن ۱۳۲۸ بهمن هفده ۱۳۲۸', 'دهم تیر هزار چهارصد ده تیر ۱۴۰۱ تیر ده ۱۴۰۱ دهم تیر ۱۴۰۱ تیر ده ۱۴۰۱', 'سی\\u200cام تیر هزار سیصد شست هفت تیر ۱۳۶۷ تیر ۱۳۶۷ سی\\u200cام تیر ۱۳۶۷ تیر ۱۳۶۷', 'آذر هزار دویست آذر ۱۲۰۵ آذر ۱۲۰۵ آذر ۱۲۰۵ آذر ۱۲۰۵', 'بیست اردیبهشت هزار سیصد هشتاد بیست اردیبهشت ۱۳۸۳ اردیبهشت بیست ۱۳۸۳ بیست اردیبهشت ۱۳۸۳ اردیبهشت بیست ۱۳۸۳', 'پانزدهم بهمن هزار دویست پنجاه پانزده بهمن ۱۲۵۳ بهمن پانزده ۱۲۵۳ پانزدهم بهمن ۱۲۵۳ بهمن پانزده ۱۲۵۳', 'بیستم بهمن هزار دویست پنجاه بیست بهمن ۱۲۵۵ بهمن بیست ۱۲۵۵ بیستم بهمن ۱۲۵۵ بهمن بیست ۱۲۵۵', 'سی\\u200cام خرداد هزار سیصد شصت خرداد ۱۳۶۶ خرداد ۱۳۶۶ سی\\u200cام خرداد ۱۳۶۶ خرداد ۱۳۶۶', 'پنجم فروردین هزار سیصد دوازده فروردین هزار سیصد دوازده فروردین ۱۳۱۲ فروردین ۱۳۱۲ پنجم فروردین ۱۳۱۲ پنجِ فروردین ۱۳۱۲ پنجم فروردین ماه ۱۳۱۲ فروردینِ ۱۳۱۲ فروردین ۱۳۱۲', 'پنجم مهر هزار دویست مهر ۱۲۰۲ مهر ۱۲۰۲ پنجم مهر ۱۲۰۲ مهر ۱۲۰۲', 'چهاردهم فروردین هزار چهارصد نود چهارده فروردین ۱۴۹۰ فروردین چهارده ۱۴۹۰ چهاردهم فروردین ۱۴۹۰ فروردین چهارده ۱۴۹۰', 'پانزدهم تیر هزار دویست پانزده تیر ۱۲۳۱ تیر پانزده ۱۲۳۱ پانزدهم تیر ۱۲۳۱ تیر پانزده ۱۲۳۱', 'بیستم شهریور هزار چهارصد بیست بیست شهریور هزار چهارصد بیست بیست شهریور ۱۴۲۱ شهریور بیست ۱۴۲۱ بیستم شهریور ۱۴۲۱ بیستِ شهریور ۱۴۲۱ بیس..."
          ]
        }
      ]
    },
    {
      "cell_type": "markdown",
      "source": [
        "#Prediction"
      ],
      "metadata": {
        "id": "9GkRSNXJjWEu"
      }
    },
    {
      "cell_type": "code",
      "source": [
        "def predict_formal_date(informal_date):\n",
        "    seq = tokenizer.texts_to_sequences([preprocess_text(informal_date)])\n",
        "    padded = pad_sequences(seq, maxlen=max_length, padding='post')\n",
        "    pred = model.predict(padded)\n",
        "    return label_encoder.inverse_transform([np.argmax(pred)])"
      ],
      "metadata": {
        "id": "DmSki4GdiXNF"
      },
      "execution_count": null,
      "outputs": []
    },
    {
      "cell_type": "code",
      "source": [
        "new_informal_date = \"دهم اردیبهشت هزار و چهارصد\"\n",
        "predicted_date = predict_formal_date(new_informal_date)\n",
        "print(f\"Predicted formal date: {predicted_date[0]}\")"
      ],
      "metadata": {
        "id": "gDqYKE3ZiZ1E"
      },
      "execution_count": null,
      "outputs": []
    }
  ]
}