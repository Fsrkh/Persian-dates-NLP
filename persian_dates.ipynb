{
  "nbformat": 4,
  "nbformat_minor": 0,
  "metadata": {
    "colab": {
      "provenance": [],
      "authorship_tag": "ABX9TyOBcMoGapM79ijYCREcu+dd",
      "include_colab_link": true
    },
    "kernelspec": {
      "name": "python3",
      "display_name": "Python 3"
    },
    "language_info": {
      "name": "python"
    }
  },
  "cells": [
    {
      "cell_type": "markdown",
      "metadata": {
        "id": "view-in-github",
        "colab_type": "text"
      },
      "source": [
        "<a href=\"https://colab.research.google.com/github/Fsrkh/Persian-dates-NLP/blob/main/persian_dates.ipynb\" target=\"_parent\"><img src=\"https://colab.research.google.com/assets/colab-badge.svg\" alt=\"Open In Colab\"/></a>"
      ]
    },
    {
      "cell_type": "code",
      "execution_count": 72,
      "metadata": {
        "id": "S-2AiMw0NYpx"
      },
      "outputs": [],
      "source": [
        "import pandas as pd\n",
        "from hazm import *\n",
        "import numpy as np\n",
        "from sklearn.model_selection import train_test_split\n",
        "from sklearn.preprocessing import LabelEncoder\n",
        "from tensorflow.keras.preprocessing.text import Tokenizer\n",
        "from tensorflow.keras.preprocessing.sequence import pad_sequences\n",
        "from tensorflow.keras.models import Sequential\n",
        "from tensorflow.keras.layers import Embedding, Bidirectional, LSTM, Dropout, Dense, BatchNormalization\n",
        "from keras.regularizers import l2\n",
        "from tensorflow.keras.optimizers import Adam\n",
        "from sklearn.utils.class_weight import compute_class_weight # Import the necessary function\n",
        "import tensorflow as tf\n",
        "from tensorflow.keras.callbacks import ReduceLROnPlateau\n",
        "from tensorflow.keras.callbacks import EarlyStopping\n",
        "import re"
      ]
    },
    {
      "cell_type": "markdown",
      "source": [
        "Import data"
      ],
      "metadata": {
        "id": "FqEq68ArbkcP"
      }
    },
    {
      "cell_type": "code",
      "source": [
        "data = pd.read_csv('dates.csv')\n",
        "data.head()"
      ],
      "metadata": {
        "colab": {
          "base_uri": "https://localhost:8080/",
          "height": 486
        },
        "id": "Z1HSouugbmZv",
        "outputId": "e1257096-adea-4990-dc92-87603d35c74d"
      },
      "execution_count": 73,
      "outputs": [
        {
          "output_type": "execute_result",
          "data": {
            "text/plain": [
              "  Formal Date                 Informal Date 1                Informal Date 2  \\\n",
              "0  1400/01/01       اول فروردین هزار و چهارصد       یک فروردین هزار و چهارصد   \n",
              "1  1400/02/10      دهم اردیبهشت هزار و چهارصد      ده اردیبهشت هزار و چهارصد   \n",
              "2  1401/03/05   پنجم خرداد هزار و چهارصد و یک   پنج خرداد هزار و چهارصد و یک   \n",
              "3  1401/04/15  پانزدهم تیر هزار و چهارصد و یک  پانزده تیر هزار و چهارصد و یک   \n",
              "4  1402/05/20  بیستم مرداد هزار و چهارصد و دو  بیست مرداد هزار و چهارصد و دو   \n",
              "\n",
              "    Informal Date 3   Informal Date 4    Informal Date 5    Informal Date 6  \\\n",
              "0   یک فروردین ۱۴۰۰   فروردین یک ۱۴۰۰   اول فروردین ۱۴۰۰   یکِ فروردین ۱۴۰۰   \n",
              "1  ده اردیبهشت ۱۴۰۰  اردیبهشت ده ۱۴۰۰  دهم اردیبهشت ۱۴۰۰  دهِ اردیبهشت ۱۴۰۰   \n",
              "2    پنج خرداد ۱۴۰۱    خرداد پنج ۱۴۰۱    پنجم خرداد ۱۴۰۱    پنجِ خرداد ۱۴۰۱   \n",
              "3   پانزده تیر ۱۴۰۱   تیر پانزده ۱۴۰۱   پانزدهم تیر ۱۴۰۱   پانزدهِ تیر ۱۴۰۱   \n",
              "4   بیست مرداد ۱۴۰۲   مرداد بیست ۱۴۰۲   بیستم مرداد ۱۴۰۲   بیستِ مرداد ۱۴۰۲   \n",
              "\n",
              "         Informal Date 7       Informal Date 8   Informal Date 9  \n",
              "0       یکم فروردین ۱۴۰۰  اول فروردین ماه ۱۴۰۰  فروردینِ یک ۱۴۰۰  \n",
              "1  دهم اردیبهشت ماه ۱۴۰۰     اردیبهشتِ ده ۱۴۰۰  ده اردیبهشت ۱۴۰۰  \n",
              "2    پنجم خرداد ماه ۱۴۰۱       خردادِ پنج ۱۴۰۱    پنج خرداد ۱۴۰۱  \n",
              "3   پانزدهم تیر ماه ۱۴۰۱      تیرِ پانزده ۱۴۰۱   پانزده تیر ۱۴۰۱  \n",
              "4   بیستم مرداد ماه ۱۴۰۲      مردادِ بیست ۱۴۰۲   بیست مرداد ۱۴۰۲  "
            ],
            "text/html": [
              "\n",
              "  <div id=\"df-20d03c6e-c08f-4eca-8a6c-8ff6227e7268\" class=\"colab-df-container\">\n",
              "    <div>\n",
              "<style scoped>\n",
              "    .dataframe tbody tr th:only-of-type {\n",
              "        vertical-align: middle;\n",
              "    }\n",
              "\n",
              "    .dataframe tbody tr th {\n",
              "        vertical-align: top;\n",
              "    }\n",
              "\n",
              "    .dataframe thead th {\n",
              "        text-align: right;\n",
              "    }\n",
              "</style>\n",
              "<table border=\"1\" class=\"dataframe\">\n",
              "  <thead>\n",
              "    <tr style=\"text-align: right;\">\n",
              "      <th></th>\n",
              "      <th>Formal Date</th>\n",
              "      <th>Informal Date 1</th>\n",
              "      <th>Informal Date 2</th>\n",
              "      <th>Informal Date 3</th>\n",
              "      <th>Informal Date 4</th>\n",
              "      <th>Informal Date 5</th>\n",
              "      <th>Informal Date 6</th>\n",
              "      <th>Informal Date 7</th>\n",
              "      <th>Informal Date 8</th>\n",
              "      <th>Informal Date 9</th>\n",
              "    </tr>\n",
              "  </thead>\n",
              "  <tbody>\n",
              "    <tr>\n",
              "      <th>0</th>\n",
              "      <td>1400/01/01</td>\n",
              "      <td>اول فروردین هزار و چهارصد</td>\n",
              "      <td>یک فروردین هزار و چهارصد</td>\n",
              "      <td>یک فروردین ۱۴۰۰</td>\n",
              "      <td>فروردین یک ۱۴۰۰</td>\n",
              "      <td>اول فروردین ۱۴۰۰</td>\n",
              "      <td>یکِ فروردین ۱۴۰۰</td>\n",
              "      <td>یکم فروردین ۱۴۰۰</td>\n",
              "      <td>اول فروردین ماه ۱۴۰۰</td>\n",
              "      <td>فروردینِ یک ۱۴۰۰</td>\n",
              "    </tr>\n",
              "    <tr>\n",
              "      <th>1</th>\n",
              "      <td>1400/02/10</td>\n",
              "      <td>دهم اردیبهشت هزار و چهارصد</td>\n",
              "      <td>ده اردیبهشت هزار و چهارصد</td>\n",
              "      <td>ده اردیبهشت ۱۴۰۰</td>\n",
              "      <td>اردیبهشت ده ۱۴۰۰</td>\n",
              "      <td>دهم اردیبهشت ۱۴۰۰</td>\n",
              "      <td>دهِ اردیبهشت ۱۴۰۰</td>\n",
              "      <td>دهم اردیبهشت ماه ۱۴۰۰</td>\n",
              "      <td>اردیبهشتِ ده ۱۴۰۰</td>\n",
              "      <td>ده اردیبهشت ۱۴۰۰</td>\n",
              "    </tr>\n",
              "    <tr>\n",
              "      <th>2</th>\n",
              "      <td>1401/03/05</td>\n",
              "      <td>پنجم خرداد هزار و چهارصد و یک</td>\n",
              "      <td>پنج خرداد هزار و چهارصد و یک</td>\n",
              "      <td>پنج خرداد ۱۴۰۱</td>\n",
              "      <td>خرداد پنج ۱۴۰۱</td>\n",
              "      <td>پنجم خرداد ۱۴۰۱</td>\n",
              "      <td>پنجِ خرداد ۱۴۰۱</td>\n",
              "      <td>پنجم خرداد ماه ۱۴۰۱</td>\n",
              "      <td>خردادِ پنج ۱۴۰۱</td>\n",
              "      <td>پنج خرداد ۱۴۰۱</td>\n",
              "    </tr>\n",
              "    <tr>\n",
              "      <th>3</th>\n",
              "      <td>1401/04/15</td>\n",
              "      <td>پانزدهم تیر هزار و چهارصد و یک</td>\n",
              "      <td>پانزده تیر هزار و چهارصد و یک</td>\n",
              "      <td>پانزده تیر ۱۴۰۱</td>\n",
              "      <td>تیر پانزده ۱۴۰۱</td>\n",
              "      <td>پانزدهم تیر ۱۴۰۱</td>\n",
              "      <td>پانزدهِ تیر ۱۴۰۱</td>\n",
              "      <td>پانزدهم تیر ماه ۱۴۰۱</td>\n",
              "      <td>تیرِ پانزده ۱۴۰۱</td>\n",
              "      <td>پانزده تیر ۱۴۰۱</td>\n",
              "    </tr>\n",
              "    <tr>\n",
              "      <th>4</th>\n",
              "      <td>1402/05/20</td>\n",
              "      <td>بیستم مرداد هزار و چهارصد و دو</td>\n",
              "      <td>بیست مرداد هزار و چهارصد و دو</td>\n",
              "      <td>بیست مرداد ۱۴۰۲</td>\n",
              "      <td>مرداد بیست ۱۴۰۲</td>\n",
              "      <td>بیستم مرداد ۱۴۰۲</td>\n",
              "      <td>بیستِ مرداد ۱۴۰۲</td>\n",
              "      <td>بیستم مرداد ماه ۱۴۰۲</td>\n",
              "      <td>مردادِ بیست ۱۴۰۲</td>\n",
              "      <td>بیست مرداد ۱۴۰۲</td>\n",
              "    </tr>\n",
              "  </tbody>\n",
              "</table>\n",
              "</div>\n",
              "    <div class=\"colab-df-buttons\">\n",
              "\n",
              "  <div class=\"colab-df-container\">\n",
              "    <button class=\"colab-df-convert\" onclick=\"convertToInteractive('df-20d03c6e-c08f-4eca-8a6c-8ff6227e7268')\"\n",
              "            title=\"Convert this dataframe to an interactive table.\"\n",
              "            style=\"display:none;\">\n",
              "\n",
              "  <svg xmlns=\"http://www.w3.org/2000/svg\" height=\"24px\" viewBox=\"0 -960 960 960\">\n",
              "    <path d=\"M120-120v-720h720v720H120Zm60-500h600v-160H180v160Zm220 220h160v-160H400v160Zm0 220h160v-160H400v160ZM180-400h160v-160H180v160Zm440 0h160v-160H620v160ZM180-180h160v-160H180v160Zm440 0h160v-160H620v160Z\"/>\n",
              "  </svg>\n",
              "    </button>\n",
              "\n",
              "  <style>\n",
              "    .colab-df-container {\n",
              "      display:flex;\n",
              "      gap: 12px;\n",
              "    }\n",
              "\n",
              "    .colab-df-convert {\n",
              "      background-color: #E8F0FE;\n",
              "      border: none;\n",
              "      border-radius: 50%;\n",
              "      cursor: pointer;\n",
              "      display: none;\n",
              "      fill: #1967D2;\n",
              "      height: 32px;\n",
              "      padding: 0 0 0 0;\n",
              "      width: 32px;\n",
              "    }\n",
              "\n",
              "    .colab-df-convert:hover {\n",
              "      background-color: #E2EBFA;\n",
              "      box-shadow: 0px 1px 2px rgba(60, 64, 67, 0.3), 0px 1px 3px 1px rgba(60, 64, 67, 0.15);\n",
              "      fill: #174EA6;\n",
              "    }\n",
              "\n",
              "    .colab-df-buttons div {\n",
              "      margin-bottom: 4px;\n",
              "    }\n",
              "\n",
              "    [theme=dark] .colab-df-convert {\n",
              "      background-color: #3B4455;\n",
              "      fill: #D2E3FC;\n",
              "    }\n",
              "\n",
              "    [theme=dark] .colab-df-convert:hover {\n",
              "      background-color: #434B5C;\n",
              "      box-shadow: 0px 1px 3px 1px rgba(0, 0, 0, 0.15);\n",
              "      filter: drop-shadow(0px 1px 2px rgba(0, 0, 0, 0.3));\n",
              "      fill: #FFFFFF;\n",
              "    }\n",
              "  </style>\n",
              "\n",
              "    <script>\n",
              "      const buttonEl =\n",
              "        document.querySelector('#df-20d03c6e-c08f-4eca-8a6c-8ff6227e7268 button.colab-df-convert');\n",
              "      buttonEl.style.display =\n",
              "        google.colab.kernel.accessAllowed ? 'block' : 'none';\n",
              "\n",
              "      async function convertToInteractive(key) {\n",
              "        const element = document.querySelector('#df-20d03c6e-c08f-4eca-8a6c-8ff6227e7268');\n",
              "        const dataTable =\n",
              "          await google.colab.kernel.invokeFunction('convertToInteractive',\n",
              "                                                    [key], {});\n",
              "        if (!dataTable) return;\n",
              "\n",
              "        const docLinkHtml = 'Like what you see? Visit the ' +\n",
              "          '<a target=\"_blank\" href=https://colab.research.google.com/notebooks/data_table.ipynb>data table notebook</a>'\n",
              "          + ' to learn more about interactive tables.';\n",
              "        element.innerHTML = '';\n",
              "        dataTable['output_type'] = 'display_data';\n",
              "        await google.colab.output.renderOutput(dataTable, element);\n",
              "        const docLink = document.createElement('div');\n",
              "        docLink.innerHTML = docLinkHtml;\n",
              "        element.appendChild(docLink);\n",
              "      }\n",
              "    </script>\n",
              "  </div>\n",
              "\n",
              "\n",
              "<div id=\"df-f0414c79-c0bf-472c-842c-0ad7af71c178\">\n",
              "  <button class=\"colab-df-quickchart\" onclick=\"quickchart('df-f0414c79-c0bf-472c-842c-0ad7af71c178')\"\n",
              "            title=\"Suggest charts\"\n",
              "            style=\"display:none;\">\n",
              "\n",
              "<svg xmlns=\"http://www.w3.org/2000/svg\" height=\"24px\"viewBox=\"0 0 24 24\"\n",
              "     width=\"24px\">\n",
              "    <g>\n",
              "        <path d=\"M19 3H5c-1.1 0-2 .9-2 2v14c0 1.1.9 2 2 2h14c1.1 0 2-.9 2-2V5c0-1.1-.9-2-2-2zM9 17H7v-7h2v7zm4 0h-2V7h2v10zm4 0h-2v-4h2v4z\"/>\n",
              "    </g>\n",
              "</svg>\n",
              "  </button>\n",
              "\n",
              "<style>\n",
              "  .colab-df-quickchart {\n",
              "      --bg-color: #E8F0FE;\n",
              "      --fill-color: #1967D2;\n",
              "      --hover-bg-color: #E2EBFA;\n",
              "      --hover-fill-color: #174EA6;\n",
              "      --disabled-fill-color: #AAA;\n",
              "      --disabled-bg-color: #DDD;\n",
              "  }\n",
              "\n",
              "  [theme=dark] .colab-df-quickchart {\n",
              "      --bg-color: #3B4455;\n",
              "      --fill-color: #D2E3FC;\n",
              "      --hover-bg-color: #434B5C;\n",
              "      --hover-fill-color: #FFFFFF;\n",
              "      --disabled-bg-color: #3B4455;\n",
              "      --disabled-fill-color: #666;\n",
              "  }\n",
              "\n",
              "  .colab-df-quickchart {\n",
              "    background-color: var(--bg-color);\n",
              "    border: none;\n",
              "    border-radius: 50%;\n",
              "    cursor: pointer;\n",
              "    display: none;\n",
              "    fill: var(--fill-color);\n",
              "    height: 32px;\n",
              "    padding: 0;\n",
              "    width: 32px;\n",
              "  }\n",
              "\n",
              "  .colab-df-quickchart:hover {\n",
              "    background-color: var(--hover-bg-color);\n",
              "    box-shadow: 0 1px 2px rgba(60, 64, 67, 0.3), 0 1px 3px 1px rgba(60, 64, 67, 0.15);\n",
              "    fill: var(--button-hover-fill-color);\n",
              "  }\n",
              "\n",
              "  .colab-df-quickchart-complete:disabled,\n",
              "  .colab-df-quickchart-complete:disabled:hover {\n",
              "    background-color: var(--disabled-bg-color);\n",
              "    fill: var(--disabled-fill-color);\n",
              "    box-shadow: none;\n",
              "  }\n",
              "\n",
              "  .colab-df-spinner {\n",
              "    border: 2px solid var(--fill-color);\n",
              "    border-color: transparent;\n",
              "    border-bottom-color: var(--fill-color);\n",
              "    animation:\n",
              "      spin 1s steps(1) infinite;\n",
              "  }\n",
              "\n",
              "  @keyframes spin {\n",
              "    0% {\n",
              "      border-color: transparent;\n",
              "      border-bottom-color: var(--fill-color);\n",
              "      border-left-color: var(--fill-color);\n",
              "    }\n",
              "    20% {\n",
              "      border-color: transparent;\n",
              "      border-left-color: var(--fill-color);\n",
              "      border-top-color: var(--fill-color);\n",
              "    }\n",
              "    30% {\n",
              "      border-color: transparent;\n",
              "      border-left-color: var(--fill-color);\n",
              "      border-top-color: var(--fill-color);\n",
              "      border-right-color: var(--fill-color);\n",
              "    }\n",
              "    40% {\n",
              "      border-color: transparent;\n",
              "      border-right-color: var(--fill-color);\n",
              "      border-top-color: var(--fill-color);\n",
              "    }\n",
              "    60% {\n",
              "      border-color: transparent;\n",
              "      border-right-color: var(--fill-color);\n",
              "    }\n",
              "    80% {\n",
              "      border-color: transparent;\n",
              "      border-right-color: var(--fill-color);\n",
              "      border-bottom-color: var(--fill-color);\n",
              "    }\n",
              "    90% {\n",
              "      border-color: transparent;\n",
              "      border-bottom-color: var(--fill-color);\n",
              "    }\n",
              "  }\n",
              "</style>\n",
              "\n",
              "  <script>\n",
              "    async function quickchart(key) {\n",
              "      const quickchartButtonEl =\n",
              "        document.querySelector('#' + key + ' button');\n",
              "      quickchartButtonEl.disabled = true;  // To prevent multiple clicks.\n",
              "      quickchartButtonEl.classList.add('colab-df-spinner');\n",
              "      try {\n",
              "        const charts = await google.colab.kernel.invokeFunction(\n",
              "            'suggestCharts', [key], {});\n",
              "      } catch (error) {\n",
              "        console.error('Error during call to suggestCharts:', error);\n",
              "      }\n",
              "      quickchartButtonEl.classList.remove('colab-df-spinner');\n",
              "      quickchartButtonEl.classList.add('colab-df-quickchart-complete');\n",
              "    }\n",
              "    (() => {\n",
              "      let quickchartButtonEl =\n",
              "        document.querySelector('#df-f0414c79-c0bf-472c-842c-0ad7af71c178 button');\n",
              "      quickchartButtonEl.style.display =\n",
              "        google.colab.kernel.accessAllowed ? 'block' : 'none';\n",
              "    })();\n",
              "  </script>\n",
              "</div>\n",
              "\n",
              "    </div>\n",
              "  </div>\n"
            ],
            "application/vnd.google.colaboratory.intrinsic+json": {
              "type": "dataframe",
              "variable_name": "data",
              "summary": "{\n  \"name\": \"data\",\n  \"rows\": 761,\n  \"fields\": [\n    {\n      \"column\": \"Formal Date\",\n      \"properties\": {\n        \"dtype\": \"string\",\n        \"num_unique_values\": 761,\n        \"samples\": [\n          \"1274/09/18\",\n          \"1278/09/30\",\n          \"1349/02/15\"\n        ],\n        \"semantic_type\": \"\",\n        \"description\": \"\"\n      }\n    },\n    {\n      \"column\": \"Informal Date 1\",\n      \"properties\": {\n        \"dtype\": \"string\",\n        \"num_unique_values\": 761,\n        \"samples\": [\n          \"\\u0647\\u062c\\u062f\\u0647 \\u0622\\u0630\\u0631 \\u0647\\u0632\\u0627\\u0631 \\u0648 \\u062f\\u0648\\u06cc\\u0633\\u062a \\u0648 \\u0647\\u0641\\u062a\\u0627\\u062f \\u0648 \\u0686\\u0647\\u0627\\u0631\",\n          \"\\u0633\\u06cc\\u200c\\u0627\\u0645 \\u0622\\u0630\\u0631 \\u0647\\u0632\\u0627\\u0631 \\u0648 \\u062f\\u0648\\u06cc\\u0633\\u062a \\u0648 \\u0647\\u0641\\u062a\\u0627\\u062f \\u0648 \\u0647\\u0634\\u062a\",\n          \"\\u067e\\u0627\\u0646\\u0632\\u062f\\u0647\\u0645 \\u0627\\u0631\\u062f\\u06cc\\u0628\\u0647\\u0634\\u062a \\u0647\\u0632\\u0627\\u0631 \\u0648 \\u0633\\u06cc\\u0635\\u062f \\u0648 \\u0628\\u06cc\\u0633\\u062a \\u0648 \\u0646\\u0647\"\n        ],\n        \"semantic_type\": \"\",\n        \"description\": \"\"\n      }\n    },\n    {\n      \"column\": \"Informal Date 2\",\n      \"properties\": {\n        \"dtype\": \"string\",\n        \"num_unique_values\": 761,\n        \"samples\": [\n          \"\\u0647\\u062c\\u062f\\u0647 \\u0622\\u0630\\u0631 \\u06f1\\u06f2\\u06f7\\u06f4\",\n          \"\\u0633\\u06cc \\u0622\\u0630\\u0631 \\u06f1\\u06f2\\u06f7\\u06f8\",\n          \"\\u067e\\u0627\\u0646\\u0632\\u062f\\u0647 \\u0627\\u0631\\u062f\\u06cc\\u0628\\u0647\\u0634\\u062a \\u0647\\u0632\\u0627\\u0631 \\u0648 \\u0633\\u06cc\\u0635\\u062f \\u0648 \\u0628\\u06cc\\u0633\\u062a \\u0648 \\u0646\\u0647\"\n        ],\n        \"semantic_type\": \"\",\n        \"description\": \"\"\n      }\n    },\n    {\n      \"column\": \"Informal Date 3\",\n      \"properties\": {\n        \"dtype\": \"string\",\n        \"num_unique_values\": 761,\n        \"samples\": [\n          \"\\u0622\\u0630\\u0631 \\u0647\\u062c\\u062f\\u0647 \\u06f1\\u06f2\\u06f7\\u06f4\",\n          \"\\u0622\\u0630\\u0631 \\u0633\\u06cc \\u06f1\\u06f2\\u06f7\\u06f8\",\n          \"\\u067e\\u0627\\u0646\\u0632\\u062f\\u0647 \\u0627\\u0631\\u062f\\u06cc\\u0628\\u0647\\u0634\\u062a \\u06f1\\u06f3\\u06f4\\u06f9\"\n        ],\n        \"semantic_type\": \"\",\n        \"description\": \"\"\n      }\n    },\n    {\n      \"column\": \"Informal Date 4\",\n      \"properties\": {\n        \"dtype\": \"string\",\n        \"num_unique_values\": 761,\n        \"samples\": [\n          \"\\u0647\\u062c\\u062f\\u0647 \\u0622\\u0630\\u0631 \\u06f1\\u06f2\\u06f7\\u06f4\",\n          \"\\u0633\\u06cc\\u200c\\u0627\\u0645 \\u0622\\u0630\\u0631 \\u06f1\\u06f2\\u06f7\\u06f8\",\n          \"\\u0627\\u0631\\u062f\\u06cc\\u0628\\u0647\\u0634\\u062a \\u067e\\u0627\\u0646\\u0632\\u062f\\u0647 \\u06f1\\u06f3\\u06f4\\u06f9\"\n        ],\n        \"semantic_type\": \"\",\n        \"description\": \"\"\n      }\n    },\n    {\n      \"column\": \"Informal Date 5\",\n      \"properties\": {\n        \"dtype\": \"string\",\n        \"num_unique_values\": 761,\n        \"samples\": [\n          \"\\u0622\\u0630\\u0631 \\u0647\\u062c\\u062f\\u0647 \\u06f1\\u06f2\\u06f7\\u06f4\",\n          \"\\u0622\\u0630\\u0631 \\u0633\\u06cc \\u06f1\\u06f2\\u06f7\\u06f8\",\n          \"\\u067e\\u0627\\u0646\\u0632\\u062f\\u0647\\u0645 \\u0627\\u0631\\u062f\\u06cc\\u0628\\u0647\\u0634\\u062a \\u06f1\\u06f3\\u06f4\\u06f9\"\n        ],\n        \"semantic_type\": \"\",\n        \"description\": \"\"\n      }\n    },\n    {\n      \"column\": \"Informal Date 6\",\n      \"properties\": {\n        \"dtype\": \"category\",\n        \"num_unique_values\": 138,\n        \"samples\": [\n          \"\\u0628\\u06cc\\u0633\\u062a\\u0650 \\u0634\\u0647\\u0631\\u06cc\\u0648\\u0631 \\u06f1\\u06f3\\u06f4\\u06f1\",\n          \"\\u062f\\u0647\\u0650 \\u062f\\u06cc \\u06f1\\u06f3\\u06f5\\u06f7\",\n          \"\\u067e\\u0646\\u062c\\u0650 \\u0641\\u0631\\u0648\\u0631\\u062f\\u06cc\\u0646 \\u06f1\\u06f4\\u06f0\\u06f8\"\n        ],\n        \"semantic_type\": \"\",\n        \"description\": \"\"\n      }\n    },\n    {\n      \"column\": \"Informal Date 7\",\n      \"properties\": {\n        \"dtype\": \"category\",\n        \"num_unique_values\": 138,\n        \"samples\": [\n          \"\\u0628\\u06cc\\u0633\\u062a\\u0645 \\u0634\\u0647\\u0631\\u06cc\\u0648\\u0631 \\u0645\\u0627\\u0647 \\u06f1\\u06f3\\u06f4\\u06f1\",\n          \"\\u062f\\u0647\\u0645 \\u062f\\u06cc \\u0645\\u0627\\u0647 \\u06f1\\u06f3\\u06f5\\u06f7\",\n          \"\\u067e\\u0646\\u062c\\u0645 \\u0641\\u0631\\u0648\\u0631\\u062f\\u06cc\\u0646 \\u0645\\u0627\\u0647 \\u06f1\\u06f4\\u06f0\\u06f8\"\n        ],\n        \"semantic_type\": \"\",\n        \"description\": \"\"\n      }\n    },\n    {\n      \"column\": \"Informal Date 8\",\n      \"properties\": {\n        \"dtype\": \"category\",\n        \"num_unique_values\": 138,\n        \"samples\": [\n          \"\\u0634\\u0647\\u0631\\u06cc\\u0648\\u0631\\u0650 \\u0628\\u06cc\\u0633\\u062a \\u06f1\\u06f3\\u06f4\\u06f1\",\n          \"\\u062f\\u06cc\\u0650 \\u062f\\u0647 \\u06f1\\u06f3\\u06f5\\u06f7\",\n          \"\\u0641\\u0631\\u0648\\u0631\\u062f\\u06cc\\u0646\\u0650 \\u067e\\u0646\\u062c \\u06f1\\u06f4\\u06f0\\u06f8\"\n        ],\n        \"semantic_type\": \"\",\n        \"description\": \"\"\n      }\n    },\n    {\n      \"column\": \"Informal Date 9\",\n      \"properties\": {\n        \"dtype\": \"category\",\n        \"num_unique_values\": 138,\n        \"samples\": [\n          \"\\u0628\\u06cc\\u0633\\u062a \\u0634\\u0647\\u0631\\u06cc\\u0648\\u0631 \\u06f1\\u06f3\\u06f4\\u06f1\",\n          \"\\u062f\\u0647 \\u062f\\u06cc \\u06f1\\u06f3\\u06f5\\u06f7\",\n          \"\\u067e\\u0646\\u062c \\u0641\\u0631\\u0648\\u0631\\u062f\\u06cc\\u0646 \\u06f1\\u06f4\\u06f0\\u06f8\"\n        ],\n        \"semantic_type\": \"\",\n        \"description\": \"\"\n      }\n    }\n  ]\n}"
            }
          },
          "metadata": {},
          "execution_count": 73
        }
      ]
    },
    {
      "cell_type": "code",
      "source": [
        "missing_values = data.isnull().sum()\n",
        "print(\"Missing values in each column:\\n\", missing_values)"
      ],
      "metadata": {
        "colab": {
          "base_uri": "https://localhost:8080/"
        },
        "id": "SGx-2ZuaeOVR",
        "outputId": "e38d7fe0-50ac-46b1-d32f-72d947b0da3f"
      },
      "execution_count": 74,
      "outputs": [
        {
          "output_type": "stream",
          "name": "stdout",
          "text": [
            "Missing values in each column:\n",
            " Formal Date          0\n",
            "Informal Date 1      0\n",
            "Informal Date 2      0\n",
            "Informal Date 3      0\n",
            "Informal Date 4      0\n",
            "Informal Date 5      0\n",
            "Informal Date 6    623\n",
            "Informal Date 7    623\n",
            "Informal Date 8    623\n",
            "Informal Date 9    623\n",
            "dtype: int64\n"
          ]
        }
      ]
    },
    {
      "cell_type": "code",
      "source": [
        "data['Informal Dates'] = data.iloc[:, 1:].apply(lambda x: ' '.join(x.dropna()), axis=1)\n",
        "\n",
        "y = data['Formal Date']\n",
        "\n",
        "X = data['Informal Dates']"
      ],
      "metadata": {
        "id": "J2uJJzhueCey"
      },
      "execution_count": 75,
      "outputs": []
    },
    {
      "cell_type": "code",
      "source": [
        "def preprocess_text(text):\n",
        "    text = text.lower()\n",
        "    text = re.sub(r'\\s+', ' ', text)\n",
        "    text = re.sub(r'[^\\w\\s]', '', text)\n",
        "    text = text.strip()\n",
        "    return text"
      ],
      "metadata": {
        "id": "yH43bYZYigXX"
      },
      "execution_count": 76,
      "outputs": []
    },
    {
      "cell_type": "code",
      "source": [
        "data['Informal Dates'] = data['Informal Dates'].apply(preprocess_text)"
      ],
      "metadata": {
        "id": "AxcKitlOiywV"
      },
      "execution_count": 77,
      "outputs": []
    },
    {
      "cell_type": "code",
      "source": [
        "y.shape"
      ],
      "metadata": {
        "colab": {
          "base_uri": "https://localhost:8080/"
        },
        "id": "ahjVn3J5bqYy",
        "outputId": "9f238b3a-8206-4686-af4d-a9014faef21e"
      },
      "execution_count": 78,
      "outputs": [
        {
          "output_type": "execute_result",
          "data": {
            "text/plain": [
              "(761,)"
            ]
          },
          "metadata": {},
          "execution_count": 78
        }
      ]
    },
    {
      "cell_type": "code",
      "source": [
        "X.shape"
      ],
      "metadata": {
        "colab": {
          "base_uri": "https://localhost:8080/"
        },
        "id": "eP4q0_iSbt-O",
        "outputId": "fc0f63c5-cd15-400e-b7ea-17354b8111a3"
      },
      "execution_count": 79,
      "outputs": [
        {
          "output_type": "execute_result",
          "data": {
            "text/plain": [
              "(761,)"
            ]
          },
          "metadata": {},
          "execution_count": 79
        }
      ]
    },
    {
      "cell_type": "markdown",
      "source": [
        "#Tokenazation and Encoding"
      ],
      "metadata": {
        "id": "6psFwSS5fUwH"
      }
    },
    {
      "cell_type": "code",
      "source": [
        "hazm_tokenizer = WordTokenizer(replace_numbers=False, replace_ids=True)\n",
        "X = X.apply(lambda v: hazm_tokenizer.tokenize(v))\n",
        "X.head()"
      ],
      "metadata": {
        "id": "KWng1mkvek11",
        "colab": {
          "base_uri": "https://localhost:8080/",
          "height": 241
        },
        "outputId": "dafcfa0d-337d-432b-c8ba-48980da7fb39"
      },
      "execution_count": 80,
      "outputs": [
        {
          "output_type": "execute_result",
          "data": {
            "text/plain": [
              "0    [اول, فروردین, هزار, و, چهارصد, یک, فروردین, ه...\n",
              "1    [دهم, اردیبهشت, هزار, و, چهارصد, ده, اردیبهشت,...\n",
              "2    [پنجم, خرداد, هزار, و, چهارصد, و, یک, پنج, خرد...\n",
              "3    [پانزدهم, تیر, هزار, و, چهارصد, و, یک, پانزده,...\n",
              "4    [بیستم, مرداد, هزار, و, چهارصد, و, دو, بیست, م...\n",
              "Name: Informal Dates, dtype: object"
            ],
            "text/html": [
              "<div>\n",
              "<style scoped>\n",
              "    .dataframe tbody tr th:only-of-type {\n",
              "        vertical-align: middle;\n",
              "    }\n",
              "\n",
              "    .dataframe tbody tr th {\n",
              "        vertical-align: top;\n",
              "    }\n",
              "\n",
              "    .dataframe thead th {\n",
              "        text-align: right;\n",
              "    }\n",
              "</style>\n",
              "<table border=\"1\" class=\"dataframe\">\n",
              "  <thead>\n",
              "    <tr style=\"text-align: right;\">\n",
              "      <th></th>\n",
              "      <th>Informal Dates</th>\n",
              "    </tr>\n",
              "  </thead>\n",
              "  <tbody>\n",
              "    <tr>\n",
              "      <th>0</th>\n",
              "      <td>[اول, فروردین, هزار, و, چهارصد, یک, فروردین, ه...</td>\n",
              "    </tr>\n",
              "    <tr>\n",
              "      <th>1</th>\n",
              "      <td>[دهم, اردیبهشت, هزار, و, چهارصد, ده, اردیبهشت,...</td>\n",
              "    </tr>\n",
              "    <tr>\n",
              "      <th>2</th>\n",
              "      <td>[پنجم, خرداد, هزار, و, چهارصد, و, یک, پنج, خرد...</td>\n",
              "    </tr>\n",
              "    <tr>\n",
              "      <th>3</th>\n",
              "      <td>[پانزدهم, تیر, هزار, و, چهارصد, و, یک, پانزده,...</td>\n",
              "    </tr>\n",
              "    <tr>\n",
              "      <th>4</th>\n",
              "      <td>[بیستم, مرداد, هزار, و, چهارصد, و, دو, بیست, م...</td>\n",
              "    </tr>\n",
              "  </tbody>\n",
              "</table>\n",
              "</div><br><label><b>dtype:</b> object</label>"
            ]
          },
          "metadata": {},
          "execution_count": 80
        }
      ]
    },
    {
      "cell_type": "code",
      "source": [
        "hazm_lemmatizer = Lemmatizer()\n",
        "X = X.apply(lambda v: [hazm_lemmatizer.lemmatize(w) for w in v])\n",
        "X.head()"
      ],
      "metadata": {
        "colab": {
          "base_uri": "https://localhost:8080/",
          "height": 241
        },
        "id": "KOq6nA-5CdAd",
        "outputId": "2de10206-3c26-43aa-86e1-62e8629ab8a7"
      },
      "execution_count": 81,
      "outputs": [
        {
          "output_type": "execute_result",
          "data": {
            "text/plain": [
              "0    [اول, فروردین, هزار, و, چهارصد, یک, فروردین, ه...\n",
              "1    [دهم, اردیبهشت, هزار, و, چهارصد, ده, اردیبهشت,...\n",
              "2    [پنجم, خرداد, هزار, و, چهارصد, و, یک, پنج, خرد...\n",
              "3    [پانزدهم, تیر, هزار, و, چهارصد, و, یک, پانزده,...\n",
              "4    [بیستم, مرداد, هزار, و, چهارصد, و, دو, بیست, م...\n",
              "Name: Informal Dates, dtype: object"
            ],
            "text/html": [
              "<div>\n",
              "<style scoped>\n",
              "    .dataframe tbody tr th:only-of-type {\n",
              "        vertical-align: middle;\n",
              "    }\n",
              "\n",
              "    .dataframe tbody tr th {\n",
              "        vertical-align: top;\n",
              "    }\n",
              "\n",
              "    .dataframe thead th {\n",
              "        text-align: right;\n",
              "    }\n",
              "</style>\n",
              "<table border=\"1\" class=\"dataframe\">\n",
              "  <thead>\n",
              "    <tr style=\"text-align: right;\">\n",
              "      <th></th>\n",
              "      <th>Informal Dates</th>\n",
              "    </tr>\n",
              "  </thead>\n",
              "  <tbody>\n",
              "    <tr>\n",
              "      <th>0</th>\n",
              "      <td>[اول, فروردین, هزار, و, چهارصد, یک, فروردین, ه...</td>\n",
              "    </tr>\n",
              "    <tr>\n",
              "      <th>1</th>\n",
              "      <td>[دهم, اردیبهشت, هزار, و, چهارصد, ده, اردیبهشت,...</td>\n",
              "    </tr>\n",
              "    <tr>\n",
              "      <th>2</th>\n",
              "      <td>[پنجم, خرداد, هزار, و, چهارصد, و, یک, پنج, خرد...</td>\n",
              "    </tr>\n",
              "    <tr>\n",
              "      <th>3</th>\n",
              "      <td>[پانزدهم, تیر, هزار, و, چهارصد, و, یک, پانزده,...</td>\n",
              "    </tr>\n",
              "    <tr>\n",
              "      <th>4</th>\n",
              "      <td>[بیستم, مرداد, هزار, و, چهارصد, و, دو, بیست, م...</td>\n",
              "    </tr>\n",
              "  </tbody>\n",
              "</table>\n",
              "</div><br><label><b>dtype:</b> object</label>"
            ]
          },
          "metadata": {},
          "execution_count": 81
        }
      ]
    },
    {
      "cell_type": "code",
      "source": [
        "X = X.apply(lambda v: ' '.join(v))\n",
        "X = list(X)\n",
        "X[:5]"
      ],
      "metadata": {
        "colab": {
          "base_uri": "https://localhost:8080/"
        },
        "id": "jyQPQaDMCxqx",
        "outputId": "e39d64c8-a8d2-4705-cb1c-cf8e97f6a964"
      },
      "execution_count": 84,
      "outputs": [
        {
          "output_type": "execute_result",
          "data": {
            "text/plain": [
              "['فروردین هزار چهارصد فروردین هزار چهارصد فروردین ۱۴۰۰ فروردین ۱۴۰۰ فروردین ۱۴۰۰ یکِ فروردین ۱۴۰۰ یکم فروردین ۱۴۰۰ فروردین ماه ۱۴۰۰ فروردینِ ۱۴۰۰',\n",
              " 'دهم اردیبهشت هزار چهارصد ده اردیبهشت هزار چهارصد ده اردیبهشت ۱۴۰۰ اردیبهشت ده ۱۴۰۰ دهم اردیبهشت ۱۴۰۰ دهِ اردیبهشت ۱۴۰۰ دهم اردیبهشت ماه ۱۴۰۰ اردیبهشتِ ده ۱۴۰۰ ده اردیبهشت ۱۴۰۰',\n",
              " 'پنجم خرداد هزار چهارصد خرداد هزار چهارصد خرداد ۱۴۰۱ خرداد ۱۴۰۱ پنجم خرداد ۱۴۰۱ پنجِ خرداد ۱۴۰۱ پنجم خرداد ماه ۱۴۰۱ خردادِ ۱۴۰۱ خرداد ۱۴۰۱',\n",
              " 'پانزدهم تیر هزار چهارصد پانزده تیر هزار چهارصد پانزده تیر ۱۴۰۱ تیر پانزده ۱۴۰۱ پانزدهم تیر ۱۴۰۱ پانزدهِ تیر ۱۴۰۱ پانزدهم تیر ماه ۱۴۰۱ تیرِ پانزده ۱۴۰۱ پانزده تیر ۱۴۰۱',\n",
              " 'بیستم مرداد هزار چهارصد بیست مرداد هزار چهارصد بیست مرداد ۱۴۰۲ مرداد بیست ۱۴۰۲ بیستم مرداد ۱۴۰۲ بیستِ مرداد ۱۴۰۲ بیستم مرداد ماه ۱۴۰۲ مردادِ بیست ۱۴۰۲ بیست مرداد ۱۴۰۲']"
            ]
          },
          "metadata": {},
          "execution_count": 84
        }
      ]
    },
    {
      "source": [
        "max_length = max(len(seq) for seq in X_sequences)\n",
        "X_padded = pad_sequences(X_sequences, maxlen=max_length, padding='post')\n",
        "X_padded"
      ],
      "cell_type": "code",
      "metadata": {
        "colab": {
          "base_uri": "https://localhost:8080/",
          "height": 176
        },
        "id": "iSL8a_TDfGK1",
        "outputId": "2d0f2a72-ebe9-4a3c-902f-e19bf78a5768"
      },
      "execution_count": 85,
      "outputs": [
        {
          "output_type": "error",
          "ename": "NameError",
          "evalue": "name 'X_sequences' is not defined",
          "traceback": [
            "\u001b[0;31m---------------------------------------------------------------------------\u001b[0m",
            "\u001b[0;31mNameError\u001b[0m                                 Traceback (most recent call last)",
            "\u001b[0;32m<ipython-input-85-0e1f01770d0c>\u001b[0m in \u001b[0;36m<cell line: 1>\u001b[0;34m()\u001b[0m\n\u001b[0;32m----> 1\u001b[0;31m \u001b[0mmax_length\u001b[0m \u001b[0;34m=\u001b[0m \u001b[0mmax\u001b[0m\u001b[0;34m(\u001b[0m\u001b[0mlen\u001b[0m\u001b[0;34m(\u001b[0m\u001b[0mseq\u001b[0m\u001b[0;34m)\u001b[0m \u001b[0;32mfor\u001b[0m \u001b[0mseq\u001b[0m \u001b[0;32min\u001b[0m \u001b[0mX_sequences\u001b[0m\u001b[0;34m)\u001b[0m\u001b[0;34m\u001b[0m\u001b[0;34m\u001b[0m\u001b[0m\n\u001b[0m\u001b[1;32m      2\u001b[0m \u001b[0mX_padded\u001b[0m \u001b[0;34m=\u001b[0m \u001b[0mpad_sequences\u001b[0m\u001b[0;34m(\u001b[0m\u001b[0mX_sequences\u001b[0m\u001b[0;34m,\u001b[0m \u001b[0mmaxlen\u001b[0m\u001b[0;34m=\u001b[0m\u001b[0mmax_length\u001b[0m\u001b[0;34m,\u001b[0m \u001b[0mpadding\u001b[0m\u001b[0;34m=\u001b[0m\u001b[0;34m'post'\u001b[0m\u001b[0;34m)\u001b[0m\u001b[0;34m\u001b[0m\u001b[0;34m\u001b[0m\u001b[0m\n\u001b[1;32m      3\u001b[0m \u001b[0mX_padded\u001b[0m\u001b[0;34m\u001b[0m\u001b[0;34m\u001b[0m\u001b[0m\n",
            "\u001b[0;31mNameError\u001b[0m: name 'X_sequences' is not defined"
          ]
        }
      ]
    },
    {
      "cell_type": "code",
      "source": [
        "label_encoder = LabelEncoder()\n",
        "y_encoded = label_encoder.fit_transform(y)"
      ],
      "metadata": {
        "id": "RMcmWKgDfSz6"
      },
      "execution_count": 93,
      "outputs": []
    },
    {
      "cell_type": "code",
      "source": [
        "X_train, X_test, y_train, y_test = train_test_split(X, y, test_size=0.15)"
      ],
      "metadata": {
        "id": "-ITfNhd2feBq"
      },
      "execution_count": 87,
      "outputs": []
    },
    {
      "cell_type": "code",
      "source": [
        "print(\"Shape of X_train:\", X_train.shape)\n",
        "print(\"Shape of y_train:\", y_train.shape)\n",
        "print(\"Shape of X_test:\", X_test.shape)\n",
        "print(\"Shape of y_test:\", y_test.shape)"
      ],
      "metadata": {
        "colab": {
          "base_uri": "https://localhost:8080/",
          "height": 193
        },
        "id": "w6j13aW7gJOu",
        "outputId": "92cf9f35-36ef-4e1a-d6ac-30fcb3bee31e"
      },
      "execution_count": 90,
      "outputs": [
        {
          "output_type": "error",
          "ename": "AttributeError",
          "evalue": "'list' object has no attribute 'shape'",
          "traceback": [
            "\u001b[0;31m---------------------------------------------------------------------------\u001b[0m",
            "\u001b[0;31mAttributeError\u001b[0m                            Traceback (most recent call last)",
            "\u001b[0;32m<ipython-input-90-aae92c3046f6>\u001b[0m in \u001b[0;36m<cell line: 1>\u001b[0;34m()\u001b[0m\n\u001b[0;32m----> 1\u001b[0;31m \u001b[0mprint\u001b[0m\u001b[0;34m(\u001b[0m\u001b[0;34m\"Shape of X_train:\"\u001b[0m\u001b[0;34m,\u001b[0m \u001b[0mX_train\u001b[0m\u001b[0;34m.\u001b[0m\u001b[0mshape\u001b[0m\u001b[0;34m)\u001b[0m\u001b[0;34m\u001b[0m\u001b[0;34m\u001b[0m\u001b[0m\n\u001b[0m\u001b[1;32m      2\u001b[0m \u001b[0mprint\u001b[0m\u001b[0;34m(\u001b[0m\u001b[0;34m\"Shape of y_train:\"\u001b[0m\u001b[0;34m,\u001b[0m \u001b[0my_train\u001b[0m\u001b[0;34m.\u001b[0m\u001b[0mshape\u001b[0m\u001b[0;34m)\u001b[0m\u001b[0;34m\u001b[0m\u001b[0;34m\u001b[0m\u001b[0m\n\u001b[1;32m      3\u001b[0m \u001b[0mprint\u001b[0m\u001b[0;34m(\u001b[0m\u001b[0;34m\"Shape of X_test:\"\u001b[0m\u001b[0;34m,\u001b[0m \u001b[0mX_test\u001b[0m\u001b[0;34m.\u001b[0m\u001b[0mshape\u001b[0m\u001b[0;34m)\u001b[0m\u001b[0;34m\u001b[0m\u001b[0;34m\u001b[0m\u001b[0m\n\u001b[1;32m      4\u001b[0m \u001b[0mprint\u001b[0m\u001b[0;34m(\u001b[0m\u001b[0;34m\"Shape of y_test:\"\u001b[0m\u001b[0;34m,\u001b[0m \u001b[0my_test\u001b[0m\u001b[0;34m.\u001b[0m\u001b[0mshape\u001b[0m\u001b[0;34m)\u001b[0m\u001b[0;34m\u001b[0m\u001b[0;34m\u001b[0m\u001b[0m\n",
            "\u001b[0;31mAttributeError\u001b[0m: 'list' object has no attribute 'shape'"
          ]
        }
      ]
    },
    {
      "cell_type": "markdown",
      "source": [
        "# Building and Training the model"
      ],
      "metadata": {
        "id": "SiWr6L7Nh6ci"
      }
    },
    {
      "cell_type": "code",
      "source": [
        "reduce_lr = ReduceLROnPlateau(monitor='val_loss', factor=0.2, patience=3, min_lr=1e-5)"
      ],
      "metadata": {
        "id": "LrwevXwjKSYh"
      },
      "execution_count": null,
      "outputs": []
    },
    {
      "cell_type": "code",
      "source": [
        "early_stopping = EarlyStopping(monitor='val_loss', patience=5, restore_best_weights=True)"
      ],
      "metadata": {
        "id": "Wzj-Ije2LzZ8"
      },
      "execution_count": null,
      "outputs": []
    },
    {
      "cell_type": "code",
      "source": [
        "model = Sequential()\n",
        "model.add(Embedding(input_dim=len(tokenizer.word_index) + 1, output_dim=128, input_length=max_length))\n",
        "\n",
        "model.add(Bidirectional(LSTM(64, return_sequences=True, kernel_regularizer=l2(0.001))))\n",
        "model.add(Dropout(0.4))\n",
        "\n",
        "model.add(Bidirectional(LSTM(32, kernel_regularizer=l2(0.001))))\n",
        "model.add(Dropout(0.4))\n",
        "\n",
        "model.add(Dense(len(label_encoder.classes_), activation='softmax'))"
      ],
      "metadata": {
        "colab": {
          "base_uri": "https://localhost:8080/",
          "height": 245
        },
        "id": "F3wZOtpVh-98",
        "outputId": "0764dd35-6213-45ff-92b3-6834d001d676"
      },
      "execution_count": 91,
      "outputs": [
        {
          "output_type": "error",
          "ename": "AttributeError",
          "evalue": "'WordTokenizer' object has no attribute 'word_index'",
          "traceback": [
            "\u001b[0;31m---------------------------------------------------------------------------\u001b[0m",
            "\u001b[0;31mAttributeError\u001b[0m                            Traceback (most recent call last)",
            "\u001b[0;32m<ipython-input-91-f8d5343136a4>\u001b[0m in \u001b[0;36m<cell line: 2>\u001b[0;34m()\u001b[0m\n\u001b[1;32m      1\u001b[0m \u001b[0mmodel\u001b[0m \u001b[0;34m=\u001b[0m \u001b[0mSequential\u001b[0m\u001b[0;34m(\u001b[0m\u001b[0;34m)\u001b[0m\u001b[0;34m\u001b[0m\u001b[0;34m\u001b[0m\u001b[0m\n\u001b[0;32m----> 2\u001b[0;31m \u001b[0mmodel\u001b[0m\u001b[0;34m.\u001b[0m\u001b[0madd\u001b[0m\u001b[0;34m(\u001b[0m\u001b[0mEmbedding\u001b[0m\u001b[0;34m(\u001b[0m\u001b[0minput_dim\u001b[0m\u001b[0;34m=\u001b[0m\u001b[0mlen\u001b[0m\u001b[0;34m(\u001b[0m\u001b[0mtokenizer\u001b[0m\u001b[0;34m.\u001b[0m\u001b[0mword_index\u001b[0m\u001b[0;34m)\u001b[0m \u001b[0;34m+\u001b[0m \u001b[0;36m1\u001b[0m\u001b[0;34m,\u001b[0m \u001b[0moutput_dim\u001b[0m\u001b[0;34m=\u001b[0m\u001b[0;36m128\u001b[0m\u001b[0;34m,\u001b[0m \u001b[0minput_length\u001b[0m\u001b[0;34m=\u001b[0m\u001b[0mmax_length\u001b[0m\u001b[0;34m)\u001b[0m\u001b[0;34m)\u001b[0m\u001b[0;34m\u001b[0m\u001b[0;34m\u001b[0m\u001b[0m\n\u001b[0m\u001b[1;32m      3\u001b[0m \u001b[0;34m\u001b[0m\u001b[0m\n\u001b[1;32m      4\u001b[0m \u001b[0mmodel\u001b[0m\u001b[0;34m.\u001b[0m\u001b[0madd\u001b[0m\u001b[0;34m(\u001b[0m\u001b[0mBidirectional\u001b[0m\u001b[0;34m(\u001b[0m\u001b[0mLSTM\u001b[0m\u001b[0;34m(\u001b[0m\u001b[0;36m64\u001b[0m\u001b[0;34m,\u001b[0m \u001b[0mreturn_sequences\u001b[0m\u001b[0;34m=\u001b[0m\u001b[0;32mTrue\u001b[0m\u001b[0;34m,\u001b[0m \u001b[0mkernel_regularizer\u001b[0m\u001b[0;34m=\u001b[0m\u001b[0ml2\u001b[0m\u001b[0;34m(\u001b[0m\u001b[0;36m0.001\u001b[0m\u001b[0;34m)\u001b[0m\u001b[0;34m)\u001b[0m\u001b[0;34m)\u001b[0m\u001b[0;34m)\u001b[0m\u001b[0;34m\u001b[0m\u001b[0;34m\u001b[0m\u001b[0m\n\u001b[1;32m      5\u001b[0m \u001b[0mmodel\u001b[0m\u001b[0;34m.\u001b[0m\u001b[0madd\u001b[0m\u001b[0;34m(\u001b[0m\u001b[0mDropout\u001b[0m\u001b[0;34m(\u001b[0m\u001b[0;36m0.4\u001b[0m\u001b[0;34m)\u001b[0m\u001b[0;34m)\u001b[0m\u001b[0;34m\u001b[0m\u001b[0;34m\u001b[0m\u001b[0m\n",
            "\u001b[0;31mAttributeError\u001b[0m: 'WordTokenizer' object has no attribute 'word_index'"
          ]
        }
      ]
    },
    {
      "cell_type": "code",
      "source": [
        "adam_optimizer = Adam()"
      ],
      "metadata": {
        "id": "rSRjm5BRBSAx"
      },
      "execution_count": 92,
      "outputs": []
    },
    {
      "cell_type": "code",
      "source": [
        "model.compile(loss='sparse_categorical_crossentropy', optimizer=Adam(learning_rate=1e-3), metrics=['accuracy'])"
      ],
      "metadata": {
        "id": "HqR_QP7JiKrV"
      },
      "execution_count": null,
      "outputs": []
    },
    {
      "cell_type": "code",
      "source": [
        "model.summary()"
      ],
      "metadata": {
        "id": "owE14lQOiCsz"
      },
      "execution_count": null,
      "outputs": []
    },
    {
      "cell_type": "code",
      "source": [
        "early_stopping = EarlyStopping(monitor='val_loss', patience=5, restore_best_weights=True)\n",
        "reduce_lr = ReduceLROnPlateau(monitor='val_loss', factor=0.2, patience=3, min_lr=1e-5)"
      ],
      "metadata": {
        "id": "e2rl_FieO3Cn"
      },
      "execution_count": null,
      "outputs": []
    },
    {
      "cell_type": "code",
      "source": [
        "class_weights = compute_class_weight('balanced', classes=np.unique(y_train), y=y_train)\n",
        "class_weights_dict = dict(enumerate(class_weights))\n",
        "\n",
        "history = model.fit(X_train, y_train, validation_data=(X_test, y_test), epochs=100, batch_size=16,\n",
        "                    class_weight=class_weights_dict, callbacks=[early_stopping, reduce_lr])"
      ],
      "metadata": {
        "id": "aMX9FfeOiPFh"
      },
      "execution_count": null,
      "outputs": []
    },
    {
      "cell_type": "markdown",
      "source": [
        "#Prediction"
      ],
      "metadata": {
        "id": "9GkRSNXJjWEu"
      }
    },
    {
      "cell_type": "code",
      "source": [
        "def predict_formal_date(informal_date):\n",
        "    seq = tokenizer.texts_to_sequences([preprocess_text(informal_date)])\n",
        "    padded = pad_sequences(seq, maxlen=max_length, padding='post')\n",
        "    pred = model.predict(padded)\n",
        "    return label_encoder.inverse_transform([np.argmax(pred)])"
      ],
      "metadata": {
        "id": "DmSki4GdiXNF"
      },
      "execution_count": null,
      "outputs": []
    },
    {
      "cell_type": "code",
      "source": [
        "new_informal_date = \"دهم اردیبهشت هزار و چهارصد\"\n",
        "predicted_date = predict_formal_date(new_informal_date)\n",
        "print(f\"Predicted formal date: {predicted_date[0]}\")"
      ],
      "metadata": {
        "id": "gDqYKE3ZiZ1E"
      },
      "execution_count": null,
      "outputs": []
    }
  ]
}