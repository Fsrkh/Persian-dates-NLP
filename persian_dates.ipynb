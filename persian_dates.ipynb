{
  "nbformat": 4,
  "nbformat_minor": 0,
  "metadata": {
    "colab": {
      "provenance": [],
      "authorship_tag": "ABX9TyOpB5ArN5ZV76poNnXSccwr",
      "include_colab_link": true
    },
    "kernelspec": {
      "name": "python3",
      "display_name": "Python 3"
    },
    "language_info": {
      "name": "python"
    }
  },
  "cells": [
    {
      "cell_type": "markdown",
      "metadata": {
        "id": "view-in-github",
        "colab_type": "text"
      },
      "source": [
        "<a href=\"https://colab.research.google.com/github/Fsrkh/Persian-dates-NLP/blob/main/persian_dates.ipynb\" target=\"_parent\"><img src=\"https://colab.research.google.com/assets/colab-badge.svg\" alt=\"Open In Colab\"/></a>"
      ]
    },
    {
      "cell_type": "code",
      "execution_count": 3,
      "metadata": {
        "id": "S-2AiMw0NYpx"
      },
      "outputs": [],
      "source": [
        "import pandas as pd\n",
        "import numpy as np\n",
        "from sklearn.model_selection import train_test_split\n",
        "from sklearn.preprocessing import LabelEncoder\n",
        "from tensorflow.keras.preprocessing.text import Tokenizer\n",
        "from tensorflow.keras.preprocessing.sequence import pad_sequences\n",
        "from tensorflow.keras.models import Sequential\n",
        "from tensorflow.keras.layers import Embedding, Bidirectional, LSTM, Dropout, Dense, BatchNormalization\n",
        "from keras.regularizers import l2\n",
        "from tensorflow.keras.optimizers import Adam\n",
        "from sklearn.utils.class_weight import compute_class_weight # Import the necessary function\n",
        "import tensorflow as tf\n",
        "from tensorflow.keras.callbacks import ReduceLROnPlateau\n",
        "from tensorflow.keras.callbacks import EarlyStopping\n",
        "import re"
      ]
    },
    {
      "cell_type": "markdown",
      "source": [
        "Import data"
      ],
      "metadata": {
        "id": "FqEq68ArbkcP"
      }
    },
    {
      "cell_type": "code",
      "source": [
        "data = pd.read_csv('dates.csv')\n",
        "data.head()"
      ],
      "metadata": {
        "colab": {
          "base_uri": "https://localhost:8080/",
          "height": 310
        },
        "id": "Z1HSouugbmZv",
        "outputId": "a8cec42e-52b5-46db-c6b3-e8b8f51fae8f"
      },
      "execution_count": 4,
      "outputs": [
        {
          "output_type": "execute_result",
          "data": {
            "text/plain": [
              "  Formal Date                 Informal Date 1                Informal Date 2  \\\n",
              "0  1400/01/01       اول فروردین هزار و چهارصد       یک فروردین هزار و چهارصد   \n",
              "1  1400/02/10      دهم اردیبهشت هزار و چهارصد      ده اردیبهشت هزار و چهارصد   \n",
              "2  1401/03/05   پنجم خرداد هزار و چهارصد و یک   پنج خرداد هزار و چهارصد و یک   \n",
              "3  1401/04/15  پانزدهم تیر هزار و چهارصد و یک  پانزده تیر هزار و چهارصد و یک   \n",
              "4  1402/05/20  بیستم مرداد هزار و چهارصد و دو  بیست مرداد هزار و چهارصد و دو   \n",
              "\n",
              "    Informal Date 3   Informal Date 4    Informal Date 5    Informal Date 6  \\\n",
              "0   یک فروردین ۱۴۰۰   فروردین یک ۱۴۰۰   اول فروردین ۱۴۰۰   یکِ فروردین ۱۴۰۰   \n",
              "1  ده اردیبهشت ۱۴۰۰  اردیبهشت ده ۱۴۰۰  دهم اردیبهشت ۱۴۰۰  دهِ اردیبهشت ۱۴۰۰   \n",
              "2    پنج خرداد ۱۴۰۱    خرداد پنج ۱۴۰۱    پنجم خرداد ۱۴۰۱    پنجِ خرداد ۱۴۰۱   \n",
              "3   پانزده تیر ۱۴۰۱   تیر پانزده ۱۴۰۱   پانزدهم تیر ۱۴۰۱   پانزدهِ تیر ۱۴۰۱   \n",
              "4   بیست مرداد ۱۴۰۲   مرداد بیست ۱۴۰۲   بیستم مرداد ۱۴۰۲   بیستِ مرداد ۱۴۰۲   \n",
              "\n",
              "         Informal Date 7       Informal Date 8   Informal Date 9  \n",
              "0       یکم فروردین ۱۴۰۰  اول فروردین ماه ۱۴۰۰  فروردینِ یک ۱۴۰۰  \n",
              "1  دهم اردیبهشت ماه ۱۴۰۰     اردیبهشتِ ده ۱۴۰۰  ده اردیبهشت ۱۴۰۰  \n",
              "2    پنجم خرداد ماه ۱۴۰۱       خردادِ پنج ۱۴۰۱    پنج خرداد ۱۴۰۱  \n",
              "3   پانزدهم تیر ماه ۱۴۰۱      تیرِ پانزده ۱۴۰۱   پانزده تیر ۱۴۰۱  \n",
              "4   بیستم مرداد ماه ۱۴۰۲      مردادِ بیست ۱۴۰۲   بیست مرداد ۱۴۰۲  "
            ],
            "text/html": [
              "\n",
              "  <div id=\"df-c9a4e4be-7375-4f45-9673-22dae0f78215\" class=\"colab-df-container\">\n",
              "    <div>\n",
              "<style scoped>\n",
              "    .dataframe tbody tr th:only-of-type {\n",
              "        vertical-align: middle;\n",
              "    }\n",
              "\n",
              "    .dataframe tbody tr th {\n",
              "        vertical-align: top;\n",
              "    }\n",
              "\n",
              "    .dataframe thead th {\n",
              "        text-align: right;\n",
              "    }\n",
              "</style>\n",
              "<table border=\"1\" class=\"dataframe\">\n",
              "  <thead>\n",
              "    <tr style=\"text-align: right;\">\n",
              "      <th></th>\n",
              "      <th>Formal Date</th>\n",
              "      <th>Informal Date 1</th>\n",
              "      <th>Informal Date 2</th>\n",
              "      <th>Informal Date 3</th>\n",
              "      <th>Informal Date 4</th>\n",
              "      <th>Informal Date 5</th>\n",
              "      <th>Informal Date 6</th>\n",
              "      <th>Informal Date 7</th>\n",
              "      <th>Informal Date 8</th>\n",
              "      <th>Informal Date 9</th>\n",
              "    </tr>\n",
              "  </thead>\n",
              "  <tbody>\n",
              "    <tr>\n",
              "      <th>0</th>\n",
              "      <td>1400/01/01</td>\n",
              "      <td>اول فروردین هزار و چهارصد</td>\n",
              "      <td>یک فروردین هزار و چهارصد</td>\n",
              "      <td>یک فروردین ۱۴۰۰</td>\n",
              "      <td>فروردین یک ۱۴۰۰</td>\n",
              "      <td>اول فروردین ۱۴۰۰</td>\n",
              "      <td>یکِ فروردین ۱۴۰۰</td>\n",
              "      <td>یکم فروردین ۱۴۰۰</td>\n",
              "      <td>اول فروردین ماه ۱۴۰۰</td>\n",
              "      <td>فروردینِ یک ۱۴۰۰</td>\n",
              "    </tr>\n",
              "    <tr>\n",
              "      <th>1</th>\n",
              "      <td>1400/02/10</td>\n",
              "      <td>دهم اردیبهشت هزار و چهارصد</td>\n",
              "      <td>ده اردیبهشت هزار و چهارصد</td>\n",
              "      <td>ده اردیبهشت ۱۴۰۰</td>\n",
              "      <td>اردیبهشت ده ۱۴۰۰</td>\n",
              "      <td>دهم اردیبهشت ۱۴۰۰</td>\n",
              "      <td>دهِ اردیبهشت ۱۴۰۰</td>\n",
              "      <td>دهم اردیبهشت ماه ۱۴۰۰</td>\n",
              "      <td>اردیبهشتِ ده ۱۴۰۰</td>\n",
              "      <td>ده اردیبهشت ۱۴۰۰</td>\n",
              "    </tr>\n",
              "    <tr>\n",
              "      <th>2</th>\n",
              "      <td>1401/03/05</td>\n",
              "      <td>پنجم خرداد هزار و چهارصد و یک</td>\n",
              "      <td>پنج خرداد هزار و چهارصد و یک</td>\n",
              "      <td>پنج خرداد ۱۴۰۱</td>\n",
              "      <td>خرداد پنج ۱۴۰۱</td>\n",
              "      <td>پنجم خرداد ۱۴۰۱</td>\n",
              "      <td>پنجِ خرداد ۱۴۰۱</td>\n",
              "      <td>پنجم خرداد ماه ۱۴۰۱</td>\n",
              "      <td>خردادِ پنج ۱۴۰۱</td>\n",
              "      <td>پنج خرداد ۱۴۰۱</td>\n",
              "    </tr>\n",
              "    <tr>\n",
              "      <th>3</th>\n",
              "      <td>1401/04/15</td>\n",
              "      <td>پانزدهم تیر هزار و چهارصد و یک</td>\n",
              "      <td>پانزده تیر هزار و چهارصد و یک</td>\n",
              "      <td>پانزده تیر ۱۴۰۱</td>\n",
              "      <td>تیر پانزده ۱۴۰۱</td>\n",
              "      <td>پانزدهم تیر ۱۴۰۱</td>\n",
              "      <td>پانزدهِ تیر ۱۴۰۱</td>\n",
              "      <td>پانزدهم تیر ماه ۱۴۰۱</td>\n",
              "      <td>تیرِ پانزده ۱۴۰۱</td>\n",
              "      <td>پانزده تیر ۱۴۰۱</td>\n",
              "    </tr>\n",
              "    <tr>\n",
              "      <th>4</th>\n",
              "      <td>1402/05/20</td>\n",
              "      <td>بیستم مرداد هزار و چهارصد و دو</td>\n",
              "      <td>بیست مرداد هزار و چهارصد و دو</td>\n",
              "      <td>بیست مرداد ۱۴۰۲</td>\n",
              "      <td>مرداد بیست ۱۴۰۲</td>\n",
              "      <td>بیستم مرداد ۱۴۰۲</td>\n",
              "      <td>بیستِ مرداد ۱۴۰۲</td>\n",
              "      <td>بیستم مرداد ماه ۱۴۰۲</td>\n",
              "      <td>مردادِ بیست ۱۴۰۲</td>\n",
              "      <td>بیست مرداد ۱۴۰۲</td>\n",
              "    </tr>\n",
              "  </tbody>\n",
              "</table>\n",
              "</div>\n",
              "    <div class=\"colab-df-buttons\">\n",
              "\n",
              "  <div class=\"colab-df-container\">\n",
              "    <button class=\"colab-df-convert\" onclick=\"convertToInteractive('df-c9a4e4be-7375-4f45-9673-22dae0f78215')\"\n",
              "            title=\"Convert this dataframe to an interactive table.\"\n",
              "            style=\"display:none;\">\n",
              "\n",
              "  <svg xmlns=\"http://www.w3.org/2000/svg\" height=\"24px\" viewBox=\"0 -960 960 960\">\n",
              "    <path d=\"M120-120v-720h720v720H120Zm60-500h600v-160H180v160Zm220 220h160v-160H400v160Zm0 220h160v-160H400v160ZM180-400h160v-160H180v160Zm440 0h160v-160H620v160ZM180-180h160v-160H180v160Zm440 0h160v-160H620v160Z\"/>\n",
              "  </svg>\n",
              "    </button>\n",
              "\n",
              "  <style>\n",
              "    .colab-df-container {\n",
              "      display:flex;\n",
              "      gap: 12px;\n",
              "    }\n",
              "\n",
              "    .colab-df-convert {\n",
              "      background-color: #E8F0FE;\n",
              "      border: none;\n",
              "      border-radius: 50%;\n",
              "      cursor: pointer;\n",
              "      display: none;\n",
              "      fill: #1967D2;\n",
              "      height: 32px;\n",
              "      padding: 0 0 0 0;\n",
              "      width: 32px;\n",
              "    }\n",
              "\n",
              "    .colab-df-convert:hover {\n",
              "      background-color: #E2EBFA;\n",
              "      box-shadow: 0px 1px 2px rgba(60, 64, 67, 0.3), 0px 1px 3px 1px rgba(60, 64, 67, 0.15);\n",
              "      fill: #174EA6;\n",
              "    }\n",
              "\n",
              "    .colab-df-buttons div {\n",
              "      margin-bottom: 4px;\n",
              "    }\n",
              "\n",
              "    [theme=dark] .colab-df-convert {\n",
              "      background-color: #3B4455;\n",
              "      fill: #D2E3FC;\n",
              "    }\n",
              "\n",
              "    [theme=dark] .colab-df-convert:hover {\n",
              "      background-color: #434B5C;\n",
              "      box-shadow: 0px 1px 3px 1px rgba(0, 0, 0, 0.15);\n",
              "      filter: drop-shadow(0px 1px 2px rgba(0, 0, 0, 0.3));\n",
              "      fill: #FFFFFF;\n",
              "    }\n",
              "  </style>\n",
              "\n",
              "    <script>\n",
              "      const buttonEl =\n",
              "        document.querySelector('#df-c9a4e4be-7375-4f45-9673-22dae0f78215 button.colab-df-convert');\n",
              "      buttonEl.style.display =\n",
              "        google.colab.kernel.accessAllowed ? 'block' : 'none';\n",
              "\n",
              "      async function convertToInteractive(key) {\n",
              "        const element = document.querySelector('#df-c9a4e4be-7375-4f45-9673-22dae0f78215');\n",
              "        const dataTable =\n",
              "          await google.colab.kernel.invokeFunction('convertToInteractive',\n",
              "                                                    [key], {});\n",
              "        if (!dataTable) return;\n",
              "\n",
              "        const docLinkHtml = 'Like what you see? Visit the ' +\n",
              "          '<a target=\"_blank\" href=https://colab.research.google.com/notebooks/data_table.ipynb>data table notebook</a>'\n",
              "          + ' to learn more about interactive tables.';\n",
              "        element.innerHTML = '';\n",
              "        dataTable['output_type'] = 'display_data';\n",
              "        await google.colab.output.renderOutput(dataTable, element);\n",
              "        const docLink = document.createElement('div');\n",
              "        docLink.innerHTML = docLinkHtml;\n",
              "        element.appendChild(docLink);\n",
              "      }\n",
              "    </script>\n",
              "  </div>\n",
              "\n",
              "\n",
              "<div id=\"df-e4fb8f13-1a04-48f0-b0f6-570a136a66c0\">\n",
              "  <button class=\"colab-df-quickchart\" onclick=\"quickchart('df-e4fb8f13-1a04-48f0-b0f6-570a136a66c0')\"\n",
              "            title=\"Suggest charts\"\n",
              "            style=\"display:none;\">\n",
              "\n",
              "<svg xmlns=\"http://www.w3.org/2000/svg\" height=\"24px\"viewBox=\"0 0 24 24\"\n",
              "     width=\"24px\">\n",
              "    <g>\n",
              "        <path d=\"M19 3H5c-1.1 0-2 .9-2 2v14c0 1.1.9 2 2 2h14c1.1 0 2-.9 2-2V5c0-1.1-.9-2-2-2zM9 17H7v-7h2v7zm4 0h-2V7h2v10zm4 0h-2v-4h2v4z\"/>\n",
              "    </g>\n",
              "</svg>\n",
              "  </button>\n",
              "\n",
              "<style>\n",
              "  .colab-df-quickchart {\n",
              "      --bg-color: #E8F0FE;\n",
              "      --fill-color: #1967D2;\n",
              "      --hover-bg-color: #E2EBFA;\n",
              "      --hover-fill-color: #174EA6;\n",
              "      --disabled-fill-color: #AAA;\n",
              "      --disabled-bg-color: #DDD;\n",
              "  }\n",
              "\n",
              "  [theme=dark] .colab-df-quickchart {\n",
              "      --bg-color: #3B4455;\n",
              "      --fill-color: #D2E3FC;\n",
              "      --hover-bg-color: #434B5C;\n",
              "      --hover-fill-color: #FFFFFF;\n",
              "      --disabled-bg-color: #3B4455;\n",
              "      --disabled-fill-color: #666;\n",
              "  }\n",
              "\n",
              "  .colab-df-quickchart {\n",
              "    background-color: var(--bg-color);\n",
              "    border: none;\n",
              "    border-radius: 50%;\n",
              "    cursor: pointer;\n",
              "    display: none;\n",
              "    fill: var(--fill-color);\n",
              "    height: 32px;\n",
              "    padding: 0;\n",
              "    width: 32px;\n",
              "  }\n",
              "\n",
              "  .colab-df-quickchart:hover {\n",
              "    background-color: var(--hover-bg-color);\n",
              "    box-shadow: 0 1px 2px rgba(60, 64, 67, 0.3), 0 1px 3px 1px rgba(60, 64, 67, 0.15);\n",
              "    fill: var(--button-hover-fill-color);\n",
              "  }\n",
              "\n",
              "  .colab-df-quickchart-complete:disabled,\n",
              "  .colab-df-quickchart-complete:disabled:hover {\n",
              "    background-color: var(--disabled-bg-color);\n",
              "    fill: var(--disabled-fill-color);\n",
              "    box-shadow: none;\n",
              "  }\n",
              "\n",
              "  .colab-df-spinner {\n",
              "    border: 2px solid var(--fill-color);\n",
              "    border-color: transparent;\n",
              "    border-bottom-color: var(--fill-color);\n",
              "    animation:\n",
              "      spin 1s steps(1) infinite;\n",
              "  }\n",
              "\n",
              "  @keyframes spin {\n",
              "    0% {\n",
              "      border-color: transparent;\n",
              "      border-bottom-color: var(--fill-color);\n",
              "      border-left-color: var(--fill-color);\n",
              "    }\n",
              "    20% {\n",
              "      border-color: transparent;\n",
              "      border-left-color: var(--fill-color);\n",
              "      border-top-color: var(--fill-color);\n",
              "    }\n",
              "    30% {\n",
              "      border-color: transparent;\n",
              "      border-left-color: var(--fill-color);\n",
              "      border-top-color: var(--fill-color);\n",
              "      border-right-color: var(--fill-color);\n",
              "    }\n",
              "    40% {\n",
              "      border-color: transparent;\n",
              "      border-right-color: var(--fill-color);\n",
              "      border-top-color: var(--fill-color);\n",
              "    }\n",
              "    60% {\n",
              "      border-color: transparent;\n",
              "      border-right-color: var(--fill-color);\n",
              "    }\n",
              "    80% {\n",
              "      border-color: transparent;\n",
              "      border-right-color: var(--fill-color);\n",
              "      border-bottom-color: var(--fill-color);\n",
              "    }\n",
              "    90% {\n",
              "      border-color: transparent;\n",
              "      border-bottom-color: var(--fill-color);\n",
              "    }\n",
              "  }\n",
              "</style>\n",
              "\n",
              "  <script>\n",
              "    async function quickchart(key) {\n",
              "      const quickchartButtonEl =\n",
              "        document.querySelector('#' + key + ' button');\n",
              "      quickchartButtonEl.disabled = true;  // To prevent multiple clicks.\n",
              "      quickchartButtonEl.classList.add('colab-df-spinner');\n",
              "      try {\n",
              "        const charts = await google.colab.kernel.invokeFunction(\n",
              "            'suggestCharts', [key], {});\n",
              "      } catch (error) {\n",
              "        console.error('Error during call to suggestCharts:', error);\n",
              "      }\n",
              "      quickchartButtonEl.classList.remove('colab-df-spinner');\n",
              "      quickchartButtonEl.classList.add('colab-df-quickchart-complete');\n",
              "    }\n",
              "    (() => {\n",
              "      let quickchartButtonEl =\n",
              "        document.querySelector('#df-e4fb8f13-1a04-48f0-b0f6-570a136a66c0 button');\n",
              "      quickchartButtonEl.style.display =\n",
              "        google.colab.kernel.accessAllowed ? 'block' : 'none';\n",
              "    })();\n",
              "  </script>\n",
              "</div>\n",
              "\n",
              "    </div>\n",
              "  </div>\n"
            ],
            "application/vnd.google.colaboratory.intrinsic+json": {
              "type": "dataframe",
              "variable_name": "data",
              "summary": "{\n  \"name\": \"data\",\n  \"rows\": 138,\n  \"fields\": [\n    {\n      \"column\": \"Formal Date\",\n      \"properties\": {\n        \"dtype\": \"string\",\n        \"num_unique_values\": 138,\n        \"samples\": [\n          \"1341/06/20\",\n          \"1357/10/10\",\n          \"1408/01/05\"\n        ],\n        \"semantic_type\": \"\",\n        \"description\": \"\"\n      }\n    },\n    {\n      \"column\": \"Informal Date 1\",\n      \"properties\": {\n        \"dtype\": \"string\",\n        \"num_unique_values\": 138,\n        \"samples\": [\n          \"\\u0628\\u06cc\\u0633\\u062a\\u0645 \\u0634\\u0647\\u0631\\u06cc\\u0648\\u0631 \\u0647\\u0632\\u0627\\u0631 \\u0648 \\u0633\\u06cc\\u0635\\u062f \\u0648 \\u0628\\u06cc\\u0633\\u062a \\u0648 \\u06cc\\u06a9\",\n          \"\\u062f\\u0647\\u0645 \\u062f\\u06cc \\u0647\\u0632\\u0627\\u0631 \\u0648 \\u0633\\u06cc\\u0635\\u062f \\u0648 \\u0633\\u06cc \\u0648 \\u0647\\u0641\\u062a\",\n          \"\\u067e\\u0646\\u062c\\u0645 \\u0641\\u0631\\u0648\\u0631\\u062f\\u06cc\\u0646 \\u0647\\u0632\\u0627\\u0631 \\u0648 \\u0686\\u0647\\u0627\\u0631\\u0635\\u062f \\u0648 \\u0647\\u0634\\u062a\"\n        ],\n        \"semantic_type\": \"\",\n        \"description\": \"\"\n      }\n    },\n    {\n      \"column\": \"Informal Date 2\",\n      \"properties\": {\n        \"dtype\": \"string\",\n        \"num_unique_values\": 138,\n        \"samples\": [\n          \"\\u0628\\u06cc\\u0633\\u062a \\u0634\\u0647\\u0631\\u06cc\\u0648\\u0631 \\u0647\\u0632\\u0627\\u0631 \\u0648 \\u0633\\u06cc\\u0635\\u062f \\u0648 \\u0628\\u06cc\\u0633\\u062a \\u0648 \\u06cc\\u06a9\",\n          \"\\u062f\\u0647 \\u062f\\u06cc \\u0647\\u0632\\u0627\\u0631 \\u0648 \\u0633\\u06cc\\u0635\\u062f \\u0648 \\u0633\\u06cc \\u0648 \\u0647\\u0641\\u062a\",\n          \"\\u067e\\u0646\\u062c \\u0641\\u0631\\u0648\\u0631\\u062f\\u06cc\\u0646 \\u0647\\u0632\\u0627\\u0631 \\u0648 \\u0686\\u0647\\u0627\\u0631\\u0635\\u062f \\u0648 \\u0647\\u0634\\u062a\"\n        ],\n        \"semantic_type\": \"\",\n        \"description\": \"\"\n      }\n    },\n    {\n      \"column\": \"Informal Date 3\",\n      \"properties\": {\n        \"dtype\": \"string\",\n        \"num_unique_values\": 138,\n        \"samples\": [\n          \"\\u0628\\u06cc\\u0633\\u062a \\u0634\\u0647\\u0631\\u06cc\\u0648\\u0631 \\u06f1\\u06f3\\u06f4\\u06f1\",\n          \"\\u062f\\u0647 \\u062f\\u06cc \\u06f1\\u06f3\\u06f5\\u06f7\",\n          \"\\u067e\\u0646\\u062c \\u0641\\u0631\\u0648\\u0631\\u062f\\u06cc\\u0646 \\u06f1\\u06f4\\u06f0\\u06f8\"\n        ],\n        \"semantic_type\": \"\",\n        \"description\": \"\"\n      }\n    },\n    {\n      \"column\": \"Informal Date 4\",\n      \"properties\": {\n        \"dtype\": \"string\",\n        \"num_unique_values\": 138,\n        \"samples\": [\n          \"\\u0634\\u0647\\u0631\\u06cc\\u0648\\u0631 \\u0628\\u06cc\\u0633\\u062a \\u06f1\\u06f3\\u06f4\\u06f1\",\n          \"\\u062f\\u06cc \\u062f\\u0647 \\u06f1\\u06f3\\u06f5\\u06f7\",\n          \"\\u0641\\u0631\\u0648\\u0631\\u062f\\u06cc\\u0646 \\u067e\\u0646\\u062c \\u06f1\\u06f4\\u06f0\\u06f8\"\n        ],\n        \"semantic_type\": \"\",\n        \"description\": \"\"\n      }\n    },\n    {\n      \"column\": \"Informal Date 5\",\n      \"properties\": {\n        \"dtype\": \"string\",\n        \"num_unique_values\": 138,\n        \"samples\": [\n          \"\\u0628\\u06cc\\u0633\\u062a\\u0645 \\u0634\\u0647\\u0631\\u06cc\\u0648\\u0631 \\u06f1\\u06f3\\u06f4\\u06f1\",\n          \"\\u062f\\u0647\\u0645 \\u062f\\u06cc \\u06f1\\u06f3\\u06f5\\u06f7\",\n          \"\\u067e\\u0646\\u062c\\u0645 \\u0641\\u0631\\u0648\\u0631\\u062f\\u06cc\\u0646 \\u06f1\\u06f4\\u06f0\\u06f8\"\n        ],\n        \"semantic_type\": \"\",\n        \"description\": \"\"\n      }\n    },\n    {\n      \"column\": \"Informal Date 6\",\n      \"properties\": {\n        \"dtype\": \"string\",\n        \"num_unique_values\": 138,\n        \"samples\": [\n          \"\\u0628\\u06cc\\u0633\\u062a\\u0650 \\u0634\\u0647\\u0631\\u06cc\\u0648\\u0631 \\u06f1\\u06f3\\u06f4\\u06f1\",\n          \"\\u062f\\u0647\\u0650 \\u062f\\u06cc \\u06f1\\u06f3\\u06f5\\u06f7\",\n          \"\\u067e\\u0646\\u062c\\u0650 \\u0641\\u0631\\u0648\\u0631\\u062f\\u06cc\\u0646 \\u06f1\\u06f4\\u06f0\\u06f8\"\n        ],\n        \"semantic_type\": \"\",\n        \"description\": \"\"\n      }\n    },\n    {\n      \"column\": \"Informal Date 7\",\n      \"properties\": {\n        \"dtype\": \"string\",\n        \"num_unique_values\": 138,\n        \"samples\": [\n          \"\\u0628\\u06cc\\u0633\\u062a\\u0645 \\u0634\\u0647\\u0631\\u06cc\\u0648\\u0631 \\u0645\\u0627\\u0647 \\u06f1\\u06f3\\u06f4\\u06f1\",\n          \"\\u062f\\u0647\\u0645 \\u062f\\u06cc \\u0645\\u0627\\u0647 \\u06f1\\u06f3\\u06f5\\u06f7\",\n          \"\\u067e\\u0646\\u062c\\u0645 \\u0641\\u0631\\u0648\\u0631\\u062f\\u06cc\\u0646 \\u0645\\u0627\\u0647 \\u06f1\\u06f4\\u06f0\\u06f8\"\n        ],\n        \"semantic_type\": \"\",\n        \"description\": \"\"\n      }\n    },\n    {\n      \"column\": \"Informal Date 8\",\n      \"properties\": {\n        \"dtype\": \"string\",\n        \"num_unique_values\": 138,\n        \"samples\": [\n          \"\\u0634\\u0647\\u0631\\u06cc\\u0648\\u0631\\u0650 \\u0628\\u06cc\\u0633\\u062a \\u06f1\\u06f3\\u06f4\\u06f1\",\n          \"\\u062f\\u06cc\\u0650 \\u062f\\u0647 \\u06f1\\u06f3\\u06f5\\u06f7\",\n          \"\\u0641\\u0631\\u0648\\u0631\\u062f\\u06cc\\u0646\\u0650 \\u067e\\u0646\\u062c \\u06f1\\u06f4\\u06f0\\u06f8\"\n        ],\n        \"semantic_type\": \"\",\n        \"description\": \"\"\n      }\n    },\n    {\n      \"column\": \"Informal Date 9\",\n      \"properties\": {\n        \"dtype\": \"string\",\n        \"num_unique_values\": 138,\n        \"samples\": [\n          \"\\u0628\\u06cc\\u0633\\u062a \\u0634\\u0647\\u0631\\u06cc\\u0648\\u0631 \\u06f1\\u06f3\\u06f4\\u06f1\",\n          \"\\u062f\\u0647 \\u062f\\u06cc \\u06f1\\u06f3\\u06f5\\u06f7\",\n          \"\\u067e\\u0646\\u062c \\u0641\\u0631\\u0648\\u0631\\u062f\\u06cc\\u0646 \\u06f1\\u06f4\\u06f0\\u06f8\"\n        ],\n        \"semantic_type\": \"\",\n        \"description\": \"\"\n      }\n    }\n  ]\n}"
            }
          },
          "metadata": {},
          "execution_count": 4
        }
      ]
    },
    {
      "cell_type": "code",
      "source": [
        "missing_values = data.isnull().sum()\n",
        "print(\"Missing values in each column:\\n\", missing_values)"
      ],
      "metadata": {
        "colab": {
          "base_uri": "https://localhost:8080/"
        },
        "id": "SGx-2ZuaeOVR",
        "outputId": "cf9cab04-edfe-4f36-e057-412b3154f151"
      },
      "execution_count": 5,
      "outputs": [
        {
          "output_type": "stream",
          "name": "stdout",
          "text": [
            "Missing values in each column:\n",
            " Formal Date        0\n",
            "Informal Date 1    0\n",
            "Informal Date 2    0\n",
            "Informal Date 3    0\n",
            "Informal Date 4    0\n",
            "Informal Date 5    0\n",
            "Informal Date 6    0\n",
            "Informal Date 7    0\n",
            "Informal Date 8    0\n",
            "Informal Date 9    0\n",
            "dtype: int64\n"
          ]
        }
      ]
    },
    {
      "cell_type": "code",
      "source": [
        "data['Informal Dates'] = data.iloc[:, 1:].apply(lambda x: ' '.join(x.dropna()), axis=1)\n",
        "\n",
        "y = data['Formal Date']\n",
        "\n",
        "X = data['Informal Dates']"
      ],
      "metadata": {
        "id": "J2uJJzhueCey"
      },
      "execution_count": 6,
      "outputs": []
    },
    {
      "cell_type": "code",
      "source": [
        "def convert_persian_numbers(text):\n",
        "    persian_numbers = {\n",
        "        \"یک\": \"1\", \"اول\": \"1\", \"دو\": \"2\", \"سه\": \"3\", \"چهار\": \"4\", \"پنج\": \"5\",\n",
        "        \"شش\": \"6\", \"هفت\": \"7\", \"هشت\": \"8\", \"نه\": \"9\", \"ده\": \"10\",\n",
        "        \"یازده\": \"11\", \"دوازده\": \"12\", \"سیزده\": \"13\", \"چهارده\": \"14\", \"پانزده\": \"15\",\n",
        "        \"شانزده\": \"16\", \"هفده\": \"17\", \"هجده\": \"18\", \"نوزده\": \"19\",\n",
        "        \"بیست\": \"20\", \"سی\": \"30\", \"چهل\": \"40\", \"پنجاه\": \"50\", \"شصت\": \"60\",\n",
        "        \"هفتاد\": \"70\", \"هشتاد\": \"80\", \"نود\": \"90\", \"صد\": \"100\", \"هزار\": \"1000\"\n",
        "    }\n",
        "\n",
        "    def handle_compound_numbers(text):\n",
        "        compound_numbers = [\n",
        "            (\"بیست\", 20), (\"سی\", 30), (\"چهل\", 40), (\"پنجاه\", 50),\n",
        "            (\"شصت\", 60), (\"هفتاد\", 70), (\"هشتاد\", 80), (\"نود\", 90)\n",
        "        ]\n",
        "\n",
        "        for tens_word, tens_value in compound_numbers:\n",
        "\n",
        "            for unit_word, unit_value in persian_numbers.items():\n",
        "                compound_pattern = f\"{tens_word} و {unit_word}\"\n",
        "                compound_number = str(tens_value + int(unit_value))\n",
        "                text = re.sub(compound_pattern, compound_number, text)\n",
        "\n",
        "        return text\n",
        "\n",
        "    for word, digit in persian_numbers.items():\n",
        "        text = re.sub(r'\\b' + word + r'\\b', digit, text)\n",
        "\n",
        "    text = handle_compound_numbers(text)\n",
        "\n",
        "    return text"
      ],
      "metadata": {
        "id": "nGFHC5C47AP0"
      },
      "execution_count": 7,
      "outputs": []
    },
    {
      "cell_type": "code",
      "source": [
        "for col in data.columns:\n",
        "    if \"Informal Date\" in col:\n",
        "        data[col] = data[col].apply(lambda x: convert_persian_numbers(x))"
      ],
      "metadata": {
        "id": "uwmL1Qws7gIk"
      },
      "execution_count": 8,
      "outputs": []
    },
    {
      "cell_type": "code",
      "source": [
        "def preprocess_text(text):\n",
        "    text = text.lower()\n",
        "    text = re.sub(r'\\s+', ' ', text)\n",
        "    text = re.sub(r'[^\\w\\s]', '', text)\n",
        "    text = text.strip()\n",
        "    return text"
      ],
      "metadata": {
        "id": "yH43bYZYigXX"
      },
      "execution_count": 9,
      "outputs": []
    },
    {
      "cell_type": "code",
      "source": [
        "data['Informal Dates'] = data['Informal Dates'].apply(preprocess_text)"
      ],
      "metadata": {
        "id": "AxcKitlOiywV"
      },
      "execution_count": 10,
      "outputs": []
    },
    {
      "cell_type": "code",
      "source": [
        "y.shape"
      ],
      "metadata": {
        "colab": {
          "base_uri": "https://localhost:8080/"
        },
        "id": "ahjVn3J5bqYy",
        "outputId": "15927bc5-09d2-4ea0-cff4-1601080d61e5"
      },
      "execution_count": 11,
      "outputs": [
        {
          "output_type": "execute_result",
          "data": {
            "text/plain": [
              "(138,)"
            ]
          },
          "metadata": {},
          "execution_count": 11
        }
      ]
    },
    {
      "cell_type": "code",
      "source": [
        "X.shape"
      ],
      "metadata": {
        "colab": {
          "base_uri": "https://localhost:8080/"
        },
        "id": "eP4q0_iSbt-O",
        "outputId": "a87878bc-72d0-42fc-fbba-7e30191ba503"
      },
      "execution_count": 12,
      "outputs": [
        {
          "output_type": "execute_result",
          "data": {
            "text/plain": [
              "(138,)"
            ]
          },
          "metadata": {},
          "execution_count": 12
        }
      ]
    },
    {
      "cell_type": "markdown",
      "source": [
        "#Tokenazation and Encoding"
      ],
      "metadata": {
        "id": "6psFwSS5fUwH"
      }
    },
    {
      "cell_type": "code",
      "source": [
        "tokenizer = Tokenizer()\n",
        "tokenizer.fit_on_texts(X)"
      ],
      "metadata": {
        "id": "KWng1mkvek11"
      },
      "execution_count": 13,
      "outputs": []
    },
    {
      "cell_type": "code",
      "source": [
        "X_sequences = tokenizer.texts_to_sequences(X)"
      ],
      "metadata": {
        "id": "O0ce9dWte34d"
      },
      "execution_count": 38,
      "outputs": []
    },
    {
      "source": [
        "max_length = max(len(seq) for seq in X_sequences)\n",
        "X_padded = pad_sequences(X_sequences, maxlen=max_length, padding='post')\n",
        "X_padded"
      ],
      "cell_type": "code",
      "metadata": {
        "colab": {
          "base_uri": "https://localhost:8080/"
        },
        "id": "iSL8a_TDfGK1",
        "outputId": "2bba4332-d566-4fb2-b56f-4d26c6496d0b"
      },
      "execution_count": 15,
      "outputs": [
        {
          "output_type": "execute_result",
          "data": {
            "text/plain": [
              "array([[24, 10,  3, ...,  0,  0,  0],\n",
              "       [26, 12,  3, ...,  0,  0,  0],\n",
              "       [27, 13,  3, ...,  0,  0,  0],\n",
              "       ...,\n",
              "       [26, 18,  3, ...,  0,  0,  0],\n",
              "       [30, 19,  3, ...,  0,  0,  0],\n",
              "       [25, 20,  3, ...,  0,  0,  0]], dtype=int32)"
            ]
          },
          "metadata": {},
          "execution_count": 15
        }
      ]
    },
    {
      "cell_type": "code",
      "source": [
        "label_encoder = LabelEncoder()\n",
        "y_encoded = label_encoder.fit_transform(y)\n",
        "y_encoded"
      ],
      "metadata": {
        "colab": {
          "base_uri": "https://localhost:8080/"
        },
        "id": "RMcmWKgDfSz6",
        "outputId": "b1d09950-789c-4fc3-c92d-b9412107ad66"
      },
      "execution_count": 16,
      "outputs": [
        {
          "output_type": "execute_result",
          "data": {
            "text/plain": [
              "array([ 90,  91,  92,  93,  94,  95,  96,  97,  98,  99, 100, 101, 102,\n",
              "       103, 104, 105, 106, 107, 108, 109, 110, 111, 112, 113, 114, 115,\n",
              "       116, 117, 118, 119, 120, 121, 122, 123, 124, 125, 126, 127, 128,\n",
              "       129, 130, 131, 132, 133, 134, 135, 136, 137,  10,  11,  12,  13,\n",
              "        14,  15,  16,  17,  18,  19,  20,  21,  22,  23,  24,  25,  26,\n",
              "        27,  28,  29,  30,  31,  32,  33,  34,  35,  36,  37,  38,  39,\n",
              "        40,  41,  42,  43,  44,  45,  46,  47,  48,  49,  50,  51,  52,\n",
              "        53,  54,  55,  56,  57,  58,  59,  60,  61,  62,  63,  64,  65,\n",
              "        66,  67,  68,  69,  70,  71,  72,  73,  74,  75,  76,  77,  78,\n",
              "        79,  80,  81,  82,  83,  84,  85,  86,  87,  88,  89,   0,   1,\n",
              "         2,   3,   4,   5,   6,   7,   8,   9])"
            ]
          },
          "metadata": {},
          "execution_count": 16
        }
      ]
    },
    {
      "cell_type": "code",
      "source": [
        "X_train, X_test, y_train, y_test = train_test_split(X_padded, y_encoded, test_size=0.3, random_state=42)"
      ],
      "metadata": {
        "id": "-ITfNhd2feBq"
      },
      "execution_count": 17,
      "outputs": []
    },
    {
      "cell_type": "code",
      "source": [
        "X_train"
      ],
      "metadata": {
        "colab": {
          "base_uri": "https://localhost:8080/"
        },
        "id": "mgoEV1DVfftD",
        "outputId": "860fc460-ec94-4f0a-a2b6-298d987e4780"
      },
      "execution_count": 18,
      "outputs": [
        {
          "output_type": "execute_result",
          "data": {
            "text/plain": [
              "array([[ 27,  10,   3, ...,   0,   0,   0],\n",
              "       [ 26,  15,   3, ...,   0,   0,   0],\n",
              "       [  2,   1,  27, ...,   8,  21, 138],\n",
              "       ...,\n",
              "       [ 25,  13,   3, ...,   0,   0,   0],\n",
              "       [ 24,  19,   3, ...,   0,   0,   0],\n",
              "       [ 31,  17,   3, ...,   0,   0,   0]], dtype=int32)"
            ]
          },
          "metadata": {},
          "execution_count": 18
        }
      ]
    },
    {
      "cell_type": "code",
      "source": [
        "y_train"
      ],
      "metadata": {
        "colab": {
          "base_uri": "https://localhost:8080/"
        },
        "id": "fZU81TAZfiej",
        "outputId": "01685348-8321-499c-d290-3666af3aaf4d"
      },
      "execution_count": 19,
      "outputs": [
        {
          "output_type": "execute_result",
          "data": {
            "text/plain": [
              "array([ 22,  86,  56, 134, 105,  81, 129, 112,  17,   1,  60, 137, 120,\n",
              "        43,   5,  99, 123,  72, 115,  46,  24, 118,  28,  31,  15,  95,\n",
              "        40,  45,  11, 125, 124,  57,  97, 133,  32,  44,  77,   2,  98,\n",
              "       103,  62,  93, 107, 128,  34,  74,  96,  55,  85,  76,  16,  12,\n",
              "        58, 136,  59,  23,   7,  41,  75,  53, 131,  20,  52,  10,  50,\n",
              "        80,  84,  19,  37, 122,   4,  21,  25,  82, 127, 119,  69,   0,\n",
              "        91,  14, 111,  92, 113,  65,  61,  78,  49,  36,  83,   9, 110,\n",
              "        33,  68, 104,  54,  64])"
            ]
          },
          "metadata": {},
          "execution_count": 19
        }
      ]
    },
    {
      "cell_type": "code",
      "source": [
        "print(\"Shape of X_train:\", X_train.shape)\n",
        "print(\"Shape of y_train:\", y_train.shape)\n",
        "print(\"Shape of X_test:\", X_test.shape)\n",
        "print(\"Shape of y_test:\", y_test.shape)"
      ],
      "metadata": {
        "colab": {
          "base_uri": "https://localhost:8080/"
        },
        "id": "w6j13aW7gJOu",
        "outputId": "494bb7b8-1d6e-4072-dd59-a263ae2dddc5"
      },
      "execution_count": 20,
      "outputs": [
        {
          "output_type": "stream",
          "name": "stdout",
          "text": [
            "Shape of X_train: (96, 58)\n",
            "Shape of y_train: (96,)\n",
            "Shape of X_test: (42, 58)\n",
            "Shape of y_test: (42,)\n"
          ]
        }
      ]
    },
    {
      "cell_type": "markdown",
      "source": [
        "# Building and Training the model"
      ],
      "metadata": {
        "id": "SiWr6L7Nh6ci"
      }
    },
    {
      "cell_type": "code",
      "source": [
        "reduce_lr = ReduceLROnPlateau(monitor='val_loss', factor=0.2, patience=3, min_lr=1e-5)"
      ],
      "metadata": {
        "id": "LrwevXwjKSYh"
      },
      "execution_count": 21,
      "outputs": []
    },
    {
      "cell_type": "code",
      "source": [
        "early_stopping = EarlyStopping(monitor='val_loss', patience=5, restore_best_weights=True)"
      ],
      "metadata": {
        "id": "Wzj-Ije2LzZ8"
      },
      "execution_count": 22,
      "outputs": []
    },
    {
      "cell_type": "code",
      "source": [
        "model = Sequential()\n",
        "model.add(Embedding(input_dim=len(tokenizer.word_index) + 1, output_dim=128, input_length=max_length))\n",
        "\n",
        "model.add(Bidirectional(LSTM(64, return_sequences=True, kernel_regularizer=l2(0.001))))\n",
        "model.add(Dropout(0.4))\n",
        "\n",
        "model.add(Bidirectional(LSTM(32, kernel_regularizer=l2(0.001))))\n",
        "model.add(Dropout(0.4))\n",
        "\n",
        "model.add(Dense(len(label_encoder.classes_), activation='softmax'))"
      ],
      "metadata": {
        "colab": {
          "base_uri": "https://localhost:8080/"
        },
        "id": "F3wZOtpVh-98",
        "outputId": "98692246-5c0e-485d-e35d-f9f3172295b9"
      },
      "execution_count": 23,
      "outputs": [
        {
          "output_type": "stream",
          "name": "stderr",
          "text": [
            "/usr/local/lib/python3.10/dist-packages/keras/src/layers/core/embedding.py:90: UserWarning: Argument `input_length` is deprecated. Just remove it.\n",
            "  warnings.warn(\n"
          ]
        }
      ]
    },
    {
      "cell_type": "code",
      "source": [
        "adam_optimizer = Adam()"
      ],
      "metadata": {
        "id": "rSRjm5BRBSAx"
      },
      "execution_count": 24,
      "outputs": []
    },
    {
      "cell_type": "code",
      "source": [
        "model.compile(loss='sparse_categorical_crossentropy', optimizer=Adam(learning_rate=1e-3), metrics=['accuracy'])"
      ],
      "metadata": {
        "id": "HqR_QP7JiKrV"
      },
      "execution_count": 25,
      "outputs": []
    },
    {
      "cell_type": "code",
      "source": [
        "model.summary()"
      ],
      "metadata": {
        "colab": {
          "base_uri": "https://localhost:8080/",
          "height": 321
        },
        "id": "owE14lQOiCsz",
        "outputId": "05036d0f-74fb-4b2b-d043-c40b9da24deb"
      },
      "execution_count": 26,
      "outputs": [
        {
          "output_type": "display_data",
          "data": {
            "text/plain": [
              "\u001b[1mModel: \"sequential\"\u001b[0m\n"
            ],
            "text/html": [
              "<pre style=\"white-space:pre;overflow-x:auto;line-height:normal;font-family:Menlo,'DejaVu Sans Mono',consolas,'Courier New',monospace\"><span style=\"font-weight: bold\">Model: \"sequential\"</span>\n",
              "</pre>\n"
            ]
          },
          "metadata": {}
        },
        {
          "output_type": "display_data",
          "data": {
            "text/plain": [
              "┏━━━━━━━━━━━━━━━━━━━━━━━━━━━━━━━━━━━━━━┳━━━━━━━━━━━━━━━━━━━━━━━━━━━━━┳━━━━━━━━━━━━━━━━━┓\n",
              "┃\u001b[1m \u001b[0m\u001b[1mLayer (type)                        \u001b[0m\u001b[1m \u001b[0m┃\u001b[1m \u001b[0m\u001b[1mOutput Shape               \u001b[0m\u001b[1m \u001b[0m┃\u001b[1m \u001b[0m\u001b[1m        Param #\u001b[0m\u001b[1m \u001b[0m┃\n",
              "┡━━━━━━━━━━━━━━━━━━━━━━━━━━━━━━━━━━━━━━╇━━━━━━━━━━━━━━━━━━━━━━━━━━━━━╇━━━━━━━━━━━━━━━━━┩\n",
              "│ embedding (\u001b[38;5;33mEmbedding\u001b[0m)                │ ?                           │     \u001b[38;5;34m0\u001b[0m (unbuilt) │\n",
              "├──────────────────────────────────────┼─────────────────────────────┼─────────────────┤\n",
              "│ bidirectional (\u001b[38;5;33mBidirectional\u001b[0m)        │ ?                           │     \u001b[38;5;34m0\u001b[0m (unbuilt) │\n",
              "├──────────────────────────────────────┼─────────────────────────────┼─────────────────┤\n",
              "│ dropout (\u001b[38;5;33mDropout\u001b[0m)                    │ ?                           │     \u001b[38;5;34m0\u001b[0m (unbuilt) │\n",
              "├──────────────────────────────────────┼─────────────────────────────┼─────────────────┤\n",
              "│ bidirectional_1 (\u001b[38;5;33mBidirectional\u001b[0m)      │ ?                           │     \u001b[38;5;34m0\u001b[0m (unbuilt) │\n",
              "├──────────────────────────────────────┼─────────────────────────────┼─────────────────┤\n",
              "│ dropout_1 (\u001b[38;5;33mDropout\u001b[0m)                  │ ?                           │     \u001b[38;5;34m0\u001b[0m (unbuilt) │\n",
              "├──────────────────────────────────────┼─────────────────────────────┼─────────────────┤\n",
              "│ dense (\u001b[38;5;33mDense\u001b[0m)                        │ ?                           │     \u001b[38;5;34m0\u001b[0m (unbuilt) │\n",
              "└──────────────────────────────────────┴─────────────────────────────┴─────────────────┘\n"
            ],
            "text/html": [
              "<pre style=\"white-space:pre;overflow-x:auto;line-height:normal;font-family:Menlo,'DejaVu Sans Mono',consolas,'Courier New',monospace\">┏━━━━━━━━━━━━━━━━━━━━━━━━━━━━━━━━━━━━━━┳━━━━━━━━━━━━━━━━━━━━━━━━━━━━━┳━━━━━━━━━━━━━━━━━┓\n",
              "┃<span style=\"font-weight: bold\"> Layer (type)                         </span>┃<span style=\"font-weight: bold\"> Output Shape                </span>┃<span style=\"font-weight: bold\">         Param # </span>┃\n",
              "┡━━━━━━━━━━━━━━━━━━━━━━━━━━━━━━━━━━━━━━╇━━━━━━━━━━━━━━━━━━━━━━━━━━━━━╇━━━━━━━━━━━━━━━━━┩\n",
              "│ embedding (<span style=\"color: #0087ff; text-decoration-color: #0087ff\">Embedding</span>)                │ ?                           │     <span style=\"color: #00af00; text-decoration-color: #00af00\">0</span> (unbuilt) │\n",
              "├──────────────────────────────────────┼─────────────────────────────┼─────────────────┤\n",
              "│ bidirectional (<span style=\"color: #0087ff; text-decoration-color: #0087ff\">Bidirectional</span>)        │ ?                           │     <span style=\"color: #00af00; text-decoration-color: #00af00\">0</span> (unbuilt) │\n",
              "├──────────────────────────────────────┼─────────────────────────────┼─────────────────┤\n",
              "│ dropout (<span style=\"color: #0087ff; text-decoration-color: #0087ff\">Dropout</span>)                    │ ?                           │     <span style=\"color: #00af00; text-decoration-color: #00af00\">0</span> (unbuilt) │\n",
              "├──────────────────────────────────────┼─────────────────────────────┼─────────────────┤\n",
              "│ bidirectional_1 (<span style=\"color: #0087ff; text-decoration-color: #0087ff\">Bidirectional</span>)      │ ?                           │     <span style=\"color: #00af00; text-decoration-color: #00af00\">0</span> (unbuilt) │\n",
              "├──────────────────────────────────────┼─────────────────────────────┼─────────────────┤\n",
              "│ dropout_1 (<span style=\"color: #0087ff; text-decoration-color: #0087ff\">Dropout</span>)                  │ ?                           │     <span style=\"color: #00af00; text-decoration-color: #00af00\">0</span> (unbuilt) │\n",
              "├──────────────────────────────────────┼─────────────────────────────┼─────────────────┤\n",
              "│ dense (<span style=\"color: #0087ff; text-decoration-color: #0087ff\">Dense</span>)                        │ ?                           │     <span style=\"color: #00af00; text-decoration-color: #00af00\">0</span> (unbuilt) │\n",
              "└──────────────────────────────────────┴─────────────────────────────┴─────────────────┘\n",
              "</pre>\n"
            ]
          },
          "metadata": {}
        },
        {
          "output_type": "display_data",
          "data": {
            "text/plain": [
              "\u001b[1m Total params: \u001b[0m\u001b[38;5;34m0\u001b[0m (0.00 B)\n"
            ],
            "text/html": [
              "<pre style=\"white-space:pre;overflow-x:auto;line-height:normal;font-family:Menlo,'DejaVu Sans Mono',consolas,'Courier New',monospace\"><span style=\"font-weight: bold\"> Total params: </span><span style=\"color: #00af00; text-decoration-color: #00af00\">0</span> (0.00 B)\n",
              "</pre>\n"
            ]
          },
          "metadata": {}
        },
        {
          "output_type": "display_data",
          "data": {
            "text/plain": [
              "\u001b[1m Trainable params: \u001b[0m\u001b[38;5;34m0\u001b[0m (0.00 B)\n"
            ],
            "text/html": [
              "<pre style=\"white-space:pre;overflow-x:auto;line-height:normal;font-family:Menlo,'DejaVu Sans Mono',consolas,'Courier New',monospace\"><span style=\"font-weight: bold\"> Trainable params: </span><span style=\"color: #00af00; text-decoration-color: #00af00\">0</span> (0.00 B)\n",
              "</pre>\n"
            ]
          },
          "metadata": {}
        },
        {
          "output_type": "display_data",
          "data": {
            "text/plain": [
              "\u001b[1m Non-trainable params: \u001b[0m\u001b[38;5;34m0\u001b[0m (0.00 B)\n"
            ],
            "text/html": [
              "<pre style=\"white-space:pre;overflow-x:auto;line-height:normal;font-family:Menlo,'DejaVu Sans Mono',consolas,'Courier New',monospace\"><span style=\"font-weight: bold\"> Non-trainable params: </span><span style=\"color: #00af00; text-decoration-color: #00af00\">0</span> (0.00 B)\n",
              "</pre>\n"
            ]
          },
          "metadata": {}
        }
      ]
    },
    {
      "cell_type": "code",
      "source": [
        "early_stopping = EarlyStopping(monitor='val_loss', patience=5, restore_best_weights=True)\n",
        "reduce_lr = ReduceLROnPlateau(monitor='val_loss', factor=0.2, patience=3, min_lr=1e-5)"
      ],
      "metadata": {
        "id": "e2rl_FieO3Cn"
      },
      "execution_count": 27,
      "outputs": []
    },
    {
      "cell_type": "code",
      "source": [
        "class_weights = compute_class_weight('balanced', classes=np.unique(y_train), y=y_train)\n",
        "class_weights_dict = dict(enumerate(class_weights))\n",
        "\n",
        "history = model.fit(X_train, y_train, validation_data=(X_test, y_test), epochs=100, batch_size=16,\n",
        "                    class_weight=class_weights_dict, callbacks=[early_stopping, reduce_lr])"
      ],
      "metadata": {
        "colab": {
          "base_uri": "https://localhost:8080/"
        },
        "id": "aMX9FfeOiPFh",
        "outputId": "5215a1f8-2c10-46bf-91d5-5de5b88e1c01"
      },
      "execution_count": 34,
      "outputs": [
        {
          "output_type": "stream",
          "name": "stdout",
          "text": [
            "Epoch 1/100\n",
            "\u001b[1m6/6\u001b[0m \u001b[32m━━━━━━━━━━━━━━━━━━━━\u001b[0m\u001b[37m\u001b[0m \u001b[1m1s\u001b[0m 106ms/step - accuracy: 0.0318 - loss: 4.6505 - val_accuracy: 0.0000e+00 - val_loss: 6.0725 - learning_rate: 1.0000e-05\n",
            "Epoch 2/100\n",
            "\u001b[1m6/6\u001b[0m \u001b[32m━━━━━━━━━━━━━━━━━━━━\u001b[0m\u001b[37m\u001b[0m \u001b[1m1s\u001b[0m 94ms/step - accuracy: 0.0586 - loss: 4.7447 - val_accuracy: 0.0000e+00 - val_loss: 6.0707 - learning_rate: 1.0000e-05\n",
            "Epoch 3/100\n",
            "\u001b[1m6/6\u001b[0m \u001b[32m━━━━━━━━━━━━━━━━━━━━\u001b[0m\u001b[37m\u001b[0m \u001b[1m1s\u001b[0m 94ms/step - accuracy: 0.0234 - loss: 4.6617 - val_accuracy: 0.0000e+00 - val_loss: 6.0645 - learning_rate: 1.0000e-05\n",
            "Epoch 4/100\n",
            "\u001b[1m6/6\u001b[0m \u001b[32m━━━━━━━━━━━━━━━━━━━━\u001b[0m\u001b[37m\u001b[0m \u001b[1m1s\u001b[0m 109ms/step - accuracy: 0.0070 - loss: 4.7064 - val_accuracy: 0.0000e+00 - val_loss: 6.0553 - learning_rate: 1.0000e-05\n",
            "Epoch 5/100\n",
            "\u001b[1m6/6\u001b[0m \u001b[32m━━━━━━━━━━━━━━━━━━━━\u001b[0m\u001b[37m\u001b[0m \u001b[1m3s\u001b[0m 351ms/step - accuracy: 0.0107 - loss: 4.6675 - val_accuracy: 0.0000e+00 - val_loss: 6.0530 - learning_rate: 1.0000e-05\n",
            "Epoch 6/100\n",
            "\u001b[1m6/6\u001b[0m \u001b[32m━━━━━━━━━━━━━━━━━━━━\u001b[0m\u001b[37m\u001b[0m \u001b[1m2s\u001b[0m 304ms/step - accuracy: 0.0100 - loss: 4.6967 - val_accuracy: 0.0000e+00 - val_loss: 6.0668 - learning_rate: 1.0000e-05\n",
            "Epoch 7/100\n",
            "\u001b[1m6/6\u001b[0m \u001b[32m━━━━━━━━━━━━━━━━━━━━\u001b[0m\u001b[37m\u001b[0m \u001b[1m2s\u001b[0m 222ms/step - accuracy: 0.0177 - loss: 4.6973 - val_accuracy: 0.0000e+00 - val_loss: 6.0682 - learning_rate: 1.0000e-05\n",
            "Epoch 8/100\n",
            "\u001b[1m6/6\u001b[0m \u001b[32m━━━━━━━━━━━━━━━━━━━━\u001b[0m\u001b[37m\u001b[0m \u001b[1m2s\u001b[0m 126ms/step - accuracy: 0.0159 - loss: 4.7257 - val_accuracy: 0.0000e+00 - val_loss: 6.0707 - learning_rate: 1.0000e-05\n",
            "Epoch 9/100\n",
            "\u001b[1m6/6\u001b[0m \u001b[32m━━━━━━━━━━━━━━━━━━━━\u001b[0m\u001b[37m\u001b[0m \u001b[1m1s\u001b[0m 117ms/step - accuracy: 0.0777 - loss: 4.6225 - val_accuracy: 0.0000e+00 - val_loss: 6.0787 - learning_rate: 1.0000e-05\n",
            "Epoch 10/100\n",
            "\u001b[1m6/6\u001b[0m \u001b[32m━━━━━━━━━━━━━━━━━━━━\u001b[0m\u001b[37m\u001b[0m \u001b[1m1s\u001b[0m 92ms/step - accuracy: 0.0424 - loss: 4.6936 - val_accuracy: 0.0000e+00 - val_loss: 6.0825 - learning_rate: 1.0000e-05\n"
          ]
        }
      ]
    },
    {
      "cell_type": "markdown",
      "source": [
        "#Prediction"
      ],
      "metadata": {
        "id": "9GkRSNXJjWEu"
      }
    },
    {
      "cell_type": "code",
      "source": [
        "def predict_formal_date(informal_date):\n",
        "    seq = tokenizer.texts_to_sequences([preprocess_text(informal_date)])\n",
        "    padded = pad_sequences(seq, maxlen=max_length, padding='post')\n",
        "    pred = model.predict(padded)\n",
        "    return label_encoder.inverse_transform([np.argmax(pred)])"
      ],
      "metadata": {
        "id": "DmSki4GdiXNF"
      },
      "execution_count": 35,
      "outputs": []
    },
    {
      "cell_type": "code",
      "source": [
        "new_informal_date = \"دهم اردیبهشت هزار و چهارصد\"\n",
        "predicted_date = predict_formal_date(new_informal_date)\n",
        "print(f\"Predicted formal date: {predicted_date[0]}\")"
      ],
      "metadata": {
        "colab": {
          "base_uri": "https://localhost:8080/"
        },
        "id": "gDqYKE3ZiZ1E",
        "outputId": "2cc2de5f-8053-4edf-c2e4-9328faddaf31"
      },
      "execution_count": 37,
      "outputs": [
        {
          "output_type": "stream",
          "name": "stdout",
          "text": [
            "\u001b[1m1/1\u001b[0m \u001b[32m━━━━━━━━━━━━━━━━━━━━\u001b[0m\u001b[37m\u001b[0m \u001b[1m0s\u001b[0m 31ms/step\n",
            "Predicted formal date: 1300/01/01\n"
          ]
        }
      ]
    }
  ]
}